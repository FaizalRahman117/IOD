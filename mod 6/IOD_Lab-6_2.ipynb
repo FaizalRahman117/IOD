{
 "cells": [
  {
   "cell_type": "markdown",
   "metadata": {
    "colab_type": "text",
    "id": "-GdLTXyzcDIE"
   },
   "source": [
    "<div>\n",
    "<img src=https://www.institutedata.com/wp-content/uploads/2019/10/iod_h_tp_primary_c.svg width=\"300\">\n",
    "</div>"
   ]
  },
  {
   "cell_type": "markdown",
   "metadata": {
    "colab_type": "text",
    "id": "S6YUpexPcDIH"
   },
   "source": [
    "# Lab 6.2: K-Means bad cases\n",
    "\n",
    "INSTRUCTIONS:\n",
    "\n",
    "- Replace the `___` with proper code to run the cells\n",
    "- Observe and understand the results\n",
    "- Answer the questions"
   ]
  },
  {
   "cell_type": "code",
   "execution_count": 0,
   "metadata": {
    "colab": {},
    "colab_type": "code",
    "id": "zum-RbNDcDII"
   },
   "outputs": [],
   "source": [
    "## Import Libraries\n",
    "import numpy as np\n",
    "import pandas as pd\n",
    "\n",
    "%matplotlib inline\n",
    "import matplotlib.pyplot as plt\n",
    "\n",
    "# from sklearn import datasets\n",
    "from sklearn.datasets import make_circles\n",
    "import seaborn as sns"
   ]
  },
  {
   "cell_type": "code",
   "execution_count": 0,
   "metadata": {
    "colab": {},
    "colab_type": "code",
    "id": "ZAW0It7ZcDIO"
   },
   "outputs": [],
   "source": [
    "## Create random data points (circles)\n",
    "X1, _ = make_circles(n_samples = 400, factor = 0.3, noise = 0.05)"
   ]
  },
  {
   "cell_type": "code",
   "execution_count": 0,
   "metadata": {
    "colab": {},
    "colab_type": "code",
    "id": "sdtBepK7cDIT"
   },
   "outputs": [],
   "source": [
    "# Declare the columns names\n",
    "columns = 'A B'.split()\n",
    "\n",
    "# Load the dataset as a pandas data frame\n",
    "X = pd.DataFrame(X1, columns = columns)"
   ]
  },
  {
   "cell_type": "code",
   "execution_count": 0,
   "metadata": {
    "colab": {},
    "colab_type": "code",
    "id": "gIBRCis9cDIX"
   },
   "outputs": [],
   "source": [
    "## Check data\n",
    "print('X is a %s' % type(X))\n",
    "print('X has %d rows and %d columns' % X.shape)\n",
    "print('Basic Statistics about X%s' % ('_'*50))\n",
    "print(X.describe())\n",
    "print('')\n",
    "print('Sample of X%s' % ('_'*50))\n",
    "print(X.head())"
   ]
  },
  {
   "cell_type": "code",
   "execution_count": 0,
   "metadata": {
    "colab": {},
    "colab_type": "code",
    "id": "7FE7qadJcDIa"
   },
   "outputs": [],
   "source": [
    "sbn.pairplot(X)\n",
    "plt.show()"
   ]
  },
  {
   "cell_type": "markdown",
   "metadata": {
    "colab_type": "text",
    "id": "DGuCuMLhcDIf"
   },
   "source": [
    "### Question: What are other important things to know about the data? Comment on:\n",
    "- Types\n",
    "- Availability\n",
    "- Dispersion and Distribution\n",
    "\n",
    "### Question: Which features could/should be used to cluster the data points?"
   ]
  },
  {
   "cell_type": "code",
   "execution_count": 0,
   "metadata": {
    "colab": {},
    "colab_type": "code",
    "id": "ff-KC1BjcDIg"
   },
   "outputs": [],
   "source": [
    "# Create new centroids randomly for all the K clusters including all dimensions\n",
    "def create_centroids(K, features):\n",
    "    \n",
    "    centroids = [] # start with No centroids\n",
    "    \n",
    "    for i in range(K): # need one centroid for each cluster\n",
    "        \n",
    "        dimensions = [] # it can be multi-dimensional\n",
    "        for f in features:\n",
    "            # create a random number between the minimum and maximum of each feature\n",
    "            x = np.random.uniform(X[f].min(), X[f].max())\n",
    "            dimensions.append(x)\n",
    "        \n",
    "        centroids.append(dimensions) # add all dimensions for the centroids of each cluster\n",
    "\n",
    "    return centroids"
   ]
  },
  {
   "cell_type": "code",
   "execution_count": 0,
   "metadata": {
    "colab": {},
    "colab_type": "code",
    "id": "FFa35N4FcDIj"
   },
   "outputs": [],
   "source": [
    "# Identify the closest centroid for a given data point\n",
    "def closest_centroid(x, centroids):\n",
    "    distances = []\n",
    "    # convert x to a numpy.array; x contains all the features of a data point\n",
    "    p = np.array(x)\n",
    "    for c in centroids:\n",
    "        # convert c to a numpy.array; c contains the coordinates for all the features\n",
    "        q = np.array(c)\n",
    "        # calculate the Euclidean distance between data point `x` and centroid `c`\n",
    "        d = np.sqrt( ( (p - q) ** 2 ).sum() )\n",
    "        # add the distance for each centroid\n",
    "        distances.append(d)\n",
    "\n",
    "    # return the position (cluster) which has the smallest distance\n",
    "    return np.array(distances).argmin()"
   ]
  },
  {
   "cell_type": "code",
   "execution_count": 0,
   "metadata": {
    "colab": {},
    "colab_type": "code",
    "id": "dVO4L9UVcDIl"
   },
   "outputs": [],
   "source": [
    "# recalculate all the centroids based on the mean of the members of each cluster\n",
    "def update_centroid(X, y, centroids):\n",
    "    c = []\n",
    "    for i in range(len(centroids)): # for each of the existing centroids\n",
    "        \n",
    "        # check if any object was assigned to a cluster\n",
    "        if X[y == i].shape[0]:\n",
    "            dimensions = []\n",
    "            for f in X.columns: # for all the features\n",
    "                x = X[f][y == i].mean() # calculate the mean\n",
    "                dimensions.append(x)\n",
    "            c.append(dimensions)\n",
    "        \n",
    "        else: # if a cluster got no members\n",
    "            #print('Keep', y, i)\n",
    "            c.append(centroids[i]) # keep the previous coordinates\n",
    "\n",
    "    return c"
   ]
  },
  {
   "cell_type": "code",
   "execution_count": 0,
   "metadata": {
    "colab": {},
    "colab_type": "code",
    "id": "UPfLWXmrcDIo"
   },
   "outputs": [],
   "source": [
    "# plot a chart of the data points and centroids either generic or identifying the clusters\n",
    "# NOTE: for visualisation purposes, only consider the first two features\n",
    "def plot_data(ax, X, y, centroids, title, show_clusters=False):\n",
    "        \n",
    "    # unpack the coordinates of the centroids\n",
    "    a = [z[0] for z in centroids]\n",
    "    b = [z[1] for z in centroids]\n",
    "\n",
    "    # show distinct colours if asked to identify the clusters\n",
    "    if show_clusters:\n",
    "        colours = 'rgbykcm'\n",
    "        for i in range(len(centroids)):\n",
    "            ax.scatter(X[features[0]][y == i], X[features[1]][y == i], c = colours[i], label = 'Cluster %d' % i)\n",
    "    # show data points without cluster identification\n",
    "    else:\n",
    "        ax.scatter(X[features[0]], X[features[1]], label = 'Data Point')\n",
    "        \n",
    "    # label\n",
    "    ax.set_xlabel(features[0])\n",
    "    ax.set_ylabel(features[1])\n",
    "    ax.set_title(title)\n",
    "\n",
    "    # identify the centroids\n",
    "    ax.scatter(a, b, c = 'k', linewidths = 5, marker = 'x', label = 'Centroid')\n",
    "    for i in range(len(centroids)):\n",
    "        c = colours[i] if show_clusters else 'k'\n",
    "        ax.axvline(x = a[i], color = c, linestyle = '--', linewidth = 1)\n",
    "        ax.axhline(y = b[i], color = c, linestyle = '--', linewidth = 1)\n",
    "    \n",
    "    # create a text to show the centroids' coordinates\n",
    "    t = '\\n'.join(['%d: (%.2f, %.2f)' % (i, a, b) for (i, (a, b)) in enumerate(centroids)])\n",
    "    ax.text(0.69, -1.1, t)\n",
    "    ax.legend(loc=2)"
   ]
  },
  {
   "cell_type": "code",
   "execution_count": 0,
   "metadata": {
    "colab": {},
    "colab_type": "code",
    "id": "ZfFtsedtcDIs",
    "scrolled": false
   },
   "outputs": [],
   "source": [
    "## K_Means\n",
    "## Note that the comments match the outlined K-Means Algorithm in the presentation\n",
    "\n",
    "# 1. Define the number of clusters `K`\n",
    "K = ___ # choose different values for `K`\n",
    "\n",
    "# list the features to be used\n",
    "features = ['A', 'B']\n",
    "\n",
    "# 2. Select `K` cluster centres randomly\n",
    "centroids = create_centroids(K, features)\n",
    "print(\"Initial centroids: \\n{}\".format('\\n'.join(['(%.2f, %.2f)' % (c[0], c[1]) for c in centroids])))\n",
    "\n",
    "# plot the data points and initial centroids (the 'Before')\n",
    "fig, axes = plt.subplots(nrows = 1, ncols = 2, figsize = (18, 8))\n",
    "plot_data(axes[0], X[features], None, centroids, title=\"Initial\")\n",
    "\n",
    "# repeat until makes no moves\n",
    "while True:\n",
    "    # 3. Calculate the distance between each data point and cluster centres\n",
    "    # 4. Assign the data point to the cluster whose distance from its centre is minimum\n",
    "    y = X[features].apply(lambda x: closest_centroid(x, centroids), axis = 1).values\n",
    "    #print(y)\n",
    "    \n",
    "    # move the known assignment be the previous state, for post comparison\n",
    "    old_c = centroids.copy()\n",
    "    \n",
    "    # 5. Recalculate all new cluster centres by averaging the objects of each cluster\n",
    "    centroids = update_centroid(X[features], y, centroids)\n",
    "    \n",
    "    # 6. Repeat steps 3 to 5 until the centroids do not change\n",
    "    if old_c == centroids:\n",
    "        break\n",
    "    \n",
    "    # 7. For debugging\n",
    "    if show_steps:\n",
    "        print(\"Step {}\".format(step))\n",
    "        print('\\n'.join(['(%.2f, %.2f)' % (c[0], c[1]) for c in centroids]))\n",
    "    step += 1\n",
    "    \n",
    "# plot the data points identified by cluster and final centroids (the 'After')\n",
    "plot_data(axes[1], X[features], y, centroids, title=\"Final\", show_clusters=True)\n",
    "plt.show()\n",
    "print(\"Final centroids: \\n{}\".format('\\n'.join(['(%.2f, %.2f)' % (c[0], c[1]) for c in centroids])))"
   ]
  },
  {
   "cell_type": "markdown",
   "metadata": {
    "colab_type": "text",
    "id": "0FgcU4k7cDIv"
   },
   "source": [
    "### Question: What happens if the algorithm is run multiple times?\n",
    "### Question: What happens if `K` is changed?"
   ]
  },
  {
   "cell_type": "markdown",
   "metadata": {
    "colab_type": "text",
    "id": "RERADKgNFq9T"
   },
   "source": [
    "© 2019 Institute of Data"
   ]
  }
 ],
 "metadata": {
  "colab": {
   "collapsed_sections": [],
   "name": "DSIA Lab-6_2.ipynb",
   "provenance": []
  },
  "kernelspec": {
   "display_name": "Python 3",
   "language": "python",
   "name": "python3"
  },
  "language_info": {
   "codemirror_mode": {
    "name": "ipython",
    "version": 3
   },
   "file_extension": ".py",
   "mimetype": "text/x-python",
   "name": "python",
   "nbconvert_exporter": "python",
   "pygments_lexer": "ipython3",
   "version": "3.7.4"
  },
  "toc": {
   "base_numbering": 1,
   "nav_menu": {},
   "number_sections": true,
   "sideBar": true,
   "skip_h1_title": false,
   "title_cell": "Table of Contents",
   "title_sidebar": "Contents",
   "toc_cell": false,
   "toc_position": {},
   "toc_section_display": true,
   "toc_window_display": true
  }
 },
 "nbformat": 4,
 "nbformat_minor": 1
}
