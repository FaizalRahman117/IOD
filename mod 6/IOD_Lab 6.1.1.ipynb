{
 "cells": [
  {
   "cell_type": "markdown",
   "metadata": {
    "colab_type": "text",
    "id": "9buSDVQSZdoN"
   },
   "source": [
    "<div>\n",
    "<img src=https://www.institutedata.com/wp-content/uploads/2019/10/iod_h_tp_primary_c.svg width=\"300\">\n",
    "</div>"
   ]
  },
  {
   "cell_type": "markdown",
   "metadata": {
    "colab_type": "text",
    "id": "o59uK883ZdoO"
   },
   "source": [
    "# Lab 6.1.1: K-Means by the algorithm\n",
    "\n",
    "### Australian athletes data set\n",
    "\n",
    "##### Description\n",
    "These data were collected in a study of how data on various characteristics of the bloood varied with sport body size and sex of the athlete.\n",
    "\n",
    "Usage\n",
    "data(ais)\n",
    "Format\n",
    "A data frame with 202 observations on the following 13 variables.\n",
    "\n",
    "rcc\n",
    "red blood cell count, in\n",
    "\n",
    "wcc\n",
    "while blood cell count, in per liter\n",
    "\n",
    "hc\n",
    "hematocrit, percent\n",
    "\n",
    "hg\n",
    "hemaglobin concentration, in g per decaliter\n",
    "\n",
    "ferr\n",
    "plasma ferritins, ng\n",
    "\n",
    "bmi\n",
    "Body mass index, kg\n",
    "\n",
    "ssf\n",
    "sum of skin folds\n",
    "\n",
    "pcBfat\n",
    "percent Body fat\n",
    "\n",
    "lbm\n",
    "lean body mass, kg\n",
    "\n",
    "ht\n",
    "height, cm\n",
    "\n",
    "wt\n",
    "weight, kg\n",
    "\n",
    "sex\n",
    "a factor with levels f m\n",
    "\n",
    "sport\n",
    "a factor with levels B_Ball Field Gym Netball Row Swim T_400m T_Sprnt Tennis W_Polo\n",
    "\n",
    "Details\n",
    "Do blood hemoglobin concentrations of athletes in endurance-related events differ from those in power-related events?\n",
    "\n",
    "Source\n",
    "These data were the basis for the analyses that are reported in Telford and Cunningham (1991).\n",
    "\n",
    "References\n",
    "Telford, R.D. and Cunningham, R.B. 1991. Sex, sport and body-size dependency of hematology in highly trained athletes. Medicine and Science in Sports and Exercise 23: 788-794.\n",
    "\n",
    "**References**\n",
    "\n",
    "[Data](http://vincentarelbundock.github.io/Rdatasets/csv/DAAG/ais.csv)\n",
    "\n",
    "[Data Dictionary](http://vincentarelbundock.github.io/Rdatasets/doc/DAAG/ais.html)"
   ]
  },
  {
   "cell_type": "code",
   "execution_count": 0,
   "metadata": {
    "colab": {},
    "colab_type": "code",
    "id": "I5rfFoKjZdoP"
   },
   "outputs": [],
   "source": [
    "# IMPORT LIBRARIES"
   ]
  },
  {
   "cell_type": "markdown",
   "metadata": {
    "colab_type": "text",
    "id": "PSGo77oGZdoT"
   },
   "source": [
    "### 1. Import the data"
   ]
  },
  {
   "cell_type": "code",
   "execution_count": 0,
   "metadata": {
    "colab": {},
    "colab_type": "code",
    "id": "94YMO8LbZdoU"
   },
   "outputs": [],
   "source": [
    "csv_file = 'ais.csv'"
   ]
  },
  {
   "cell_type": "markdown",
   "metadata": {
    "colab_type": "text",
    "id": "_OnASLbbZdoW"
   },
   "source": [
    "### 2. Do some EDA of relationships between features."
   ]
  },
  {
   "cell_type": "markdown",
   "metadata": {
    "colab_type": "text",
    "id": "NyMRchAMZdoX"
   },
   "source": [
    "### 3. Prepare the data for clustering\n",
    "\n",
    "1. Remove the `sex`, `sport` column. We will see if the clusters from K-Means end up like the actual sex.\n",
    "2. Put the features on the same scale."
   ]
  },
  {
   "cell_type": "code",
   "execution_count": 0,
   "metadata": {
    "colab": {},
    "colab_type": "code",
    "id": "5yThA9TqZdoY"
   },
   "outputs": [],
   "source": [
    "# ANSWER"
   ]
  },
  {
   "cell_type": "markdown",
   "metadata": {
    "colab_type": "text",
    "id": "Y8jUYWkpZdoa"
   },
   "source": [
    "### 4. Clustering with K-Means\n",
    "\n",
    "- Cluster the data to our our target groups.\n",
    "    - Use sklearn.cluster.KMeans\n",
    "- We know that there are 2 actual classes. Lets try using 2, 4. Run the clustering algorithm with each of those k values."
   ]
  },
  {
   "cell_type": "code",
   "execution_count": 0,
   "metadata": {
    "colab": {},
    "colab_type": "code",
    "id": "nCosKVDJZdob"
   },
   "outputs": [],
   "source": [
    "# ANSWER"
   ]
  },
  {
   "cell_type": "markdown",
   "metadata": {
    "colab_type": "text",
    "id": "jAI-4X61Zdod"
   },
   "source": [
    "### 5. Get the labels for the models"
   ]
  },
  {
   "cell_type": "code",
   "execution_count": 0,
   "metadata": {
    "colab": {},
    "colab_type": "code",
    "id": "5LeJLcCxZdoe"
   },
   "outputs": [],
   "source": [
    "# ANSWER"
   ]
  },
  {
   "cell_type": "markdown",
   "metadata": {
    "colab_type": "text",
    "id": "ichQ8nF_Zdog"
   },
   "source": [
    "### 6. Elbow Method For Optimal k\n",
    "\n",
    "For each k value, we will initialise k-means and use the inertia attribute to identify the sum of squared distances of samples to the nearest cluster centre. As k increases, the sum of squared distance tends to zero. "
   ]
  },
  {
   "cell_type": "code",
   "execution_count": 0,
   "metadata": {
    "colab": {},
    "colab_type": "code",
    "id": "g77PHUcgZdoh"
   },
   "outputs": [],
   "source": [
    "# ANSWER"
   ]
  },
  {
   "cell_type": "markdown",
   "metadata": {
    "colab_type": "text",
    "id": "rgTQLaSNZdoj"
   },
   "source": [
    "Below is a plot of sum of squared distances for k in the range specified above. If the plot looks like an arm, then the elbow on the arm is optimal k."
   ]
  },
  {
   "cell_type": "code",
   "execution_count": 0,
   "metadata": {
    "colab": {},
    "colab_type": "code",
    "id": "pbJ_EZRGZdok"
   },
   "outputs": [],
   "source": [
    "# ANSWER"
   ]
  },
  {
   "cell_type": "markdown",
   "metadata": {
    "colab_type": "text",
    "id": "nCs5g-pLZdom"
   },
   "source": [
    "### 7. Plot `pcBfat` vs. `wt` using the clusters from each model.\n",
    "\n",
    "- Plot actual classification of pcBfat vs wt using hue sex\n",
    "- Plot predicted classification of pcBfat vs wt using hue label"
   ]
  },
  {
   "cell_type": "code",
   "execution_count": 0,
   "metadata": {
    "colab": {},
    "colab_type": "code",
    "id": "qNDCuP1bZdon"
   },
   "outputs": [],
   "source": [
    "# ANSWER"
   ]
  },
  {
   "cell_type": "markdown",
   "metadata": {
    "colab_type": "text",
    "id": "n5gar-w0j2Tr"
   },
   "source": [
    "\n",
    "\n",
    "---\n",
    "\n",
    "\n",
    "\n",
    "---\n",
    "\n",
    "\n",
    "\n",
    "> > > > > > > > > © 2019 Institute of Data\n",
    "\n",
    "\n",
    "---\n",
    "\n",
    "\n",
    "\n",
    "---\n",
    "\n",
    "\n",
    "\n"
   ]
  }
 ],
 "metadata": {
  "colab": {
   "collapsed_sections": [],
   "name": "DSIA Lab 6.1.1.ipynb",
   "provenance": []
  },
  "kernelspec": {
   "display_name": "Python 3",
   "language": "python",
   "name": "python3"
  },
  "language_info": {
   "codemirror_mode": {
    "name": "ipython",
    "version": 3
   },
   "file_extension": ".py",
   "mimetype": "text/x-python",
   "name": "python",
   "nbconvert_exporter": "python",
   "pygments_lexer": "ipython3",
   "version": "3.7.4"
  },
  "toc": {
   "base_numbering": 1,
   "nav_menu": {},
   "number_sections": true,
   "sideBar": true,
   "skip_h1_title": false,
   "title_cell": "Table of Contents",
   "title_sidebar": "Contents",
   "toc_cell": false,
   "toc_position": {},
   "toc_section_display": true,
   "toc_window_display": true
  }
 },
 "nbformat": 4,
 "nbformat_minor": 1
}
