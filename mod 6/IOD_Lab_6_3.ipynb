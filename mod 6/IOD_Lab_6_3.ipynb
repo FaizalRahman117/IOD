{
 "cells": [
  {
   "cell_type": "markdown",
   "metadata": {
    "colab_type": "text",
    "id": "XebDJ3UnS3n3"
   },
   "source": [
    "<div>\n",
    "<img src=https://www.institutedata.com/wp-content/uploads/2019/10/iod_h_tp_primary_c.svg width=\"300\">\n",
    "</div>"
   ]
  },
  {
   "cell_type": "markdown",
   "metadata": {
    "colab_type": "text",
    "id": "e_-HjrL6S3n5"
   },
   "source": [
    "# Lab 6.3 - KNN classification Lab\n",
    "\n",
    "**In this lab, we will:**\n",
    "- Practice KNN classification on a dataset of breast cancer.\n",
    "- Predict the `diagnoosis` of a patient from predictor variables of your choice."
   ]
  },
  {
   "cell_type": "markdown",
   "metadata": {
    "colab_type": "text",
    "id": "cXbWph18ZFa4"
   },
   "source": [
    "# Load Data\n",
    "\n",
    "Features are computed from a digitized image of a fine needle aspirate (FNA) of a breast mass. They describe characteristics of the cell nuclei present in the image. n the 3-dimensional space is that described in: [K. P. Bennett and O. L. Mangasarian: \"Robust Linear Programming Discrimination of Two Linearly Inseparable Sets\", Optimization Methods and Software 1, 1992, 23-34].\n",
    "\n",
    "This database is also available through the UW CS ftp server: ftp ftp.cs.wisc.edu cd math-prog/cpo-dataset/machine-learn/WDBC/\n",
    "\n",
    "Also can be found on UCI Machine Learning Repository: https://archive.ics.uci.edu/ml/datasets/Breast+Cancer+Wisconsin+%28Diagnostic%29\n",
    "\n",
    "Attribute Information:\n",
    "\n",
    "1) ID number 2) Diagnosis (M = malignant, B = benign) 3-32)\n",
    "\n",
    "Ten real-valued features are computed for each cell nucleus:\n",
    "\n",
    "a) radius (mean of distances from center to points on the perimeter) b) texture (standard deviation of gray-scale values) c) perimeter d) area e) smoothness (local variation in radius lengths) f) compactness (perimeter^2 / area - 1.0) g) concavity (severity of concave portions of the contour) h) concave points (number of concave portions of the contour) i) symmetry j) fractal dimension (\"coastline approximation\" - 1)\n",
    "\n",
    "The mean, standard error and \"worst\" or largest (mean of the three largest values) of these features were computed for each image, resulting in 30 features. For instance, field 3 is Mean Radius, field 13 is Radius SE, field 23 is Worst Radius.\n",
    "\n",
    "All feature values are recoded with four significant digits.\n",
    "\n",
    "Missing attribute values: none\n",
    "\n",
    "Class distribution: 357 benign, 212 malignant"
   ]
  },
  {
   "cell_type": "code",
   "execution_count": 0,
   "metadata": {
    "ExecuteTime": {
     "end_time": "2019-05-16T06:02:19.273830Z",
     "start_time": "2019-05-16T06:02:15.769179Z"
    },
    "colab": {},
    "colab_type": "code",
    "id": "9pqq-wHLZFa5"
   },
   "outputs": [],
   "source": [
    "# IMPORT LIBRARIES"
   ]
  },
  {
   "cell_type": "code",
   "execution_count": 0,
   "metadata": {
    "ExecuteTime": {
     "end_time": "2019-05-16T06:02:19.345620Z",
     "start_time": "2019-05-16T06:02:19.293760Z"
    },
    "colab": {},
    "colab_type": "code",
    "id": "6HRBXOl9ZFa9"
   },
   "outputs": [],
   "source": [
    "breast_cancer_csv = '../../DATA/breast-cancer-wisconsin-data.csv'"
   ]
  },
  {
   "cell_type": "markdown",
   "metadata": {
    "colab_type": "text",
    "id": "b24z7ZHsZFbA"
   },
   "source": [
    "#  EDA \n",
    "\n",
    "Explore dataset. Clean data. Find correlation. "
   ]
  },
  {
   "cell_type": "code",
   "execution_count": null,
   "metadata": {},
   "outputs": [],
   "source": []
  },
  {
   "cell_type": "markdown",
   "metadata": {
    "ExecuteTime": {
     "end_time": "2019-05-16T01:10:16.792504Z",
     "start_time": "2019-05-16T01:10:16.786523Z"
    },
    "colab_type": "text",
    "id": "hrOCSyfsZFbB"
   },
   "source": [
    "# Set up the `diagnosis` variable as your target. How many classes are there?"
   ]
  },
  {
   "cell_type": "code",
   "execution_count": 0,
   "metadata": {
    "colab": {},
    "colab_type": "code",
    "id": "IEo975saZFbB"
   },
   "outputs": [],
   "source": [
    "# ANSWER"
   ]
  },
  {
   "cell_type": "markdown",
   "metadata": {
    "colab_type": "text",
    "id": "dFG6BvgkZFbE"
   },
   "source": [
    "## What is the baseline accuracy?"
   ]
  },
  {
   "cell_type": "code",
   "execution_count": 0,
   "metadata": {
    "ExecuteTime": {
     "end_time": "2019-05-16T06:02:43.670958Z",
     "start_time": "2019-05-16T06:02:43.662503Z"
    },
    "colab": {},
    "colab_type": "code",
    "id": "YQ4zF66cZFbG"
   },
   "outputs": [],
   "source": [
    "# ANSWER"
   ]
  },
  {
   "cell_type": "markdown",
   "metadata": {
    "colab_type": "text",
    "id": "9OKQ_4QuZFbI"
   },
   "source": [
    "# Choose features to be your predictor variables and set up your X."
   ]
  },
  {
   "cell_type": "code",
   "execution_count": 0,
   "metadata": {
    "ExecuteTime": {
     "end_time": "2019-05-16T06:02:46.228123Z",
     "start_time": "2019-05-16T06:02:46.221621Z"
    },
    "colab": {},
    "colab_type": "code",
    "id": "v0EIGlucZFbJ"
   },
   "outputs": [],
   "source": [
    "# ANSWER"
   ]
  },
  {
   "cell_type": "markdown",
   "metadata": {
    "colab_type": "text",
    "id": "3ZsCG48AZFbL"
   },
   "source": [
    "# Fit a `KNeighborsClassifier` with 1 neighbor using the target and predictors."
   ]
  },
  {
   "cell_type": "code",
   "execution_count": 0,
   "metadata": {
    "ExecuteTime": {
     "end_time": "2019-05-16T06:02:49.037385Z",
     "start_time": "2019-05-16T06:02:49.023745Z"
    },
    "colab": {},
    "colab_type": "code",
    "id": "sLPiFCYbZFbM"
   },
   "outputs": [],
   "source": [
    "# ANSWER\n",
    "# Make an instance of a KNeighborsClassifier object with 1 neighbor\n",
    "\n",
    "# fit on the unstandardized data:"
   ]
  },
  {
   "cell_type": "markdown",
   "metadata": {
    "colab_type": "text",
    "id": "l-RXiJx4ZFbO"
   },
   "source": [
    "## Evaluate the accuracy of your model.\n",
    "- Is it better than baseline?\n",
    "- Is it legitimate?"
   ]
  },
  {
   "cell_type": "code",
   "execution_count": 0,
   "metadata": {
    "ExecuteTime": {
     "end_time": "2019-05-16T06:02:53.446834Z",
     "start_time": "2019-05-16T06:02:53.427882Z"
    },
    "colab": {},
    "colab_type": "code",
    "id": "M7CJ30XrZFbP"
   },
   "outputs": [],
   "source": [
    "# ANSWER\n",
    "# predict the response values for the observations in X (\"test the model\")\n",
    "# store the predicted response values"
   ]
  },
  {
   "cell_type": "markdown",
   "metadata": {
    "colab_type": "text",
    "id": "KHQOjmC-ZFbR"
   },
   "source": [
    "# Create a 80-20 train-test-split of your target and predictors. Refit the KNN and assess the accuracy."
   ]
  },
  {
   "cell_type": "code",
   "execution_count": 0,
   "metadata": {
    "ExecuteTime": {
     "end_time": "2019-05-16T06:02:55.860932Z",
     "start_time": "2019-05-16T06:02:55.836993Z"
    },
    "colab": {},
    "colab_type": "code",
    "id": "TivWfp2AZFbS"
   },
   "outputs": [],
   "source": [
    "# ANSWER\n",
    "# STEP 1: split X and y into training and testing sets (using random_state for reproducibility)\n",
    "\n",
    "# STEP 2: train the model on the training set (using K=1)\n",
    "\n",
    "# STEP 3: test the model on the testing set, and check the accuracy"
   ]
  },
  {
   "cell_type": "markdown",
   "metadata": {
    "colab_type": "text",
    "id": "tlP2bUDnZFbU"
   },
   "source": [
    "# Evaluate the test accuracy of a KNN where K == number of rows in the training data."
   ]
  },
  {
   "cell_type": "code",
   "execution_count": 0,
   "metadata": {
    "ExecuteTime": {
     "end_time": "2019-05-16T06:02:59.569032Z",
     "start_time": "2019-05-16T06:02:59.541097Z"
    },
    "colab": {},
    "colab_type": "code",
    "id": "Zng8GnqRZFbU"
   },
   "outputs": [],
   "source": [
    "# ANSWER\n",
    "# Create an instance of KNeighborsClassifier where n_neighbors = number of rows in the training data\n",
    "\n",
    "# Fit Train Data\n",
    "\n",
    "# Print accuracy_score"
   ]
  },
  {
   "cell_type": "markdown",
   "metadata": {
    "colab_type": "text",
    "id": "LLmdmsCrZFbW"
   },
   "source": [
    "# Fit the KNN at values of K from 1 to the number of rows in the training data.\n",
    "- Store the test accuracy in a list.\n",
    "- Plot the test accuracy vs. the number of neighbors."
   ]
  },
  {
   "cell_type": "code",
   "execution_count": 0,
   "metadata": {
    "ExecuteTime": {
     "end_time": "2019-05-16T06:03:15.430489Z",
     "start_time": "2019-05-16T06:03:12.595076Z"
    },
    "colab": {},
    "colab_type": "code",
    "id": "Sr55UJRnZFbX"
   },
   "outputs": [],
   "source": [
    "# ANSWER\n",
    "# plot test accuracy by number of neighbors:\n",
    "\n"
   ]
  },
  {
   "cell_type": "markdown",
   "metadata": {
    "colab_type": "text",
    "id": "QNE2_bMkZFbZ"
   },
   "source": [
    "# Fit KNN across different values of K and plot the mean cross-validated accuracy with 5 folds.\n"
   ]
  },
  {
   "cell_type": "code",
   "execution_count": 0,
   "metadata": {
    "colab": {},
    "colab_type": "code",
    "id": "LCxbmWJaZFba"
   },
   "outputs": [],
   "source": [
    "# ANSWER"
   ]
  },
  {
   "cell_type": "markdown",
   "metadata": {
    "colab_type": "text",
    "id": "Pe1PUrJGZFbb"
   },
   "source": [
    "# Standardize the predictor matrix and cross-validate across the different K.\n",
    "- Plot the standardized mean cross-validated accuracy against the unstandardized. Which is better?\n",
    "- Why?"
   ]
  },
  {
   "cell_type": "code",
   "execution_count": 0,
   "metadata": {
    "ExecuteTime": {
     "end_time": "2019-05-16T06:05:23.192596Z",
     "start_time": "2019-05-16T06:05:23.185608Z"
    },
    "colab": {},
    "colab_type": "code",
    "id": "2G0RGilBZFbc"
   },
   "outputs": [],
   "source": [
    "# ANSWER\n",
    "# Standarize X"
   ]
  },
  {
   "cell_type": "code",
   "execution_count": 0,
   "metadata": {
    "ExecuteTime": {
     "end_time": "2019-05-16T06:05:41.360824Z",
     "start_time": "2019-05-16T06:05:23.659087Z"
    },
    "colab": {},
    "colab_type": "code",
    "id": "7qb_0l9EZFbe"
   },
   "outputs": [],
   "source": [
    "# ANSWER\n",
    "# plot test accuracy by number of neighbors:"
   ]
  },
  {
   "cell_type": "markdown",
   "metadata": {
    "colab_type": "text",
    "id": "K9cJEe64ZFbg"
   },
   "source": [
    "**References**\n",
    "\n",
    "[Breast Cancer Wisconsin (Diagnostic) Data Set](https://www.kaggle.com/uciml/breast-cancer-wisconsin-data/downloads/breast-cancer-wisconsin-data.zip/2)"
   ]
  },
  {
   "cell_type": "markdown",
   "metadata": {
    "colab_type": "text",
    "id": "RERADKgNFq9T"
   },
   "source": [
    "© 2019 Institute of Data"
   ]
  }
 ],
 "metadata": {
  "colab": {
   "collapsed_sections": [],
   "name": "DSIA_Lab_6_3.ipynb",
   "provenance": []
  },
  "kernelspec": {
   "display_name": "Python 3",
   "language": "python",
   "name": "python3"
  },
  "language_info": {
   "codemirror_mode": {
    "name": "ipython",
    "version": 3
   },
   "file_extension": ".py",
   "mimetype": "text/x-python",
   "name": "python",
   "nbconvert_exporter": "python",
   "pygments_lexer": "ipython3",
   "version": "3.7.4"
  },
  "toc": {
   "base_numbering": 1,
   "nav_menu": {},
   "number_sections": true,
   "sideBar": true,
   "skip_h1_title": false,
   "title_cell": "Table of Contents",
   "title_sidebar": "Contents",
   "toc_cell": false,
   "toc_position": {},
   "toc_section_display": true,
   "toc_window_display": true
  },
  "varInspector": {
   "cols": {
    "lenName": 16,
    "lenType": 16,
    "lenVar": 40
   },
   "kernels_config": {
    "python": {
     "delete_cmd_postfix": "",
     "delete_cmd_prefix": "del ",
     "library": "var_list.py",
     "varRefreshCmd": "print(var_dic_list())"
    },
    "r": {
     "delete_cmd_postfix": ") ",
     "delete_cmd_prefix": "rm(",
     "library": "var_list.r",
     "varRefreshCmd": "cat(var_dic_list()) "
    }
   },
   "types_to_exclude": [
    "module",
    "function",
    "builtin_function_or_method",
    "instance",
    "_Feature"
   ],
   "window_display": false
  }
 },
 "nbformat": 4,
 "nbformat_minor": 1
}
