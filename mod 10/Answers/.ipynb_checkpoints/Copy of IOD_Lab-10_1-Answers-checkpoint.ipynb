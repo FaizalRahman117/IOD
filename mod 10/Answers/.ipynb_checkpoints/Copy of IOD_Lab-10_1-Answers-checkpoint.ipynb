{
 "cells": [
  {
   "cell_type": "markdown",
   "metadata": {
    "colab_type": "text",
    "id": "bUR1cOcL04w1"
   },
   "source": [
    "<div>\n",
    "<img src=https://www.institutedata.com/wp-content/uploads/2019/10/iod_h_tp_primary_c.svg width=\"300\">\n",
    "</div>"
   ]
  },
  {
   "cell_type": "markdown",
   "metadata": {
    "colab_type": "text",
    "id": "yjJerMzd04w4"
   },
   "source": [
    "# Lab 10.1: NN with Keras\n",
    "INSTRUCTIONS:\n",
    "- Run the cells\n",
    "- Observe and understand the results\n",
    "- Answer the questions"
   ]
  },
  {
   "cell_type": "markdown",
   "metadata": {
    "colab_type": "text",
    "id": "bufH8UqX04w7"
   },
   "source": [
    "# Import libraries"
   ]
  },
  {
   "cell_type": "markdown",
   "metadata": {
    "colab_type": "text",
    "id": "XfDEiCFnAtrN"
   },
   "source": [
    "This notebook was run and tested on Keras version 2.3.1 and Tensorflow 2.2.0. "
   ]
  },
  {
   "cell_type": "code",
   "execution_count": 21,
   "metadata": {
    "colab": {
     "base_uri": "https://localhost:8080/",
     "height": 52
    },
    "colab_type": "code",
    "executionInfo": {
     "elapsed": 959,
     "status": "ok",
     "timestamp": 1593598465847,
     "user": {
      "displayName": "Mai Anh Ly",
      "photoUrl": "https://lh3.googleusercontent.com/a-/AOh14GiTexBMt-AUEZpk96L7Z1arOIM08Wxol5Q41MU6RLCdLOPTs6LcmAwyJAvmOiw6ZD74sR6znKstA2EIzcy04m7B_kcmHYu8Z-XEUO-t0QG-6j7I-xlx7Lfekx4j3dnt4RaVjRh83b6B4qlnBUsp_Gk2DTdi6Whc2pg_XGk_b9ZPHqQQA0ZRwKtBrA-NWrJyWRXuH28HvFMXJBpPF-2C8qmIsnmd2BhwPXhhmCK2IE2pL1JBawJ0QK4VAVpZYdHlKxrpTpz-agZC0SR64H6LfiU2FFCI8fBbG3Md5Eh1kqqV7fISU6v-N_-oodUZHz95tPuHRl-SNAcGU5k3l6rWeCiiryKFH1YeL9LM5_SvFMq9kyg73EDSjdOT9-gorHh2G-x0Qlw0PcWvB_er6OfJ-YgFwjiEWz2ABl0JzYMzEXaJBxA7dQ7lftDr9FY1RReD4u9DkKUFh0YwPw02-UFhhieotVC9Z4Q2dtWCPdihGgbbNcPal9-peb4HPKJ7YxAEOQOtdFjT6z2boazMakez9c8_9vYKNPoxBvl4sb1lj2oh73WuBB6Xgw2INMlBYmbvLtDqr62GTtG2TDR0ZfZnkFt6qLdfkD4pWUvDdXcwW1TsK4hn5aFumgTJmgmpa5xpexrocJ-nUkNxRIP452Uv5WMsBxG8feyVPv3ItZOBBYVstxVU0ChJ6e1eeWg_f9LxgoaWFSTYsz9GmRjfeZt3Q7y4e233McQwUohgXb6mWr8vhLm_2Wf3pfJDO5bWlZigGQ=s64",
      "userId": "16059923818223643809"
     },
     "user_tz": -600
    },
    "id": "IedwPaYcAVhT",
    "outputId": "1a2682c0-13bb-4607-80b9-77fe487c9d0a"
   },
   "outputs": [
    {
     "name": "stdout",
     "output_type": "stream",
     "text": [
      "Keras version:  2.3.0-tf\n",
      "Tensorflow version:  2.2.0\n"
     ]
    }
   ],
   "source": [
    "# Check keras and tensorflow versions\n",
    "\n",
    "import tensorflow as tf\n",
    "from tensorflow import keras\n",
    "\n",
    "print(\"Keras version: \", keras.__version__)\n",
    "print(\"Tensorflow version: \", tf.__version__)"
   ]
  },
  {
   "cell_type": "code",
   "execution_count": 22,
   "metadata": {
    "colab": {},
    "colab_type": "code",
    "executionInfo": {
     "elapsed": 898,
     "status": "ok",
     "timestamp": 1593598559042,
     "user": {
      "displayName": "Mai Anh Ly",
      "photoUrl": "https://lh3.googleusercontent.com/a-/AOh14GiTexBMt-AUEZpk96L7Z1arOIM08Wxol5Q41MU6RLCdLOPTs6LcmAwyJAvmOiw6ZD74sR6znKstA2EIzcy04m7B_kcmHYu8Z-XEUO-t0QG-6j7I-xlx7Lfekx4j3dnt4RaVjRh83b6B4qlnBUsp_Gk2DTdi6Whc2pg_XGk_b9ZPHqQQA0ZRwKtBrA-NWrJyWRXuH28HvFMXJBpPF-2C8qmIsnmd2BhwPXhhmCK2IE2pL1JBawJ0QK4VAVpZYdHlKxrpTpz-agZC0SR64H6LfiU2FFCI8fBbG3Md5Eh1kqqV7fISU6v-N_-oodUZHz95tPuHRl-SNAcGU5k3l6rWeCiiryKFH1YeL9LM5_SvFMq9kyg73EDSjdOT9-gorHh2G-x0Qlw0PcWvB_er6OfJ-YgFwjiEWz2ABl0JzYMzEXaJBxA7dQ7lftDr9FY1RReD4u9DkKUFh0YwPw02-UFhhieotVC9Z4Q2dtWCPdihGgbbNcPal9-peb4HPKJ7YxAEOQOtdFjT6z2boazMakez9c8_9vYKNPoxBvl4sb1lj2oh73WuBB6Xgw2INMlBYmbvLtDqr62GTtG2TDR0ZfZnkFt6qLdfkD4pWUvDdXcwW1TsK4hn5aFumgTJmgmpa5xpexrocJ-nUkNxRIP452Uv5WMsBxG8feyVPv3ItZOBBYVstxVU0ChJ6e1eeWg_f9LxgoaWFSTYsz9GmRjfeZt3Q7y4e233McQwUohgXb6mWr8vhLm_2Wf3pfJDO5bWlZigGQ=s64",
      "userId": "16059923818223643809"
     },
     "user_tz": -600
    },
    "id": "FOkRtOAG04w-"
   },
   "outputs": [],
   "source": [
    "## Import libraries\n",
    "import numpy as np\n",
    "\n",
    "%matplotlib inline\n",
    "import matplotlib.pyplot as plt\n",
    "\n",
    "from sklearn.datasets import load_diabetes\n",
    "from sklearn.model_selection import train_test_split\n",
    "from sklearn.metrics import r2_score\n",
    "\n",
    "# import keras\n",
    "from tensorflow.keras.models import Sequential\n",
    "from tensorflow.keras.layers import Dense"
   ]
  },
  {
   "cell_type": "markdown",
   "metadata": {
    "colab_type": "text",
    "id": "CoFPfFvl04xG"
   },
   "source": [
    "# Load data"
   ]
  },
  {
   "cell_type": "code",
   "execution_count": 23,
   "metadata": {
    "colab": {},
    "colab_type": "code",
    "executionInfo": {
     "elapsed": 906,
     "status": "ok",
     "timestamp": 1593598585566,
     "user": {
      "displayName": "Mai Anh Ly",
      "photoUrl": "https://lh3.googleusercontent.com/a-/AOh14GiTexBMt-AUEZpk96L7Z1arOIM08Wxol5Q41MU6RLCdLOPTs6LcmAwyJAvmOiw6ZD74sR6znKstA2EIzcy04m7B_kcmHYu8Z-XEUO-t0QG-6j7I-xlx7Lfekx4j3dnt4RaVjRh83b6B4qlnBUsp_Gk2DTdi6Whc2pg_XGk_b9ZPHqQQA0ZRwKtBrA-NWrJyWRXuH28HvFMXJBpPF-2C8qmIsnmd2BhwPXhhmCK2IE2pL1JBawJ0QK4VAVpZYdHlKxrpTpz-agZC0SR64H6LfiU2FFCI8fBbG3Md5Eh1kqqV7fISU6v-N_-oodUZHz95tPuHRl-SNAcGU5k3l6rWeCiiryKFH1YeL9LM5_SvFMq9kyg73EDSjdOT9-gorHh2G-x0Qlw0PcWvB_er6OfJ-YgFwjiEWz2ABl0JzYMzEXaJBxA7dQ7lftDr9FY1RReD4u9DkKUFh0YwPw02-UFhhieotVC9Z4Q2dtWCPdihGgbbNcPal9-peb4HPKJ7YxAEOQOtdFjT6z2boazMakez9c8_9vYKNPoxBvl4sb1lj2oh73WuBB6Xgw2INMlBYmbvLtDqr62GTtG2TDR0ZfZnkFt6qLdfkD4pWUvDdXcwW1TsK4hn5aFumgTJmgmpa5xpexrocJ-nUkNxRIP452Uv5WMsBxG8feyVPv3ItZOBBYVstxVU0ChJ6e1eeWg_f9LxgoaWFSTYsz9GmRjfeZt3Q7y4e233McQwUohgXb6mWr8vhLm_2Wf3pfJDO5bWlZigGQ=s64",
      "userId": "16059923818223643809"
     },
     "user_tz": -600
    },
    "id": "vcojoYHs04xI"
   },
   "outputs": [],
   "source": [
    "# The diabetes dataset\n",
    "diabetes = load_diabetes()"
   ]
  },
  {
   "cell_type": "code",
   "execution_count": 24,
   "metadata": {
    "colab": {
     "base_uri": "https://localhost:8080/",
     "height": 706
    },
    "colab_type": "code",
    "executionInfo": {
     "elapsed": 910,
     "status": "ok",
     "timestamp": 1593598605497,
     "user": {
      "displayName": "Mai Anh Ly",
      "photoUrl": "https://lh3.googleusercontent.com/a-/AOh14GiTexBMt-AUEZpk96L7Z1arOIM08Wxol5Q41MU6RLCdLOPTs6LcmAwyJAvmOiw6ZD74sR6znKstA2EIzcy04m7B_kcmHYu8Z-XEUO-t0QG-6j7I-xlx7Lfekx4j3dnt4RaVjRh83b6B4qlnBUsp_Gk2DTdi6Whc2pg_XGk_b9ZPHqQQA0ZRwKtBrA-NWrJyWRXuH28HvFMXJBpPF-2C8qmIsnmd2BhwPXhhmCK2IE2pL1JBawJ0QK4VAVpZYdHlKxrpTpz-agZC0SR64H6LfiU2FFCI8fBbG3Md5Eh1kqqV7fISU6v-N_-oodUZHz95tPuHRl-SNAcGU5k3l6rWeCiiryKFH1YeL9LM5_SvFMq9kyg73EDSjdOT9-gorHh2G-x0Qlw0PcWvB_er6OfJ-YgFwjiEWz2ABl0JzYMzEXaJBxA7dQ7lftDr9FY1RReD4u9DkKUFh0YwPw02-UFhhieotVC9Z4Q2dtWCPdihGgbbNcPal9-peb4HPKJ7YxAEOQOtdFjT6z2boazMakez9c8_9vYKNPoxBvl4sb1lj2oh73WuBB6Xgw2INMlBYmbvLtDqr62GTtG2TDR0ZfZnkFt6qLdfkD4pWUvDdXcwW1TsK4hn5aFumgTJmgmpa5xpexrocJ-nUkNxRIP452Uv5WMsBxG8feyVPv3ItZOBBYVstxVU0ChJ6e1eeWg_f9LxgoaWFSTYsz9GmRjfeZt3Q7y4e233McQwUohgXb6mWr8vhLm_2Wf3pfJDO5bWlZigGQ=s64",
      "userId": "16059923818223643809"
     },
     "user_tz": -600
    },
    "id": "1hZFA93Z04xN",
    "outputId": "9ab124a8-61e6-4b04-f1ff-e3701997b23a"
   },
   "outputs": [
    {
     "name": "stdout",
     "output_type": "stream",
     "text": [
      ".. _diabetes_dataset:\n",
      "\n",
      "Diabetes dataset\n",
      "----------------\n",
      "\n",
      "Ten baseline variables, age, sex, body mass index, average blood\n",
      "pressure, and six blood serum measurements were obtained for each of n =\n",
      "442 diabetes patients, as well as the response of interest, a\n",
      "quantitative measure of disease progression one year after baseline.\n",
      "\n",
      "**Data Set Characteristics:**\n",
      "\n",
      "  :Number of Instances: 442\n",
      "\n",
      "  :Number of Attributes: First 10 columns are numeric predictive values\n",
      "\n",
      "  :Target: Column 11 is a quantitative measure of disease progression one year after baseline\n",
      "\n",
      "  :Attribute Information:\n",
      "      - Age\n",
      "      - Sex\n",
      "      - Body mass index\n",
      "      - Average blood pressure\n",
      "      - S1\n",
      "      - S2\n",
      "      - S3\n",
      "      - S4\n",
      "      - S5\n",
      "      - S6\n",
      "\n",
      "Note: Each of these 10 feature variables have been mean centered and scaled by the standard deviation times `n_samples` (i.e. the sum of squares of each column totals 1).\n",
      "\n",
      "Source URL:\n",
      "https://www4.stat.ncsu.edu/~boos/var.select/diabetes.html\n",
      "\n",
      "For more information see:\n",
      "Bradley Efron, Trevor Hastie, Iain Johnstone and Robert Tibshirani (2004) \"Least Angle Regression,\" Annals of Statistics (with discussion), 407-499.\n",
      "(https://web.stanford.edu/~hastie/Papers/LARS/LeastAngle_2002.pdf)\n"
     ]
    }
   ],
   "source": [
    "print(diabetes.DESCR)"
   ]
  },
  {
   "cell_type": "markdown",
   "metadata": {
    "colab_type": "text",
    "id": "40txet2G04xS"
   },
   "source": [
    "## Prepare input data"
   ]
  },
  {
   "cell_type": "code",
   "execution_count": 8,
   "metadata": {
    "colab": {
     "base_uri": "https://localhost:8080/",
     "height": 70
    },
    "colab_type": "code",
    "executionInfo": {
     "elapsed": 989,
     "status": "ok",
     "timestamp": 1593598105096,
     "user": {
      "displayName": "Mai Anh Ly",
      "photoUrl": "https://lh3.googleusercontent.com/a-/AOh14GiTexBMt-AUEZpk96L7Z1arOIM08Wxol5Q41MU6RLCdLOPTs6LcmAwyJAvmOiw6ZD74sR6znKstA2EIzcy04m7B_kcmHYu8Z-XEUO-t0QG-6j7I-xlx7Lfekx4j3dnt4RaVjRh83b6B4qlnBUsp_Gk2DTdi6Whc2pg_XGk_b9ZPHqQQA0ZRwKtBrA-NWrJyWRXuH28HvFMXJBpPF-2C8qmIsnmd2BhwPXhhmCK2IE2pL1JBawJ0QK4VAVpZYdHlKxrpTpz-agZC0SR64H6LfiU2FFCI8fBbG3Md5Eh1kqqV7fISU6v-N_-oodUZHz95tPuHRl-SNAcGU5k3l6rWeCiiryKFH1YeL9LM5_SvFMq9kyg73EDSjdOT9-gorHh2G-x0Qlw0PcWvB_er6OfJ-YgFwjiEWz2ABl0JzYMzEXaJBxA7dQ7lftDr9FY1RReD4u9DkKUFh0YwPw02-UFhhieotVC9Z4Q2dtWCPdihGgbbNcPal9-peb4HPKJ7YxAEOQOtdFjT6z2boazMakez9c8_9vYKNPoxBvl4sb1lj2oh73WuBB6Xgw2INMlBYmbvLtDqr62GTtG2TDR0ZfZnkFt6qLdfkD4pWUvDdXcwW1TsK4hn5aFumgTJmgmpa5xpexrocJ-nUkNxRIP452Uv5WMsBxG8feyVPv3ItZOBBYVstxVU0ChJ6e1eeWg_f9LxgoaWFSTYsz9GmRjfeZt3Q7y4e233McQwUohgXb6mWr8vhLm_2Wf3pfJDO5bWlZigGQ=s64",
      "userId": "16059923818223643809"
     },
     "user_tz": -600
    },
    "id": "15yGMkfv04xT",
    "outputId": "42b3a9a8-fe17-4c2c-fb92-e04a9051eae0"
   },
   "outputs": [
    {
     "name": "stdout",
     "output_type": "stream",
     "text": [
      "X is a  <class 'numpy.ndarray'>\n",
      "X has 442 rows and 10 columns\n",
      "First 10 values in y:  [151.  75. 141. 206. 135.  97. 138.  63. 110. 310.]\n"
     ]
    }
   ],
   "source": [
    "# input\n",
    "X = diabetes.data\n",
    "\n",
    "# print the type of X to check that it is a numpy array\n",
    "print(\"X is a \", type(X))\n",
    "\n",
    "# Print shape to check rows and columns\n",
    "print(\"X has {} rows and {} columns\".format(X.shape[0], X.shape[1]))\n",
    "\n",
    "# Save number of columns as n_cols\n",
    "n_cols = X.shape[1]\n",
    "\n",
    "# output\n",
    "y = diabetes.target\n",
    "\n",
    "print(\"First 10 values in y: \", y[:10])"
   ]
  },
  {
   "cell_type": "code",
   "execution_count": 25,
   "metadata": {
    "colab": {
     "base_uri": "https://localhost:8080/",
     "height": 34
    },
    "colab_type": "code",
    "executionInfo": {
     "elapsed": 1121,
     "status": "ok",
     "timestamp": 1593598725187,
     "user": {
      "displayName": "Mai Anh Ly",
      "photoUrl": "https://lh3.googleusercontent.com/a-/AOh14GiTexBMt-AUEZpk96L7Z1arOIM08Wxol5Q41MU6RLCdLOPTs6LcmAwyJAvmOiw6ZD74sR6znKstA2EIzcy04m7B_kcmHYu8Z-XEUO-t0QG-6j7I-xlx7Lfekx4j3dnt4RaVjRh83b6B4qlnBUsp_Gk2DTdi6Whc2pg_XGk_b9ZPHqQQA0ZRwKtBrA-NWrJyWRXuH28HvFMXJBpPF-2C8qmIsnmd2BhwPXhhmCK2IE2pL1JBawJ0QK4VAVpZYdHlKxrpTpz-agZC0SR64H6LfiU2FFCI8fBbG3Md5Eh1kqqV7fISU6v-N_-oodUZHz95tPuHRl-SNAcGU5k3l6rWeCiiryKFH1YeL9LM5_SvFMq9kyg73EDSjdOT9-gorHh2G-x0Qlw0PcWvB_er6OfJ-YgFwjiEWz2ABl0JzYMzEXaJBxA7dQ7lftDr9FY1RReD4u9DkKUFh0YwPw02-UFhhieotVC9Z4Q2dtWCPdihGgbbNcPal9-peb4HPKJ7YxAEOQOtdFjT6z2boazMakez9c8_9vYKNPoxBvl4sb1lj2oh73WuBB6Xgw2INMlBYmbvLtDqr62GTtG2TDR0ZfZnkFt6qLdfkD4pWUvDdXcwW1TsK4hn5aFumgTJmgmpa5xpexrocJ-nUkNxRIP452Uv5WMsBxG8feyVPv3ItZOBBYVstxVU0ChJ6e1eeWg_f9LxgoaWFSTYsz9GmRjfeZt3Q7y4e233McQwUohgXb6mWr8vhLm_2Wf3pfJDO5bWlZigGQ=s64",
      "userId": "16059923818223643809"
     },
     "user_tz": -600
    },
    "id": "PT1X1Gaq4q86",
    "outputId": "6fbaee96-70a4-4064-9117-d5071d7e2d1e"
   },
   "outputs": [
    {
     "data": {
      "text/plain": [
       "442"
      ]
     },
     "execution_count": 25,
     "metadata": {
      "tags": []
     },
     "output_type": "execute_result"
    }
   ],
   "source": [
    "# How many observations are in y?\n",
    "len(y)"
   ]
  },
  {
   "cell_type": "markdown",
   "metadata": {
    "colab_type": "text",
    "id": "q0qcJhZy04xX"
   },
   "source": [
    "## Split the data (training/test)"
   ]
  },
  {
   "cell_type": "code",
   "execution_count": 9,
   "metadata": {
    "colab": {},
    "colab_type": "code",
    "executionInfo": {
     "elapsed": 946,
     "status": "ok",
     "timestamp": 1593598110884,
     "user": {
      "displayName": "Mai Anh Ly",
      "photoUrl": "https://lh3.googleusercontent.com/a-/AOh14GiTexBMt-AUEZpk96L7Z1arOIM08Wxol5Q41MU6RLCdLOPTs6LcmAwyJAvmOiw6ZD74sR6znKstA2EIzcy04m7B_kcmHYu8Z-XEUO-t0QG-6j7I-xlx7Lfekx4j3dnt4RaVjRh83b6B4qlnBUsp_Gk2DTdi6Whc2pg_XGk_b9ZPHqQQA0ZRwKtBrA-NWrJyWRXuH28HvFMXJBpPF-2C8qmIsnmd2BhwPXhhmCK2IE2pL1JBawJ0QK4VAVpZYdHlKxrpTpz-agZC0SR64H6LfiU2FFCI8fBbG3Md5Eh1kqqV7fISU6v-N_-oodUZHz95tPuHRl-SNAcGU5k3l6rWeCiiryKFH1YeL9LM5_SvFMq9kyg73EDSjdOT9-gorHh2G-x0Qlw0PcWvB_er6OfJ-YgFwjiEWz2ABl0JzYMzEXaJBxA7dQ7lftDr9FY1RReD4u9DkKUFh0YwPw02-UFhhieotVC9Z4Q2dtWCPdihGgbbNcPal9-peb4HPKJ7YxAEOQOtdFjT6z2boazMakez9c8_9vYKNPoxBvl4sb1lj2oh73WuBB6Xgw2INMlBYmbvLtDqr62GTtG2TDR0ZfZnkFt6qLdfkD4pWUvDdXcwW1TsK4hn5aFumgTJmgmpa5xpexrocJ-nUkNxRIP452Uv5WMsBxG8feyVPv3ItZOBBYVstxVU0ChJ6e1eeWg_f9LxgoaWFSTYsz9GmRjfeZt3Q7y4e233McQwUohgXb6mWr8vhLm_2Wf3pfJDO5bWlZigGQ=s64",
      "userId": "16059923818223643809"
     },
     "user_tz": -600
    },
    "id": "BY0sEw2I04xY"
   },
   "outputs": [],
   "source": [
    "X_train, X_test, y_train, y_test = train_test_split(\n",
    "    X, y, \n",
    "    test_size = 0.3,\n",
    "    random_state = 65)"
   ]
  },
  {
   "cell_type": "markdown",
   "metadata": {
    "colab_type": "text",
    "id": "oaA96jIQ04xa"
   },
   "source": [
    "# Create the model's architecture"
   ]
  },
  {
   "cell_type": "code",
   "execution_count": 10,
   "metadata": {
    "colab": {},
    "colab_type": "code",
    "executionInfo": {
     "elapsed": 892,
     "status": "ok",
     "timestamp": 1593598113258,
     "user": {
      "displayName": "Mai Anh Ly",
      "photoUrl": "https://lh3.googleusercontent.com/a-/AOh14GiTexBMt-AUEZpk96L7Z1arOIM08Wxol5Q41MU6RLCdLOPTs6LcmAwyJAvmOiw6ZD74sR6znKstA2EIzcy04m7B_kcmHYu8Z-XEUO-t0QG-6j7I-xlx7Lfekx4j3dnt4RaVjRh83b6B4qlnBUsp_Gk2DTdi6Whc2pg_XGk_b9ZPHqQQA0ZRwKtBrA-NWrJyWRXuH28HvFMXJBpPF-2C8qmIsnmd2BhwPXhhmCK2IE2pL1JBawJ0QK4VAVpZYdHlKxrpTpz-agZC0SR64H6LfiU2FFCI8fBbG3Md5Eh1kqqV7fISU6v-N_-oodUZHz95tPuHRl-SNAcGU5k3l6rWeCiiryKFH1YeL9LM5_SvFMq9kyg73EDSjdOT9-gorHh2G-x0Qlw0PcWvB_er6OfJ-YgFwjiEWz2ABl0JzYMzEXaJBxA7dQ7lftDr9FY1RReD4u9DkKUFh0YwPw02-UFhhieotVC9Z4Q2dtWCPdihGgbbNcPal9-peb4HPKJ7YxAEOQOtdFjT6z2boazMakez9c8_9vYKNPoxBvl4sb1lj2oh73WuBB6Xgw2INMlBYmbvLtDqr62GTtG2TDR0ZfZnkFt6qLdfkD4pWUvDdXcwW1TsK4hn5aFumgTJmgmpa5xpexrocJ-nUkNxRIP452Uv5WMsBxG8feyVPv3ItZOBBYVstxVU0ChJ6e1eeWg_f9LxgoaWFSTYsz9GmRjfeZt3Q7y4e233McQwUohgXb6mWr8vhLm_2Wf3pfJDO5bWlZigGQ=s64",
      "userId": "16059923818223643809"
     },
     "user_tz": -600
    },
    "id": "-1LtQXeZ04xb"
   },
   "outputs": [],
   "source": [
    "# Set up the model architecture\n",
    "model = Sequential()"
   ]
  },
  {
   "cell_type": "code",
   "execution_count": 11,
   "metadata": {
    "colab": {},
    "colab_type": "code",
    "executionInfo": {
     "elapsed": 8283,
     "status": "ok",
     "timestamp": 1593598122562,
     "user": {
      "displayName": "Mai Anh Ly",
      "photoUrl": "https://lh3.googleusercontent.com/a-/AOh14GiTexBMt-AUEZpk96L7Z1arOIM08Wxol5Q41MU6RLCdLOPTs6LcmAwyJAvmOiw6ZD74sR6znKstA2EIzcy04m7B_kcmHYu8Z-XEUO-t0QG-6j7I-xlx7Lfekx4j3dnt4RaVjRh83b6B4qlnBUsp_Gk2DTdi6Whc2pg_XGk_b9ZPHqQQA0ZRwKtBrA-NWrJyWRXuH28HvFMXJBpPF-2C8qmIsnmd2BhwPXhhmCK2IE2pL1JBawJ0QK4VAVpZYdHlKxrpTpz-agZC0SR64H6LfiU2FFCI8fBbG3Md5Eh1kqqV7fISU6v-N_-oodUZHz95tPuHRl-SNAcGU5k3l6rWeCiiryKFH1YeL9LM5_SvFMq9kyg73EDSjdOT9-gorHh2G-x0Qlw0PcWvB_er6OfJ-YgFwjiEWz2ABl0JzYMzEXaJBxA7dQ7lftDr9FY1RReD4u9DkKUFh0YwPw02-UFhhieotVC9Z4Q2dtWCPdihGgbbNcPal9-peb4HPKJ7YxAEOQOtdFjT6z2boazMakez9c8_9vYKNPoxBvl4sb1lj2oh73WuBB6Xgw2INMlBYmbvLtDqr62GTtG2TDR0ZfZnkFt6qLdfkD4pWUvDdXcwW1TsK4hn5aFumgTJmgmpa5xpexrocJ-nUkNxRIP452Uv5WMsBxG8feyVPv3ItZOBBYVstxVU0ChJ6e1eeWg_f9LxgoaWFSTYsz9GmRjfeZt3Q7y4e233McQwUohgXb6mWr8vhLm_2Wf3pfJDO5bWlZigGQ=s64",
      "userId": "16059923818223643809"
     },
     "user_tz": -600
    },
    "id": "iRlvthaJ04xd"
   },
   "outputs": [],
   "source": [
    "# Add the first hidden layer\n",
    "model.add(Dense(15, activation = 'relu', input_shape = (n_cols, )))\n",
    "# Add the second hidden layer\n",
    "model.add(Dense(5, activation = 'relu'))\n",
    "# Add the output layer\n",
    "model.add(Dense(1, activation = 'linear'))"
   ]
  },
  {
   "cell_type": "code",
   "execution_count": 12,
   "metadata": {
    "colab": {
     "base_uri": "https://localhost:8080/",
     "height": 281
    },
    "colab_type": "code",
    "executionInfo": {
     "elapsed": 6477,
     "status": "ok",
     "timestamp": 1593598122564,
     "user": {
      "displayName": "Mai Anh Ly",
      "photoUrl": "https://lh3.googleusercontent.com/a-/AOh14GiTexBMt-AUEZpk96L7Z1arOIM08Wxol5Q41MU6RLCdLOPTs6LcmAwyJAvmOiw6ZD74sR6znKstA2EIzcy04m7B_kcmHYu8Z-XEUO-t0QG-6j7I-xlx7Lfekx4j3dnt4RaVjRh83b6B4qlnBUsp_Gk2DTdi6Whc2pg_XGk_b9ZPHqQQA0ZRwKtBrA-NWrJyWRXuH28HvFMXJBpPF-2C8qmIsnmd2BhwPXhhmCK2IE2pL1JBawJ0QK4VAVpZYdHlKxrpTpz-agZC0SR64H6LfiU2FFCI8fBbG3Md5Eh1kqqV7fISU6v-N_-oodUZHz95tPuHRl-SNAcGU5k3l6rWeCiiryKFH1YeL9LM5_SvFMq9kyg73EDSjdOT9-gorHh2G-x0Qlw0PcWvB_er6OfJ-YgFwjiEWz2ABl0JzYMzEXaJBxA7dQ7lftDr9FY1RReD4u9DkKUFh0YwPw02-UFhhieotVC9Z4Q2dtWCPdihGgbbNcPal9-peb4HPKJ7YxAEOQOtdFjT6z2boazMakez9c8_9vYKNPoxBvl4sb1lj2oh73WuBB6Xgw2INMlBYmbvLtDqr62GTtG2TDR0ZfZnkFt6qLdfkD4pWUvDdXcwW1TsK4hn5aFumgTJmgmpa5xpexrocJ-nUkNxRIP452Uv5WMsBxG8feyVPv3ItZOBBYVstxVU0ChJ6e1eeWg_f9LxgoaWFSTYsz9GmRjfeZt3Q7y4e233McQwUohgXb6mWr8vhLm_2Wf3pfJDO5bWlZigGQ=s64",
      "userId": "16059923818223643809"
     },
     "user_tz": -600
    },
    "id": "IHTo0iIO04xg",
    "outputId": "09d6a999-2143-499d-c495-28b2ca66d31e"
   },
   "outputs": [
    {
     "name": "stdout",
     "output_type": "stream",
     "text": [
      "Model: \"sequential\"\n",
      "_________________________________________________________________\n",
      "Layer (type)                 Output Shape              Param #   \n",
      "=================================================================\n",
      "dense (Dense)                (None, 15)                165       \n",
      "_________________________________________________________________\n",
      "dense_1 (Dense)              (None, 5)                 80        \n",
      "_________________________________________________________________\n",
      "dense_2 (Dense)              (None, 1)                 6         \n",
      "=================================================================\n",
      "Total params: 251\n",
      "Trainable params: 251\n",
      "Non-trainable params: 0\n",
      "_________________________________________________________________\n",
      "None\n"
     ]
    }
   ],
   "source": [
    "print(model.summary())"
   ]
  },
  {
   "cell_type": "markdown",
   "metadata": {
    "colab_type": "text",
    "id": "X95DtUh_04xi"
   },
   "source": [
    "## Compile the model"
   ]
  },
  {
   "cell_type": "code",
   "execution_count": 13,
   "metadata": {
    "colab": {},
    "colab_type": "code",
    "executionInfo": {
     "elapsed": 940,
     "status": "ok",
     "timestamp": 1593598126211,
     "user": {
      "displayName": "Mai Anh Ly",
      "photoUrl": "https://lh3.googleusercontent.com/a-/AOh14GiTexBMt-AUEZpk96L7Z1arOIM08Wxol5Q41MU6RLCdLOPTs6LcmAwyJAvmOiw6ZD74sR6znKstA2EIzcy04m7B_kcmHYu8Z-XEUO-t0QG-6j7I-xlx7Lfekx4j3dnt4RaVjRh83b6B4qlnBUsp_Gk2DTdi6Whc2pg_XGk_b9ZPHqQQA0ZRwKtBrA-NWrJyWRXuH28HvFMXJBpPF-2C8qmIsnmd2BhwPXhhmCK2IE2pL1JBawJ0QK4VAVpZYdHlKxrpTpz-agZC0SR64H6LfiU2FFCI8fBbG3Md5Eh1kqqV7fISU6v-N_-oodUZHz95tPuHRl-SNAcGU5k3l6rWeCiiryKFH1YeL9LM5_SvFMq9kyg73EDSjdOT9-gorHh2G-x0Qlw0PcWvB_er6OfJ-YgFwjiEWz2ABl0JzYMzEXaJBxA7dQ7lftDr9FY1RReD4u9DkKUFh0YwPw02-UFhhieotVC9Z4Q2dtWCPdihGgbbNcPal9-peb4HPKJ7YxAEOQOtdFjT6z2boazMakez9c8_9vYKNPoxBvl4sb1lj2oh73WuBB6Xgw2INMlBYmbvLtDqr62GTtG2TDR0ZfZnkFt6qLdfkD4pWUvDdXcwW1TsK4hn5aFumgTJmgmpa5xpexrocJ-nUkNxRIP452Uv5WMsBxG8feyVPv3ItZOBBYVstxVU0ChJ6e1eeWg_f9LxgoaWFSTYsz9GmRjfeZt3Q7y4e233McQwUohgXb6mWr8vhLm_2Wf3pfJDO5bWlZigGQ=s64",
      "userId": "16059923818223643809"
     },
     "user_tz": -600
    },
    "id": "krTtIfWA04xj"
   },
   "outputs": [],
   "source": [
    "# Compile the model\n",
    "model.compile(\n",
    "    optimizer = 'adam',\n",
    "    loss = 'mse',\n",
    "    metrics = ['mse'])"
   ]
  },
  {
   "cell_type": "markdown",
   "metadata": {
    "colab_type": "text",
    "id": "v7Q1B7ov04xm"
   },
   "source": [
    "# Fit the training data"
   ]
  },
  {
   "cell_type": "code",
   "execution_count": 40,
   "metadata": {
    "colab": {},
    "colab_type": "code",
    "executionInfo": {
     "elapsed": 950,
     "status": "ok",
     "timestamp": 1593600500436,
     "user": {
      "displayName": "Mai Anh Ly",
      "photoUrl": "https://lh3.googleusercontent.com/a-/AOh14GiTexBMt-AUEZpk96L7Z1arOIM08Wxol5Q41MU6RLCdLOPTs6LcmAwyJAvmOiw6ZD74sR6znKstA2EIzcy04m7B_kcmHYu8Z-XEUO-t0QG-6j7I-xlx7Lfekx4j3dnt4RaVjRh83b6B4qlnBUsp_Gk2DTdi6Whc2pg_XGk_b9ZPHqQQA0ZRwKtBrA-NWrJyWRXuH28HvFMXJBpPF-2C8qmIsnmd2BhwPXhhmCK2IE2pL1JBawJ0QK4VAVpZYdHlKxrpTpz-agZC0SR64H6LfiU2FFCI8fBbG3Md5Eh1kqqV7fISU6v-N_-oodUZHz95tPuHRl-SNAcGU5k3l6rWeCiiryKFH1YeL9LM5_SvFMq9kyg73EDSjdOT9-gorHh2G-x0Qlw0PcWvB_er6OfJ-YgFwjiEWz2ABl0JzYMzEXaJBxA7dQ7lftDr9FY1RReD4u9DkKUFh0YwPw02-UFhhieotVC9Z4Q2dtWCPdihGgbbNcPal9-peb4HPKJ7YxAEOQOtdFjT6z2boazMakez9c8_9vYKNPoxBvl4sb1lj2oh73WuBB6Xgw2INMlBYmbvLtDqr62GTtG2TDR0ZfZnkFt6qLdfkD4pWUvDdXcwW1TsK4hn5aFumgTJmgmpa5xpexrocJ-nUkNxRIP452Uv5WMsBxG8feyVPv3ItZOBBYVstxVU0ChJ6e1eeWg_f9LxgoaWFSTYsz9GmRjfeZt3Q7y4e233McQwUohgXb6mWr8vhLm_2Wf3pfJDO5bWlZigGQ=s64",
      "userId": "16059923818223643809"
     },
     "user_tz": -600
    },
    "id": "tH5mMDLT_VbN"
   },
   "outputs": [],
   "source": [
    "# shuffle training data\n",
    "from sklearn.utils import shuffle\n",
    "X_train2, y_train2 = shuffle(X_train, y_train, random_state=42)"
   ]
  },
  {
   "cell_type": "code",
   "execution_count": 52,
   "metadata": {
    "colab": {
     "base_uri": "https://localhost:8080/",
     "height": 52
    },
    "colab_type": "code",
    "executionInfo": {
     "elapsed": 91758,
     "status": "ok",
     "timestamp": 1593600930906,
     "user": {
      "displayName": "Mai Anh Ly",
      "photoUrl": "https://lh3.googleusercontent.com/a-/AOh14GiTexBMt-AUEZpk96L7Z1arOIM08Wxol5Q41MU6RLCdLOPTs6LcmAwyJAvmOiw6ZD74sR6znKstA2EIzcy04m7B_kcmHYu8Z-XEUO-t0QG-6j7I-xlx7Lfekx4j3dnt4RaVjRh83b6B4qlnBUsp_Gk2DTdi6Whc2pg_XGk_b9ZPHqQQA0ZRwKtBrA-NWrJyWRXuH28HvFMXJBpPF-2C8qmIsnmd2BhwPXhhmCK2IE2pL1JBawJ0QK4VAVpZYdHlKxrpTpz-agZC0SR64H6LfiU2FFCI8fBbG3Md5Eh1kqqV7fISU6v-N_-oodUZHz95tPuHRl-SNAcGU5k3l6rWeCiiryKFH1YeL9LM5_SvFMq9kyg73EDSjdOT9-gorHh2G-x0Qlw0PcWvB_er6OfJ-YgFwjiEWz2ABl0JzYMzEXaJBxA7dQ7lftDr9FY1RReD4u9DkKUFh0YwPw02-UFhhieotVC9Z4Q2dtWCPdihGgbbNcPal9-peb4HPKJ7YxAEOQOtdFjT6z2boazMakez9c8_9vYKNPoxBvl4sb1lj2oh73WuBB6Xgw2INMlBYmbvLtDqr62GTtG2TDR0ZfZnkFt6qLdfkD4pWUvDdXcwW1TsK4hn5aFumgTJmgmpa5xpexrocJ-nUkNxRIP452Uv5WMsBxG8feyVPv3ItZOBBYVstxVU0ChJ6e1eeWg_f9LxgoaWFSTYsz9GmRjfeZt3Q7y4e233McQwUohgXb6mWr8vhLm_2Wf3pfJDO5bWlZigGQ=s64",
      "userId": "16059923818223643809"
     },
     "user_tz": -600
    },
    "id": "idAp5HXR04xn",
    "outputId": "d09a42cb-e8bd-48d0-cf15-6b3755969507"
   },
   "outputs": [
    {
     "name": "stdout",
     "output_type": "stream",
     "text": [
      "CPU times: user 1min 47s, sys: 9.93 s, total: 1min 57s\n",
      "Wall time: 1min 30s\n"
     ]
    }
   ],
   "source": [
    "%%time\n",
    "# Fit the model\n",
    "history = model.fit(\n",
    "    X_train2,\n",
    "    y_train2,\n",
    "    validation_split = 0.25,\n",
    "    batch_size = 10,\n",
    "    epochs = 1000,\n",
    "    verbose = 0)"
   ]
  },
  {
   "cell_type": "markdown",
   "metadata": {
    "colab_type": "text",
    "id": "pbUOslHB04xp"
   },
   "source": [
    "# Create predictions"
   ]
  },
  {
   "cell_type": "code",
   "execution_count": 42,
   "metadata": {
    "colab": {},
    "colab_type": "code",
    "executionInfo": {
     "elapsed": 898,
     "status": "ok",
     "timestamp": 1593600522451,
     "user": {
      "displayName": "Mai Anh Ly",
      "photoUrl": "https://lh3.googleusercontent.com/a-/AOh14GiTexBMt-AUEZpk96L7Z1arOIM08Wxol5Q41MU6RLCdLOPTs6LcmAwyJAvmOiw6ZD74sR6znKstA2EIzcy04m7B_kcmHYu8Z-XEUO-t0QG-6j7I-xlx7Lfekx4j3dnt4RaVjRh83b6B4qlnBUsp_Gk2DTdi6Whc2pg_XGk_b9ZPHqQQA0ZRwKtBrA-NWrJyWRXuH28HvFMXJBpPF-2C8qmIsnmd2BhwPXhhmCK2IE2pL1JBawJ0QK4VAVpZYdHlKxrpTpz-agZC0SR64H6LfiU2FFCI8fBbG3Md5Eh1kqqV7fISU6v-N_-oodUZHz95tPuHRl-SNAcGU5k3l6rWeCiiryKFH1YeL9LM5_SvFMq9kyg73EDSjdOT9-gorHh2G-x0Qlw0PcWvB_er6OfJ-YgFwjiEWz2ABl0JzYMzEXaJBxA7dQ7lftDr9FY1RReD4u9DkKUFh0YwPw02-UFhhieotVC9Z4Q2dtWCPdihGgbbNcPal9-peb4HPKJ7YxAEOQOtdFjT6z2boazMakez9c8_9vYKNPoxBvl4sb1lj2oh73WuBB6Xgw2INMlBYmbvLtDqr62GTtG2TDR0ZfZnkFt6qLdfkD4pWUvDdXcwW1TsK4hn5aFumgTJmgmpa5xpexrocJ-nUkNxRIP452Uv5WMsBxG8feyVPv3ItZOBBYVstxVU0ChJ6e1eeWg_f9LxgoaWFSTYsz9GmRjfeZt3Q7y4e233McQwUohgXb6mWr8vhLm_2Wf3pfJDO5bWlZigGQ=s64",
      "userId": "16059923818223643809"
     },
     "user_tz": -600
    },
    "id": "DnYp-ZzG04xp"
   },
   "outputs": [],
   "source": [
    "predictions = model.predict(X_test)"
   ]
  },
  {
   "cell_type": "markdown",
   "metadata": {
    "colab_type": "text",
    "id": "jeCZ_bYy04xr"
   },
   "source": [
    "## Evaluate the model"
   ]
  },
  {
   "cell_type": "code",
   "execution_count": 54,
   "metadata": {
    "colab": {
     "base_uri": "https://localhost:8080/",
     "height": 70
    },
    "colab_type": "code",
    "executionInfo": {
     "elapsed": 922,
     "status": "ok",
     "timestamp": 1593601165795,
     "user": {
      "displayName": "Mai Anh Ly",
      "photoUrl": "https://lh3.googleusercontent.com/a-/AOh14GiTexBMt-AUEZpk96L7Z1arOIM08Wxol5Q41MU6RLCdLOPTs6LcmAwyJAvmOiw6ZD74sR6znKstA2EIzcy04m7B_kcmHYu8Z-XEUO-t0QG-6j7I-xlx7Lfekx4j3dnt4RaVjRh83b6B4qlnBUsp_Gk2DTdi6Whc2pg_XGk_b9ZPHqQQA0ZRwKtBrA-NWrJyWRXuH28HvFMXJBpPF-2C8qmIsnmd2BhwPXhhmCK2IE2pL1JBawJ0QK4VAVpZYdHlKxrpTpz-agZC0SR64H6LfiU2FFCI8fBbG3Md5Eh1kqqV7fISU6v-N_-oodUZHz95tPuHRl-SNAcGU5k3l6rWeCiiryKFH1YeL9LM5_SvFMq9kyg73EDSjdOT9-gorHh2G-x0Qlw0PcWvB_er6OfJ-YgFwjiEWz2ABl0JzYMzEXaJBxA7dQ7lftDr9FY1RReD4u9DkKUFh0YwPw02-UFhhieotVC9Z4Q2dtWCPdihGgbbNcPal9-peb4HPKJ7YxAEOQOtdFjT6z2boazMakez9c8_9vYKNPoxBvl4sb1lj2oh73WuBB6Xgw2INMlBYmbvLtDqr62GTtG2TDR0ZfZnkFt6qLdfkD4pWUvDdXcwW1TsK4hn5aFumgTJmgmpa5xpexrocJ-nUkNxRIP452Uv5WMsBxG8feyVPv3ItZOBBYVstxVU0ChJ6e1eeWg_f9LxgoaWFSTYsz9GmRjfeZt3Q7y4e233McQwUohgXb6mWr8vhLm_2Wf3pfJDO5bWlZigGQ=s64",
      "userId": "16059923818223643809"
     },
     "user_tz": -600
    },
    "id": "qHRqms0v04xs",
    "outputId": "b4f02def-ac61-4120-fff2-50d887c4affd"
   },
   "outputs": [
    {
     "name": "stdout",
     "output_type": "stream",
     "text": [
      "5/5 [==============================] - 0s 6ms/step - loss: 3309.0061 - mse: 3309.0061\n",
      "\n",
      "Test loss: 3309.006104\n"
     ]
    }
   ],
   "source": [
    "# Calculate test MSE\n",
    "score = model.evaluate(X_test, y_test)\n",
    "print('\\nTest loss: %.6f' % score[0])"
   ]
  },
  {
   "cell_type": "code",
   "execution_count": 44,
   "metadata": {
    "colab": {
     "base_uri": "https://localhost:8080/",
     "height": 34
    },
    "colab_type": "code",
    "executionInfo": {
     "elapsed": 868,
     "status": "ok",
     "timestamp": 1593600530490,
     "user": {
      "displayName": "Mai Anh Ly",
      "photoUrl": "https://lh3.googleusercontent.com/a-/AOh14GiTexBMt-AUEZpk96L7Z1arOIM08Wxol5Q41MU6RLCdLOPTs6LcmAwyJAvmOiw6ZD74sR6znKstA2EIzcy04m7B_kcmHYu8Z-XEUO-t0QG-6j7I-xlx7Lfekx4j3dnt4RaVjRh83b6B4qlnBUsp_Gk2DTdi6Whc2pg_XGk_b9ZPHqQQA0ZRwKtBrA-NWrJyWRXuH28HvFMXJBpPF-2C8qmIsnmd2BhwPXhhmCK2IE2pL1JBawJ0QK4VAVpZYdHlKxrpTpz-agZC0SR64H6LfiU2FFCI8fBbG3Md5Eh1kqqV7fISU6v-N_-oodUZHz95tPuHRl-SNAcGU5k3l6rWeCiiryKFH1YeL9LM5_SvFMq9kyg73EDSjdOT9-gorHh2G-x0Qlw0PcWvB_er6OfJ-YgFwjiEWz2ABl0JzYMzEXaJBxA7dQ7lftDr9FY1RReD4u9DkKUFh0YwPw02-UFhhieotVC9Z4Q2dtWCPdihGgbbNcPal9-peb4HPKJ7YxAEOQOtdFjT6z2boazMakez9c8_9vYKNPoxBvl4sb1lj2oh73WuBB6Xgw2INMlBYmbvLtDqr62GTtG2TDR0ZfZnkFt6qLdfkD4pWUvDdXcwW1TsK4hn5aFumgTJmgmpa5xpexrocJ-nUkNxRIP452Uv5WMsBxG8feyVPv3ItZOBBYVstxVU0ChJ6e1eeWg_f9LxgoaWFSTYsz9GmRjfeZt3Q7y4e233McQwUohgXb6mWr8vhLm_2Wf3pfJDO5bWlZigGQ=s64",
      "userId": "16059923818223643809"
     },
     "user_tz": -600
    },
    "id": "nSWFaA4b9x2g",
    "outputId": "c6db317d-df37-426d-c31d-2a1f8d9a3db6"
   },
   "outputs": [
    {
     "data": {
      "text/plain": [
       "[3367.392822265625, 3367.392822265625]"
      ]
     },
     "execution_count": 44,
     "metadata": {
      "tags": []
     },
     "output_type": "execute_result"
    }
   ],
   "source": [
    "score"
   ]
  },
  {
   "cell_type": "code",
   "execution_count": 55,
   "metadata": {
    "colab": {
     "base_uri": "https://localhost:8080/",
     "height": 34
    },
    "colab_type": "code",
    "executionInfo": {
     "elapsed": 920,
     "status": "ok",
     "timestamp": 1593601168507,
     "user": {
      "displayName": "Mai Anh Ly",
      "photoUrl": "https://lh3.googleusercontent.com/a-/AOh14GiTexBMt-AUEZpk96L7Z1arOIM08Wxol5Q41MU6RLCdLOPTs6LcmAwyJAvmOiw6ZD74sR6znKstA2EIzcy04m7B_kcmHYu8Z-XEUO-t0QG-6j7I-xlx7Lfekx4j3dnt4RaVjRh83b6B4qlnBUsp_Gk2DTdi6Whc2pg_XGk_b9ZPHqQQA0ZRwKtBrA-NWrJyWRXuH28HvFMXJBpPF-2C8qmIsnmd2BhwPXhhmCK2IE2pL1JBawJ0QK4VAVpZYdHlKxrpTpz-agZC0SR64H6LfiU2FFCI8fBbG3Md5Eh1kqqV7fISU6v-N_-oodUZHz95tPuHRl-SNAcGU5k3l6rWeCiiryKFH1YeL9LM5_SvFMq9kyg73EDSjdOT9-gorHh2G-x0Qlw0PcWvB_er6OfJ-YgFwjiEWz2ABl0JzYMzEXaJBxA7dQ7lftDr9FY1RReD4u9DkKUFh0YwPw02-UFhhieotVC9Z4Q2dtWCPdihGgbbNcPal9-peb4HPKJ7YxAEOQOtdFjT6z2boazMakez9c8_9vYKNPoxBvl4sb1lj2oh73WuBB6Xgw2INMlBYmbvLtDqr62GTtG2TDR0ZfZnkFt6qLdfkD4pWUvDdXcwW1TsK4hn5aFumgTJmgmpa5xpexrocJ-nUkNxRIP452Uv5WMsBxG8feyVPv3ItZOBBYVstxVU0ChJ6e1eeWg_f9LxgoaWFSTYsz9GmRjfeZt3Q7y4e233McQwUohgXb6mWr8vhLm_2Wf3pfJDO5bWlZigGQ=s64",
      "userId": "16059923818223643809"
     },
     "user_tz": -600
    },
    "id": "oG8-43tP2qiF",
    "outputId": "0b164a46-0a1e-4af0-c07b-4f8f20de9b46"
   },
   "outputs": [
    {
     "data": {
      "text/plain": [
       "57.52396112504445"
      ]
     },
     "execution_count": 55,
     "metadata": {
      "tags": []
     },
     "output_type": "execute_result"
    }
   ],
   "source": [
    "# Find RMSE\n",
    "score[0] ** (1/2)"
   ]
  },
  {
   "cell_type": "code",
   "execution_count": 34,
   "metadata": {
    "colab": {
     "base_uri": "https://localhost:8080/",
     "height": 34
    },
    "colab_type": "code",
    "executionInfo": {
     "elapsed": 952,
     "status": "ok",
     "timestamp": 1593600108601,
     "user": {
      "displayName": "Mai Anh Ly",
      "photoUrl": "https://lh3.googleusercontent.com/a-/AOh14GiTexBMt-AUEZpk96L7Z1arOIM08Wxol5Q41MU6RLCdLOPTs6LcmAwyJAvmOiw6ZD74sR6znKstA2EIzcy04m7B_kcmHYu8Z-XEUO-t0QG-6j7I-xlx7Lfekx4j3dnt4RaVjRh83b6B4qlnBUsp_Gk2DTdi6Whc2pg_XGk_b9ZPHqQQA0ZRwKtBrA-NWrJyWRXuH28HvFMXJBpPF-2C8qmIsnmd2BhwPXhhmCK2IE2pL1JBawJ0QK4VAVpZYdHlKxrpTpz-agZC0SR64H6LfiU2FFCI8fBbG3Md5Eh1kqqV7fISU6v-N_-oodUZHz95tPuHRl-SNAcGU5k3l6rWeCiiryKFH1YeL9LM5_SvFMq9kyg73EDSjdOT9-gorHh2G-x0Qlw0PcWvB_er6OfJ-YgFwjiEWz2ABl0JzYMzEXaJBxA7dQ7lftDr9FY1RReD4u9DkKUFh0YwPw02-UFhhieotVC9Z4Q2dtWCPdihGgbbNcPal9-peb4HPKJ7YxAEOQOtdFjT6z2boazMakez9c8_9vYKNPoxBvl4sb1lj2oh73WuBB6Xgw2INMlBYmbvLtDqr62GTtG2TDR0ZfZnkFt6qLdfkD4pWUvDdXcwW1TsK4hn5aFumgTJmgmpa5xpexrocJ-nUkNxRIP452Uv5WMsBxG8feyVPv3ItZOBBYVstxVU0ChJ6e1eeWg_f9LxgoaWFSTYsz9GmRjfeZt3Q7y4e233McQwUohgXb6mWr8vhLm_2Wf3pfJDO5bWlZigGQ=s64",
      "userId": "16059923818223643809"
     },
     "user_tz": -600
    },
    "id": "r9l21F3j98qK",
    "outputId": "7c4e9356-6ee7-4cc5-c57c-b742096103ef"
   },
   "outputs": [
    {
     "data": {
      "text/plain": [
       "152.13348416289594"
      ]
     },
     "execution_count": 34,
     "metadata": {
      "tags": []
     },
     "output_type": "execute_result"
    }
   ],
   "source": [
    "y.mean()"
   ]
  },
  {
   "cell_type": "code",
   "execution_count": 51,
   "metadata": {
    "colab": {
     "base_uri": "https://localhost:8080/",
     "height": 34
    },
    "colab_type": "code",
    "executionInfo": {
     "elapsed": 885,
     "status": "ok",
     "timestamp": 1593600733381,
     "user": {
      "displayName": "Mai Anh Ly",
      "photoUrl": "https://lh3.googleusercontent.com/a-/AOh14GiTexBMt-AUEZpk96L7Z1arOIM08Wxol5Q41MU6RLCdLOPTs6LcmAwyJAvmOiw6ZD74sR6znKstA2EIzcy04m7B_kcmHYu8Z-XEUO-t0QG-6j7I-xlx7Lfekx4j3dnt4RaVjRh83b6B4qlnBUsp_Gk2DTdi6Whc2pg_XGk_b9ZPHqQQA0ZRwKtBrA-NWrJyWRXuH28HvFMXJBpPF-2C8qmIsnmd2BhwPXhhmCK2IE2pL1JBawJ0QK4VAVpZYdHlKxrpTpz-agZC0SR64H6LfiU2FFCI8fBbG3Md5Eh1kqqV7fISU6v-N_-oodUZHz95tPuHRl-SNAcGU5k3l6rWeCiiryKFH1YeL9LM5_SvFMq9kyg73EDSjdOT9-gorHh2G-x0Qlw0PcWvB_er6OfJ-YgFwjiEWz2ABl0JzYMzEXaJBxA7dQ7lftDr9FY1RReD4u9DkKUFh0YwPw02-UFhhieotVC9Z4Q2dtWCPdihGgbbNcPal9-peb4HPKJ7YxAEOQOtdFjT6z2boazMakez9c8_9vYKNPoxBvl4sb1lj2oh73WuBB6Xgw2INMlBYmbvLtDqr62GTtG2TDR0ZfZnkFt6qLdfkD4pWUvDdXcwW1TsK4hn5aFumgTJmgmpa5xpexrocJ-nUkNxRIP452Uv5WMsBxG8feyVPv3ItZOBBYVstxVU0ChJ6e1eeWg_f9LxgoaWFSTYsz9GmRjfeZt3Q7y4e233McQwUohgXb6mWr8vhLm_2Wf3pfJDO5bWlZigGQ=s64",
      "userId": "16059923818223643809"
     },
     "user_tz": -600
    },
    "id": "lc4hzs9WAV7E",
    "outputId": "93cbe05a-0ab4-4e27-cdbd-ad1bf5f2d145"
   },
   "outputs": [
    {
     "data": {
      "text/plain": [
       "77.00574586945044"
      ]
     },
     "execution_count": 51,
     "metadata": {
      "tags": []
     },
     "output_type": "execute_result"
    }
   ],
   "source": [
    "y.std()"
   ]
  },
  {
   "cell_type": "code",
   "execution_count": 35,
   "metadata": {
    "colab": {
     "base_uri": "https://localhost:8080/",
     "height": 34
    },
    "colab_type": "code",
    "executionInfo": {
     "elapsed": 923,
     "status": "ok",
     "timestamp": 1593600132837,
     "user": {
      "displayName": "Mai Anh Ly",
      "photoUrl": "https://lh3.googleusercontent.com/a-/AOh14GiTexBMt-AUEZpk96L7Z1arOIM08Wxol5Q41MU6RLCdLOPTs6LcmAwyJAvmOiw6ZD74sR6znKstA2EIzcy04m7B_kcmHYu8Z-XEUO-t0QG-6j7I-xlx7Lfekx4j3dnt4RaVjRh83b6B4qlnBUsp_Gk2DTdi6Whc2pg_XGk_b9ZPHqQQA0ZRwKtBrA-NWrJyWRXuH28HvFMXJBpPF-2C8qmIsnmd2BhwPXhhmCK2IE2pL1JBawJ0QK4VAVpZYdHlKxrpTpz-agZC0SR64H6LfiU2FFCI8fBbG3Md5Eh1kqqV7fISU6v-N_-oodUZHz95tPuHRl-SNAcGU5k3l6rWeCiiryKFH1YeL9LM5_SvFMq9kyg73EDSjdOT9-gorHh2G-x0Qlw0PcWvB_er6OfJ-YgFwjiEWz2ABl0JzYMzEXaJBxA7dQ7lftDr9FY1RReD4u9DkKUFh0YwPw02-UFhhieotVC9Z4Q2dtWCPdihGgbbNcPal9-peb4HPKJ7YxAEOQOtdFjT6z2boazMakez9c8_9vYKNPoxBvl4sb1lj2oh73WuBB6Xgw2INMlBYmbvLtDqr62GTtG2TDR0ZfZnkFt6qLdfkD4pWUvDdXcwW1TsK4hn5aFumgTJmgmpa5xpexrocJ-nUkNxRIP452Uv5WMsBxG8feyVPv3ItZOBBYVstxVU0ChJ6e1eeWg_f9LxgoaWFSTYsz9GmRjfeZt3Q7y4e233McQwUohgXb6mWr8vhLm_2Wf3pfJDO5bWlZigGQ=s64",
      "userId": "16059923818223643809"
     },
     "user_tz": -600
    },
    "id": "DJ9Vq5Xe-DHe",
    "outputId": "3882dc30-8d20-4b91-f8c5-a2897d5a9acb"
   },
   "outputs": [
    {
     "data": {
      "text/plain": [
       "25.0"
      ]
     },
     "execution_count": 35,
     "metadata": {
      "tags": []
     },
     "output_type": "execute_result"
    }
   ],
   "source": [
    "y.min()"
   ]
  },
  {
   "cell_type": "code",
   "execution_count": 36,
   "metadata": {
    "colab": {
     "base_uri": "https://localhost:8080/",
     "height": 34
    },
    "colab_type": "code",
    "executionInfo": {
     "elapsed": 1068,
     "status": "ok",
     "timestamp": 1593600141469,
     "user": {
      "displayName": "Mai Anh Ly",
      "photoUrl": "https://lh3.googleusercontent.com/a-/AOh14GiTexBMt-AUEZpk96L7Z1arOIM08Wxol5Q41MU6RLCdLOPTs6LcmAwyJAvmOiw6ZD74sR6znKstA2EIzcy04m7B_kcmHYu8Z-XEUO-t0QG-6j7I-xlx7Lfekx4j3dnt4RaVjRh83b6B4qlnBUsp_Gk2DTdi6Whc2pg_XGk_b9ZPHqQQA0ZRwKtBrA-NWrJyWRXuH28HvFMXJBpPF-2C8qmIsnmd2BhwPXhhmCK2IE2pL1JBawJ0QK4VAVpZYdHlKxrpTpz-agZC0SR64H6LfiU2FFCI8fBbG3Md5Eh1kqqV7fISU6v-N_-oodUZHz95tPuHRl-SNAcGU5k3l6rWeCiiryKFH1YeL9LM5_SvFMq9kyg73EDSjdOT9-gorHh2G-x0Qlw0PcWvB_er6OfJ-YgFwjiEWz2ABl0JzYMzEXaJBxA7dQ7lftDr9FY1RReD4u9DkKUFh0YwPw02-UFhhieotVC9Z4Q2dtWCPdihGgbbNcPal9-peb4HPKJ7YxAEOQOtdFjT6z2boazMakez9c8_9vYKNPoxBvl4sb1lj2oh73WuBB6Xgw2INMlBYmbvLtDqr62GTtG2TDR0ZfZnkFt6qLdfkD4pWUvDdXcwW1TsK4hn5aFumgTJmgmpa5xpexrocJ-nUkNxRIP452Uv5WMsBxG8feyVPv3ItZOBBYVstxVU0ChJ6e1eeWg_f9LxgoaWFSTYsz9GmRjfeZt3Q7y4e233McQwUohgXb6mWr8vhLm_2Wf3pfJDO5bWlZigGQ=s64",
      "userId": "16059923818223643809"
     },
     "user_tz": -600
    },
    "id": "A-jgJBj7-E4m",
    "outputId": "7cbd6d57-584d-4760-d078-0b8982c962e3"
   },
   "outputs": [
    {
     "data": {
      "text/plain": [
       "346.0"
      ]
     },
     "execution_count": 36,
     "metadata": {
      "tags": []
     },
     "output_type": "execute_result"
    }
   ],
   "source": [
    "y.max()"
   ]
  },
  {
   "cell_type": "markdown",
   "metadata": {
    "colab_type": "text",
    "id": "TQZ_SUYM04xx"
   },
   "source": [
    "# Visualisation of cost"
   ]
  },
  {
   "cell_type": "code",
   "execution_count": 39,
   "metadata": {
    "colab": {
     "base_uri": "https://localhost:8080/",
     "height": 1000
    },
    "colab_type": "code",
    "executionInfo": {
     "elapsed": 931,
     "status": "ok",
     "timestamp": 1593600300835,
     "user": {
      "displayName": "Mai Anh Ly",
      "photoUrl": "https://lh3.googleusercontent.com/a-/AOh14GiTexBMt-AUEZpk96L7Z1arOIM08Wxol5Q41MU6RLCdLOPTs6LcmAwyJAvmOiw6ZD74sR6znKstA2EIzcy04m7B_kcmHYu8Z-XEUO-t0QG-6j7I-xlx7Lfekx4j3dnt4RaVjRh83b6B4qlnBUsp_Gk2DTdi6Whc2pg_XGk_b9ZPHqQQA0ZRwKtBrA-NWrJyWRXuH28HvFMXJBpPF-2C8qmIsnmd2BhwPXhhmCK2IE2pL1JBawJ0QK4VAVpZYdHlKxrpTpz-agZC0SR64H6LfiU2FFCI8fBbG3Md5Eh1kqqV7fISU6v-N_-oodUZHz95tPuHRl-SNAcGU5k3l6rWeCiiryKFH1YeL9LM5_SvFMq9kyg73EDSjdOT9-gorHh2G-x0Qlw0PcWvB_er6OfJ-YgFwjiEWz2ABl0JzYMzEXaJBxA7dQ7lftDr9FY1RReD4u9DkKUFh0YwPw02-UFhhieotVC9Z4Q2dtWCPdihGgbbNcPal9-peb4HPKJ7YxAEOQOtdFjT6z2boazMakez9c8_9vYKNPoxBvl4sb1lj2oh73WuBB6Xgw2INMlBYmbvLtDqr62GTtG2TDR0ZfZnkFt6qLdfkD4pWUvDdXcwW1TsK4hn5aFumgTJmgmpa5xpexrocJ-nUkNxRIP452Uv5WMsBxG8feyVPv3ItZOBBYVstxVU0ChJ6e1eeWg_f9LxgoaWFSTYsz9GmRjfeZt3Q7y4e233McQwUohgXb6mWr8vhLm_2Wf3pfJDO5bWlZigGQ=s64",
      "userId": "16059923818223643809"
     },
     "user_tz": -600
    },
    "id": "To1WcYU--pds",
    "outputId": "8eb10144-4c2a-450e-9ca8-89dc1d894cf4"
   },
   "outputs": [
    {
     "data": {
      "text/plain": [
       "{'loss': [2566.098388671875,\n",
       "  2567.633056640625,\n",
       "  2567.767333984375,\n",
       "  2566.571533203125,\n",
       "  2566.561767578125,\n",
       "  2566.452392578125,\n",
       "  2566.69580078125,\n",
       "  2568.137939453125,\n",
       "  2568.147705078125,\n",
       "  2567.407470703125,\n",
       "  2566.38330078125,\n",
       "  2567.964599609375,\n",
       "  2566.787841796875,\n",
       "  2567.4697265625,\n",
       "  2566.841796875,\n",
       "  2566.69482421875,\n",
       "  2566.7177734375,\n",
       "  2566.484375,\n",
       "  2566.89990234375,\n",
       "  2566.406005859375],\n",
       " 'mse': [2566.098388671875,\n",
       "  2567.633056640625,\n",
       "  2567.767333984375,\n",
       "  2566.571533203125,\n",
       "  2566.561767578125,\n",
       "  2566.452392578125,\n",
       "  2566.69580078125,\n",
       "  2568.137939453125,\n",
       "  2568.147705078125,\n",
       "  2567.407470703125,\n",
       "  2566.38330078125,\n",
       "  2567.964599609375,\n",
       "  2566.787841796875,\n",
       "  2567.4697265625,\n",
       "  2566.841796875,\n",
       "  2566.69482421875,\n",
       "  2566.7177734375,\n",
       "  2566.484375,\n",
       "  2566.89990234375,\n",
       "  2566.406005859375],\n",
       " 'val_loss': [3290.956787109375,\n",
       "  3290.30517578125,\n",
       "  3289.83544921875,\n",
       "  3290.418212890625,\n",
       "  3290.7236328125,\n",
       "  3290.75146484375,\n",
       "  3290.9248046875,\n",
       "  3290.6171875,\n",
       "  3291.065673828125,\n",
       "  3291.07177734375,\n",
       "  3290.929931640625,\n",
       "  3290.80908203125,\n",
       "  3290.824951171875,\n",
       "  3291.31640625,\n",
       "  3290.9404296875,\n",
       "  3291.07568359375,\n",
       "  3291.52783203125,\n",
       "  3291.66455078125,\n",
       "  3291.559814453125,\n",
       "  3291.88525390625],\n",
       " 'val_mse': [3290.956787109375,\n",
       "  3290.30517578125,\n",
       "  3289.83544921875,\n",
       "  3290.418212890625,\n",
       "  3290.7236328125,\n",
       "  3290.75146484375,\n",
       "  3290.9248046875,\n",
       "  3290.6171875,\n",
       "  3291.065673828125,\n",
       "  3291.07177734375,\n",
       "  3290.929931640625,\n",
       "  3290.80908203125,\n",
       "  3290.824951171875,\n",
       "  3291.31640625,\n",
       "  3290.9404296875,\n",
       "  3291.07568359375,\n",
       "  3291.52783203125,\n",
       "  3291.66455078125,\n",
       "  3291.559814453125,\n",
       "  3291.88525390625]}"
      ]
     },
     "execution_count": 39,
     "metadata": {
      "tags": []
     },
     "output_type": "execute_result"
    }
   ],
   "source": [
    "history.history"
   ]
  },
  {
   "cell_type": "code",
   "execution_count": 53,
   "metadata": {
    "colab": {
     "base_uri": "https://localhost:8080/",
     "height": 290
    },
    "colab_type": "code",
    "executionInfo": {
     "elapsed": 1986,
     "status": "ok",
     "timestamp": 1593600948239,
     "user": {
      "displayName": "Mai Anh Ly",
      "photoUrl": "https://lh3.googleusercontent.com/a-/AOh14GiTexBMt-AUEZpk96L7Z1arOIM08Wxol5Q41MU6RLCdLOPTs6LcmAwyJAvmOiw6ZD74sR6znKstA2EIzcy04m7B_kcmHYu8Z-XEUO-t0QG-6j7I-xlx7Lfekx4j3dnt4RaVjRh83b6B4qlnBUsp_Gk2DTdi6Whc2pg_XGk_b9ZPHqQQA0ZRwKtBrA-NWrJyWRXuH28HvFMXJBpPF-2C8qmIsnmd2BhwPXhhmCK2IE2pL1JBawJ0QK4VAVpZYdHlKxrpTpz-agZC0SR64H6LfiU2FFCI8fBbG3Md5Eh1kqqV7fISU6v-N_-oodUZHz95tPuHRl-SNAcGU5k3l6rWeCiiryKFH1YeL9LM5_SvFMq9kyg73EDSjdOT9-gorHh2G-x0Qlw0PcWvB_er6OfJ-YgFwjiEWz2ABl0JzYMzEXaJBxA7dQ7lftDr9FY1RReD4u9DkKUFh0YwPw02-UFhhieotVC9Z4Q2dtWCPdihGgbbNcPal9-peb4HPKJ7YxAEOQOtdFjT6z2boazMakez9c8_9vYKNPoxBvl4sb1lj2oh73WuBB6Xgw2INMlBYmbvLtDqr62GTtG2TDR0ZfZnkFt6qLdfkD4pWUvDdXcwW1TsK4hn5aFumgTJmgmpa5xpexrocJ-nUkNxRIP452Uv5WMsBxG8feyVPv3ItZOBBYVstxVU0ChJ6e1eeWg_f9LxgoaWFSTYsz9GmRjfeZt3Q7y4e233McQwUohgXb6mWr8vhLm_2Wf3pfJDO5bWlZigGQ=s64",
      "userId": "16059923818223643809"
     },
     "user_tz": -600
    },
    "id": "sL46BZgW04xy",
    "outputId": "114cc555-0a8c-498e-f881-b28e1892adf1",
    "scrolled": true
   },
   "outputs": [
    {
     "data": {
      "image/png": "[encoded data removed]",
      "text/plain": [
       "<Figure size 1296x432 with 2 Axes>"
      ]
     },
     "metadata": {
      "needs_background": "light",
      "tags": []
     },
     "output_type": "display_data"
    }
   ],
   "source": [
    "fig, ax = plt.subplots(1, 2, figsize = (18, 6))\n",
    "fig.subplots_adjust(left = 0.02, right = 0.98, wspace = 0.2)\n",
    "\n",
    "plt.rcParams.update({'font.size': 14})\n",
    "\n",
    "# Plot training & validation accuracy values\n",
    "ax[0].plot(history.history['mse'], label = 'Training')\n",
    "ax[0].plot(history.history['val_mse'], label = 'Validation')\n",
    "ax[0].set_title('Model MSE')\n",
    "ax[0].set_ylabel('MSE')\n",
    "ax[0].set_xlabel('Epoch')\n",
    "ax[0].legend()\n",
    "\n",
    "# Plot training & validation loss values\n",
    "ax[1].plot(history.history['loss'], label = 'Training')\n",
    "ax[1].plot(history.history['val_loss'], label = 'Validation')\n",
    "ax[1].set_title('Model loss')\n",
    "ax[1].set_ylabel('Loss')\n",
    "ax[1].set_xlabel('Epoch')\n",
    "ax[1].legend()\n",
    "\n",
    "plt.show()"
   ]
  },
  {
   "cell_type": "markdown",
   "metadata": {
    "colab_type": "text",
    "id": "0eEMBdX804x1"
   },
   "source": [
    "# Visualisation of residuals"
   ]
  },
  {
   "cell_type": "code",
   "execution_count": null,
   "metadata": {
    "colab": {},
    "colab_type": "code",
    "id": "Uo_8-XPt04x2"
   },
   "outputs": [],
   "source": [
    "# Calculate R2 and adjusted R2\n",
    "r2 = r2_score(y_test, predictions)\n",
    "n, p = X.shape # sample size, number of explanatory variables\n",
    "adjusted_r2 = 1 - (1 - r2) * ((n - 1) / (n - p - 1))"
   ]
  },
  {
   "cell_type": "code",
   "execution_count": null,
   "metadata": {
    "colab": {
     "base_uri": "https://localhost:8080/",
     "height": 389
    },
    "colab_type": "code",
    "executionInfo": {
     "elapsed": 2143,
     "status": "ok",
     "timestamp": 1592963414557,
     "user": {
      "displayName": "Mai Anh Ly",
      "photoUrl": "https://lh3.googleusercontent.com/a-/AOh14GhB5Hx62LwCWDIKsqaLzDccnfpXgnTBZ5cztDGRSEkBtRzjg6Xxq_DIc5dvpwyKc-ninTcbe_GL7d4-Aw42QD_d9IUEib222tmcx9zsMdtcbzC_3-14-DuBCcvRrKozmXlmjERBOqgDr8YjzShTrW10a5ifBI938TLRfiexeH1ANZjfP8NWFGYccit21wA7DXiTKfI7zCfUVboeNfgw0wHcq4I_w1qvyE4XagfENB9bNYee3ACQVEaEuhOyS0XNzl2ILqISWMHPa9be14Fy8h4Eh-YciSwasclhfTrtrOpfwbMxOPRRc38cpTESiLqw8j9OOFP9WzhA50NY9E57PZN0XKdNDEJMwfTIu-XnfoPigLv1Rehqw02_JJ9U4u3_Rb-ma86luUvKKlayhaF5A2NFQa133daJBDcxQm9W8u1lqWhZdibrrPQ_H0anoryOdcs2ZIG4V4jWzaFgBWIChHop85FxT4aijHjayzQNTwdfXPgwWnA1MgHwjxIhg9y6AhlKH2akwi0HcXwZXNftqbMk80W-rdbP1h9bqr6dvgforOlBQAMl2mpi90H9ECmK5ylax8LBEsYRVBh-nSI0Lft1XixPhuOBAQhKTjwfwi7cb5X-eF-JsUzrqdQ0LMEf8IHHKqRUcwpk3j6Fu1YcO1XajQKMaTYmHl-9UOV-VQOmAc6dG8R2CenY-QStdlwrWha3pEngxQ1V8dqM12xyLRCZVRd0tvHOh_ijjz-cPmGANrYIoImqBbtrfKDbs3WMzg=s64",
      "userId": "16059923818223643809"
     },
     "user_tz": -600
    },
    "id": "DubonHZ-04x4",
    "outputId": "be74f199-f37e-4950-e79b-374447b306bc"
   },
   "outputs": [
    {
     "data": {
      "image/png": "[encoded data removed]",
      "text/plain": [
       "<Figure size 1080x432 with 1 Axes>"
      ]
     },
     "metadata": {
      "needs_background": "light",
      "tags": []
     },
     "output_type": "display_data"
    }
   ],
   "source": [
    "difference = predictions.flatten() - y_test\n",
    "d_mean = difference.mean()\n",
    "d_std = difference.std()\n",
    "n_pred = len(predictions)\n",
    "plt.figure(figsize = (15, 6))\n",
    "plt.scatter(range(n_pred), difference, s = 15)\n",
    "plt.hlines(d_mean + d_std, 0, n_pred, 'r', lw = 1, label = '$\\pm \\: std$')\n",
    "plt.hlines(d_mean, 0, n_pred, label = '$mean$')\n",
    "plt.hlines(d_mean - d_std, 0, n_pred, 'r', lw = 1)\n",
    "plt.xlabel('Prediction')\n",
    "plt.ylabel('$\\hat y - y$')\n",
    "plt.legend()\n",
    "plt.text(0, difference.max() * 0.95,\n",
    "         '$R^2: %.2f, \\: Adjusted \\: R^2: %.2f$' % (r2, adjusted_r2),\n",
    "         fontsize = 12)\n",
    "plt.show()"
   ]
  },
  {
   "cell_type": "markdown",
   "metadata": {
    "colab_type": "text",
    "id": "RERADKgNFq9T"
   },
   "source": [
    "© 2020 Institute of Data"
   ]
  }
 ],
 "metadata": {
  "accelerator": "GPU",
  "colab": {
   "collapsed_sections": [],
   "name": "IOD_Lab-10_1-Answers.ipynb",
   "provenance": []
  },
  "kernelspec": {
   "display_name": "Python 3",
   "language": "python",
   "name": "python3"
  },
  "language_info": {
   "codemirror_mode": {
    "name": "ipython",
    "version": 3
   },
   "file_extension": ".py",
   "mimetype": "text/x-python",
   "name": "python",
   "nbconvert_exporter": "python",
   "pygments_lexer": "ipython3",
   "version": "3.7.4"
  },
  "toc": {
   "base_numbering": 1,
   "nav_menu": {},
   "number_sections": true,
   "sideBar": true,
   "skip_h1_title": false,
   "title_cell": "Table of Contents",
   "title_sidebar": "Contents",
   "toc_cell": false,
   "toc_position": {},
   "toc_section_display": true,
   "toc_window_display": true
  }
 },
 "nbformat": 4,
 "nbformat_minor": 1
}
