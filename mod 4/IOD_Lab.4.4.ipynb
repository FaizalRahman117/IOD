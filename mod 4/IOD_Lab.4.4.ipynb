{
 "cells": [
  {
   "cell_type": "markdown",
   "metadata": {
    "colab_type": "text",
    "id": "PjSSoIn54lF3"
   },
   "source": [
    "<div>\n",
    "<img src=https://www.institutedata.com/wp-content/uploads/2019/10/iod_h_tp_primary_c.svg width=\"300\">\n",
    "</div>"
   ]
  },
  {
   "cell_type": "markdown",
   "metadata": {
    "colab_type": "text",
    "id": "cMUkUNVk4lF4"
   },
   "source": [
    "# Lab 4.2.2: Regularisation"
   ]
  },
  {
   "cell_type": "code",
   "execution_count": 0,
   "metadata": {
    "colab": {},
    "colab_type": "code",
    "id": "nb0PEVFo4lF5"
   },
   "outputs": [],
   "source": [
    "## Import Libraries\n",
    "\n",
    "import numpy as np\n",
    "import pandas as pd\n",
    "\n",
    "%matplotlib inline\n",
    "import matplotlib.pyplot as plt\n",
    "import seaborn as sns\n",
    "\n",
    "from sklearn import datasets\n",
    "from sklearn.linear_model import LinearRegression\n",
    "from sklearn.linear_model import Ridge, RidgeCV\n",
    "from sklearn.linear_model import Lasso, LassoCV\n",
    "from sklearn.model_selection import train_test_split\n",
    "from sklearn.metrics import mean_squared_error\n",
    "from sklearn.model_selection import cross_val_score\n",
    "\n",
    "## Avoid some version change warnings\n",
    "import warnings\n",
    "warnings.filterwarnings('ignore', message='numpy.dtype size changed')"
   ]
  },
  {
   "cell_type": "markdown",
   "metadata": {
    "colab_type": "text",
    "id": "bsUjeA7l4lF8"
   },
   "source": [
    "### 1. Regularisation\n",
    "\n",
    "The goal of \"regularizing\" regression models is to structurally prevent overfitting by imposing a penalty on the coefficients of the model.\n",
    "\n",
    "Regularization methods like the Ridge and Lasso add this additional \"penalty\" on the size of coefficients to the loss function. When the loss function is minimized, this additional component is added to the residual sum of squares.\n",
    "\n",
    "In other words, the minimization becomes a balance between the error between predictions and true values and the size of the coefficients. \n",
    "\n",
    "The two most common types of regularization are the **Lasso**, **Ridge**. "
   ]
  },
  {
   "cell_type": "markdown",
   "metadata": {
    "colab_type": "text",
    "id": "B3Y25eb14lF8"
   },
   "source": [
    "#### 1.1 Load Diabetics Data Using datasets of sklearn\n",
    "\n",
    "Hint: Check Lab 4.3"
   ]
  },
  {
   "cell_type": "code",
   "execution_count": 0,
   "metadata": {
    "colab": {},
    "colab_type": "code",
    "id": "l_a3Jm5P4lF9"
   },
   "outputs": [],
   "source": [
    "## Load the Diabetes dataset\n",
    "\n",
    "# Load the diabetes dataset from sklearn"
   ]
  },
  {
   "cell_type": "code",
   "execution_count": 0,
   "metadata": {
    "colab": {},
    "colab_type": "code",
    "id": "9opzGv7n4lGA"
   },
   "outputs": [],
   "source": [
    "# Description"
   ]
  },
  {
   "cell_type": "code",
   "execution_count": 0,
   "metadata": {
    "colab": {},
    "colab_type": "code",
    "id": "h7HBX2iM4lGF"
   },
   "outputs": [],
   "source": [
    "# Predictors"
   ]
  },
  {
   "cell_type": "code",
   "execution_count": 0,
   "metadata": {
    "colab": {},
    "colab_type": "code",
    "id": "fP2bodWd8WgK"
   },
   "outputs": [],
   "source": [
    "# Target\n",
    "y = diabetes.target"
   ]
  },
  {
   "cell_type": "markdown",
   "metadata": {
    "colab_type": "text",
    "id": "7x-dMa634lGH"
   },
   "source": [
    "#### 1.2 Create a Base Model Using Linear Regression"
   ]
  },
  {
   "cell_type": "code",
   "execution_count": 0,
   "metadata": {
    "colab": {},
    "colab_type": "code",
    "id": "6JdPzqMt4lGI"
   },
   "outputs": [],
   "source": [
    "# Create Model"
   ]
  },
  {
   "cell_type": "code",
   "execution_count": 0,
   "metadata": {
    "colab": {},
    "colab_type": "code",
    "id": "dLh17wzd4lGK"
   },
   "outputs": [],
   "source": [
    "# Fit"
   ]
  },
  {
   "cell_type": "code",
   "execution_count": 0,
   "metadata": {
    "colab": {},
    "colab_type": "code",
    "id": "60Su4c1c4lGO"
   },
   "outputs": [],
   "source": [
    "# Score"
   ]
  },
  {
   "cell_type": "code",
   "execution_count": 0,
   "metadata": {
    "colab": {},
    "colab_type": "code",
    "id": "Jo18NZ9H4lGR"
   },
   "outputs": [],
   "source": [
    "# Check Coeffiricent"
   ]
  },
  {
   "cell_type": "code",
   "execution_count": 0,
   "metadata": {
    "colab": {},
    "colab_type": "code",
    "id": "UaaRVN9H4lGX"
   },
   "outputs": [],
   "source": [
    "def view_coeff(X, model):\n",
    "    model_coefs = pd.DataFrame({'variable': X.columns,\n",
    "                                'coef': model.coef_,\n",
    "                                'abs_coef': np.abs(model.coef_)})\n",
    "    model_coefs.sort_values('abs_coef', inplace=True, ascending=False)\n",
    "    sns.barplot(x=\"variable\", y=\"coef\", data=model_coefs)"
   ]
  },
  {
   "cell_type": "code",
   "execution_count": 0,
   "metadata": {
    "colab": {},
    "colab_type": "code",
    "id": "f9ZS-3dn4lGb"
   },
   "outputs": [],
   "source": [
    "# Plot Coefficients\n",
    "view_coeff(X, model)"
   ]
  },
  {
   "cell_type": "markdown",
   "metadata": {
    "colab_type": "text",
    "id": "ItnYcWcp4lGf"
   },
   "source": [
    "#### 1.3 Ridge\n",
    "\n",
    "##### 1.3.1 Calculate Ridge Regression model"
   ]
  },
  {
   "cell_type": "code",
   "execution_count": 0,
   "metadata": {
    "colab": {},
    "colab_type": "code",
    "id": "brac_heZ4lGf"
   },
   "outputs": [],
   "source": [
    "## Calculate Ridge Regression model\n",
    "\n",
    "# create a model object to hold the modelling parameters\n",
    "clf = Ridge()\n",
    "\n",
    "# keep track of the intermediate results for coefficients and errors\n",
    "coefs = []\n",
    "errors = []\n",
    "\n",
    "# create a range of alphas to calculate\n",
    "ridge_alphas = np.logspace(-6, 6, 200)\n",
    "\n",
    "# Train the model with different regularisation strengths\n",
    "for a in ridge_alphas:\n",
    "    clf.set_params(alpha = a)\n",
    "    clf.fit(X, y)\n",
    "    coefs.append(clf.coef_)\n",
    "    errors.append(mean_squared_error(clf.coef_, model.coef_))"
   ]
  },
  {
   "cell_type": "markdown",
   "metadata": {
    "colab_type": "text",
    "id": "htKH-ZTt4lGh"
   },
   "source": [
    "##### 1.3.2 Visual Representation of Coefficient of Ridge Model"
   ]
  },
  {
   "cell_type": "code",
   "execution_count": 0,
   "metadata": {
    "colab": {},
    "colab_type": "code",
    "id": "5inpuKFY4lGi"
   },
   "outputs": [],
   "source": [
    "# Display results\n",
    "plt.figure(figsize = (20, 6))\n",
    "\n",
    "plt.subplot(121)\n",
    "ax = plt.gca()\n",
    "ax.plot(ridge_alphas, coefs)\n",
    "ax.set_xscale('log')\n",
    "plt.xlabel('alpha')\n",
    "plt.ylabel('weights')\n",
    "plt.title('Ridge coefficients as a function of the regularisation')\n",
    "plt.axis('tight')\n",
    "\n",
    "plt.subplot(122)\n",
    "ax = plt.gca()\n",
    "ax.plot(ridge_alphas, errors)\n",
    "ax.set_xscale('log')\n",
    "plt.xlabel('alpha')\n",
    "plt.ylabel('error')\n",
    "plt.title('Coefficient error as a function of the regularisation')\n",
    "plt.axis('tight')\n",
    "\n",
    "plt.show()"
   ]
  },
  {
   "cell_type": "markdown",
   "metadata": {
    "colab_type": "text",
    "id": "wEgAME-t4lGm"
   },
   "source": [
    "##### 1.3.3. [BONUS]  Find an optimal value for Ridge regression alpha using `RidgeCV`.\n",
    "\n",
    "[Go to the documentation and read how RidgeCV works.](https://scikit-learn.org/stable/modules/generated/sklearn.linear_model.RidgeCV.html#sklearn.linear_model.RidgeCV).\n",
    "\n",
    "Note here that you will be optimizing both the alpha parameter and the l1_ratio:\n",
    "- `alpha`: strength of regularization"
   ]
  },
  {
   "cell_type": "code",
   "execution_count": 0,
   "metadata": {
    "colab": {},
    "colab_type": "code",
    "id": "hULVy1tI4lGn"
   },
   "outputs": [],
   "source": [
    "optimal_ridge = RidgeCV(alphas=ridge_alphas, cv=10)\n",
    "optimal_ridge.fit(X, y)\n",
    "print('Alpha:', optimal_ridge.alpha_)\n",
    "print('Score:', optimal_ridge.score(X, y))"
   ]
  },
  {
   "cell_type": "code",
   "execution_count": 0,
   "metadata": {
    "colab": {},
    "colab_type": "code",
    "id": "bEO5VaL64lGr"
   },
   "outputs": [],
   "source": [
    "view_coeff(X, optimal_ridge)"
   ]
  },
  {
   "cell_type": "markdown",
   "metadata": {
    "colab_type": "text",
    "id": "i3n99c2I4lGw"
   },
   "source": [
    "#### 1.4 Lasso\n",
    "\n",
    "##### 1.4.1 Calculate Lasso Regression model"
   ]
  },
  {
   "cell_type": "code",
   "execution_count": 0,
   "metadata": {
    "colab": {},
    "colab_type": "code",
    "id": "8HxcVW3c4lGx"
   },
   "outputs": [],
   "source": [
    "## Calculate Lasso Regression model\n",
    "\n",
    "# create a model object to hold the modelling parameters\n",
    "\n",
    "# keep track of the intermediate results for coefficients and errors\n",
    "\n",
    "\n",
    "# create a range of alphas to calculate\n",
    "\n",
    "# Train the model with different regularisation strengths\n"
   ]
  },
  {
   "cell_type": "markdown",
   "metadata": {
    "colab_type": "text",
    "id": "1Kd-sZk44lG2"
   },
   "source": [
    "##### 1.4.2 Visual Represenantion of Coefficient of Lasso Model\n",
    "\n",
    "Hint: Same as Ridge"
   ]
  },
  {
   "cell_type": "code",
   "execution_count": 0,
   "metadata": {
    "colab": {},
    "colab_type": "code",
    "id": "2bwy_O3T4lG3"
   },
   "outputs": [],
   "source": [
    "# Display results"
   ]
  },
  {
   "cell_type": "markdown",
   "metadata": {
    "colab_type": "text",
    "id": "6If_9fi34lG5"
   },
   "source": [
    "##### 1.4.3. [BONUS]  Find an optimal value for Loass regression alpha using `LassoCV`.\n",
    "\n",
    "[Go to the documentation and read how LassoCV works.](https://scikit-learn.org/stable/modules/generated/sklearn.linear_model.LassoCV.html#sklearn.linear_model.LassoCV).\n",
    "\n",
    "Note here that you will be optimizing both the alpha parameter and the l1_ratio:\n",
    "- `alpha`: strength of regularization"
   ]
  },
  {
   "cell_type": "code",
   "execution_count": 0,
   "metadata": {
    "colab": {},
    "colab_type": "code",
    "id": "hh4jQbVu4lG6"
   },
   "outputs": [],
   "source": [
    "# Find Optimal Lasso Using LassoCV"
   ]
  },
  {
   "cell_type": "code",
   "execution_count": 0,
   "metadata": {
    "colab": {},
    "colab_type": "code",
    "id": "qhuvpHTS4lG9"
   },
   "outputs": [],
   "source": [
    "# Plot Coefficient"
   ]
  },
  {
   "cell_type": "markdown",
   "metadata": {
    "colab_type": "text",
    "id": "oVeIekHA4lHA"
   },
   "source": [
    "### 2. [Bonus] Compare the residuals for the Ridge and Lasso visually.\n",
    "\n",
    "Find and create sctterplot for both Ridge and Lasso residuals."
   ]
  },
  {
   "cell_type": "code",
   "execution_count": 0,
   "metadata": {
    "colab": {},
    "colab_type": "code",
    "id": "-P0fZRb54lHA"
   },
   "outputs": [],
   "source": [
    "# Build the ridge and lasso using optimal alpha\n",
    "\n",
    "# Need to fit the Lasso and Ridge outside of cross_val_score like we did with the ridge"
   ]
  },
  {
   "cell_type": "code",
   "execution_count": 0,
   "metadata": {
    "colab": {},
    "colab_type": "code",
    "id": "LcROHvHV4lHD"
   },
   "outputs": [],
   "source": [
    "# model residuals:"
   ]
  },
  {
   "cell_type": "code",
   "execution_count": 0,
   "metadata": {
    "colab": {},
    "colab_type": "code",
    "id": "vqhxfvmn4lHF"
   },
   "outputs": [],
   "source": [
    "# Jointplot"
   ]
  },
  {
   "cell_type": "markdown",
   "metadata": {
    "colab_type": "text",
    "id": "tZmscGZVlnXZ"
   },
   "source": [
    "\n",
    "\n",
    "---\n",
    "\n",
    "\n",
    "\n",
    "---\n",
    "\n",
    "\n",
    "\n",
    "> > > > > > > > > © 2019 Institute of Data\n",
    "\n",
    "\n",
    "---\n",
    "\n",
    "\n",
    "\n",
    "---\n",
    "\n",
    "\n",
    "\n"
   ]
  }
 ],
 "metadata": {
  "colab": {
   "collapsed_sections": [],
   "name": "DSIA Lab.4.4.ipynb",
   "provenance": []
  },
  "kernelspec": {
   "display_name": "Python 3",
   "language": "python",
   "name": "python3"
  },
  "language_info": {
   "codemirror_mode": {
    "name": "ipython",
    "version": 3
   },
   "file_extension": ".py",
   "mimetype": "text/x-python",
   "name": "python",
   "nbconvert_exporter": "python",
   "pygments_lexer": "ipython3",
   "version": "3.7.4"
  },
  "toc": {
   "base_numbering": 1,
   "nav_menu": {},
   "number_sections": true,
   "sideBar": true,
   "skip_h1_title": false,
   "title_cell": "Table of Contents",
   "title_sidebar": "Contents",
   "toc_cell": false,
   "toc_position": {},
   "toc_section_display": true,
   "toc_window_display": true
  }
 },
 "nbformat": 4,
 "nbformat_minor": 1
}
