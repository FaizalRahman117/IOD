{
 "cells": [
  {
   "cell_type": "markdown",
   "metadata": {
    "colab_type": "text",
    "id": "fneIB8BIGtiY"
   },
   "source": [
    "<div>\n",
    "<img src=https://www.institutedata.com/wp-content/uploads/2019/10/iod_h_tp_primary_c.svg width=\"300\">\n",
    "</div>"
   ]
  },
  {
   "cell_type": "markdown",
   "metadata": {
    "colab_type": "text",
    "id": "rdipUchUGtih"
   },
   "source": [
    "# Lab 2.2.1 *Querying the International Space Station*"
   ]
  },
  {
   "cell_type": "markdown",
   "metadata": {
    "colab_type": "text",
    "id": "b2RLpeJNGtil"
   },
   "source": [
    "# The OpenNotify API"
   ]
  },
  {
   "cell_type": "markdown",
   "metadata": {
    "colab_type": "text",
    "id": "rrunXmMNGtip"
   },
   "source": [
    "The OpenNotify API exposes a few attributes of the International Space Station (ISS) via a simple, authentication-free interface. The simplicity of this API precludes any need for a dedicated Python library. However, as with many APIs, it accepts requests according to HTTP standards and returns responses in JSON format, so the Python libraries request and json will make managing the I/O simpler still."
   ]
  },
  {
   "cell_type": "code",
   "execution_count": 2,
   "metadata": {
    "colab": {},
    "colab_type": "code",
    "id": "xz4PaIIjGtis"
   },
   "outputs": [],
   "source": [
    "import requests\n",
    "import json\n",
    "from datetime import datetime, date, time"
   ]
  },
  {
   "cell_type": "markdown",
   "metadata": {
    "colab_type": "text",
    "id": "tE2vsQo3Gti0"
   },
   "source": [
    "This request fetches the latest position of the international space station:"
   ]
  },
  {
   "cell_type": "code",
   "execution_count": 13,
   "metadata": {
    "colab": {},
    "colab_type": "code",
    "id": "bXBJ6YSPGti3"
   },
   "outputs": [],
   "source": [
    "response = requests.get(\"http://api.open-notify.org/iss-now.json\")"
   ]
  },
  {
   "cell_type": "markdown",
   "metadata": {
    "colab_type": "text",
    "id": "wTbnWjPGGti-"
   },
   "source": [
    "Print the status code of the response:"
   ]
  },
  {
   "cell_type": "code",
   "execution_count": 14,
   "metadata": {
    "colab": {},
    "colab_type": "code",
    "id": "_I6hU3-AGtjA"
   },
   "outputs": [
    {
     "data": {
      "text/plain": [
       "{'iss_position': {'longitude': '-16.2915', 'latitude': '-49.1155'},\n",
       " 'timestamp': 1606129820,\n",
       " 'message': 'success'}"
      ]
     },
     "execution_count": 14,
     "metadata": {},
     "output_type": "execute_result"
    }
   ],
   "source": [
    "response.json()"
   ]
  },
  {
   "cell_type": "markdown",
   "metadata": {
    "colab_type": "text",
    "id": "eiziNer-GtjF"
   },
   "source": [
    "We can also request the current position of the ISS and the next few times at which it will be over a certain location. The latitude and longitude of Sydney are (-33.87, 151.21). Create a dict named `parameters` whose elements are key:value pairs named `lat` and `lon`, containing those figures:"
   ]
  },
  {
   "cell_type": "code",
   "execution_count": 6,
   "metadata": {
    "colab": {},
    "colab_type": "code",
    "id": "2XZ-ygFkGtjH"
   },
   "outputs": [],
   "source": [
    "parameters = {'lat' : -33.87,\n",
    "              'lon' : 151.21}"
   ]
  },
  {
   "cell_type": "markdown",
   "metadata": {
    "colab_type": "text",
    "id": "oxRvNtSYGtjK"
   },
   "source": [
    "The API request we want starts like the last one, but the last part of the endpoint is \"iss-pass.json\", and it takes a second argument -- namely, the `parameters` value created above. Compose and execute the API request:"
   ]
  },
  {
   "cell_type": "code",
   "execution_count": 17,
   "metadata": {
    "colab": {},
    "colab_type": "code",
    "id": "ZJMngO5IGtjL"
   },
   "outputs": [],
   "source": [
    "response = requests.get(\"http://api.open-notify.org/iss-pass.json?\", params=parameters)"
   ]
  },
  {
   "cell_type": "markdown",
   "metadata": {
    "colab_type": "text",
    "id": "aEl3pwmHGtjN"
   },
   "source": [
    "Print the response header:"
   ]
  },
  {
   "cell_type": "code",
   "execution_count": 20,
   "metadata": {
    "colab": {},
    "colab_type": "code",
    "id": "6rsz7gwbGtjP"
   },
   "outputs": [
    {
     "data": {
      "text/plain": [
       "{'Server': 'nginx/1.10.3', 'Date': 'Mon, 23 Nov 2020 11:12:04 GMT', 'Content-Type': 'application/json', 'Content-Length': '521', 'Connection': 'keep-alive', 'Via': '1.1 vegur'}"
      ]
     },
     "execution_count": 20,
     "metadata": {},
     "output_type": "execute_result"
    }
   ],
   "source": [
    "response.headers"
   ]
  },
  {
   "cell_type": "markdown",
   "metadata": {
    "colab_type": "text",
    "id": "W6tqlzySGtjR"
   },
   "source": [
    "Print the content of the response (the data that the server returned):"
   ]
  },
  {
   "cell_type": "code",
   "execution_count": 19,
   "metadata": {
    "colab": {},
    "colab_type": "code",
    "id": "HbxepzDZGtjS"
   },
   "outputs": [
    {
     "data": {
      "text/plain": [
       "{'message': 'success',\n",
       " 'request': {'altitude': 100,\n",
       "  'datetime': 1606129760,\n",
       "  'latitude': -33.87,\n",
       "  'longitude': 151.21,\n",
       "  'passes': 5},\n",
       " 'response': [{'duration': 517, 'risetime': 1606150748},\n",
       "  {'duration': 660, 'risetime': 1606156460},\n",
       "  {'duration': 531, 'risetime': 1606162367},\n",
       "  {'duration': 351, 'risetime': 1606168358},\n",
       "  {'duration': 452, 'risetime': 1606174220}]}"
      ]
     },
     "execution_count": 19,
     "metadata": {},
     "output_type": "execute_result"
    }
   ],
   "source": [
    "response.json()"
   ]
  },
  {
   "cell_type": "markdown",
   "metadata": {
    "colab_type": "text",
    "id": "N7tHPQzDGtjU"
   },
   "source": [
    "Note that this is a Python byte string:"
   ]
  },
  {
   "cell_type": "code",
   "execution_count": 21,
   "metadata": {
    "colab": {},
    "colab_type": "code",
    "id": "k8AMo0yWGtjV"
   },
   "outputs": [
    {
     "data": {
      "text/plain": [
       "b'{\\n  \"message\": \"success\", \\n  \"request\": {\\n    \"altitude\": 100, \\n    \"datetime\": 1606129760, \\n    \"latitude\": -33.87, \\n    \"longitude\": 151.21, \\n    \"passes\": 5\\n  }, \\n  \"response\": [\\n    {\\n      \"duration\": 517, \\n      \"risetime\": 1606150748\\n    }, \\n    {\\n      \"duration\": 660, \\n      \"risetime\": 1606156460\\n    }, \\n    {\\n      \"duration\": 531, \\n      \"risetime\": 1606162367\\n    }, \\n    {\\n      \"duration\": 351, \\n      \"risetime\": 1606168358\\n    }, \\n    {\\n      \"duration\": 452, \\n      \"risetime\": 1606174220\\n    }\\n  ]\\n}\\n'"
      ]
     },
     "execution_count": 21,
     "metadata": {},
     "output_type": "execute_result"
    }
   ],
   "source": [
    "response.content"
   ]
  },
  {
   "cell_type": "markdown",
   "metadata": {
    "colab_type": "text",
    "id": "5tvv9ht_GtjX"
   },
   "source": [
    "Print just the \"content-type\" value from the header:"
   ]
  },
  {
   "cell_type": "code",
   "execution_count": 22,
   "metadata": {
    "colab": {},
    "colab_type": "code",
    "id": "nxWxxLI7GtjX"
   },
   "outputs": [],
   "source": []
  },
  {
   "cell_type": "markdown",
   "metadata": {
    "colab_type": "text",
    "id": "7lPlgn_hGtjZ"
   },
   "source": [
    "JSON was designed to be easy for computers to read, not for people. The `requests` library can decode the JSON byte string:"
   ]
  },
  {
   "cell_type": "code",
   "execution_count": 23,
   "metadata": {
    "colab": {},
    "colab_type": "code",
    "id": "nGVtgDaqGtja"
   },
   "outputs": [],
   "source": [
    "overheads = response.json()"
   ]
  },
  {
   "cell_type": "code",
   "execution_count": 24,
   "metadata": {},
   "outputs": [
    {
     "data": {
      "text/plain": [
       "{'message': 'success',\n",
       " 'request': {'altitude': 100,\n",
       "  'datetime': 1606129760,\n",
       "  'latitude': -33.87,\n",
       "  'longitude': 151.21,\n",
       "  'passes': 5},\n",
       " 'response': [{'duration': 517, 'risetime': 1606150748},\n",
       "  {'duration': 660, 'risetime': 1606156460},\n",
       "  {'duration': 531, 'risetime': 1606162367},\n",
       "  {'duration': 351, 'risetime': 1606168358},\n",
       "  {'duration': 452, 'risetime': 1606174220}]}"
      ]
     },
     "execution_count": 24,
     "metadata": {},
     "output_type": "execute_result"
    }
   ],
   "source": [
    "overheads"
   ]
  },
  {
   "cell_type": "markdown",
   "metadata": {
    "colab_type": "text",
    "id": "l9GOdNK5Gtjc"
   },
   "source": [
    "What kind of object did this give us?"
   ]
  },
  {
   "cell_type": "code",
   "execution_count": 25,
   "metadata": {
    "colab": {},
    "colab_type": "code",
    "id": "JBS4nRmSGtjd"
   },
   "outputs": [
    {
     "data": {
      "text/plain": [
       "dict"
      ]
     },
     "execution_count": 25,
     "metadata": {},
     "output_type": "execute_result"
    }
   ],
   "source": [
    "type(overheads)"
   ]
  },
  {
   "cell_type": "markdown",
   "metadata": {
    "colab_type": "text",
    "id": "2ZYJabXQGtjg"
   },
   "source": [
    "Python dicts are easier to work with, but the data we want is still buried in that data structure, so we have to dig it out. First, extract the `response` value to a separate dict:"
   ]
  },
  {
   "cell_type": "code",
   "execution_count": 33,
   "metadata": {
    "colab": {},
    "colab_type": "code",
    "id": "0u8LZg4dGtjh"
   },
   "outputs": [
    {
     "ename": "AttributeError",
     "evalue": "type object 'dict' has no attribute 'zip'",
     "output_type": "error",
     "traceback": [
      "\u001b[1;31m---------------------------------------------------------------------------\u001b[0m",
      "\u001b[1;31mAttributeError\u001b[0m                            Traceback (most recent call last)",
      "\u001b[1;32m<ipython-input-33-ce20284c1218>\u001b[0m in \u001b[0;36m<module>\u001b[1;34m\u001b[0m\n\u001b[1;32m----> 1\u001b[1;33m \u001b[0mrep_dict\u001b[0m \u001b[1;33m=\u001b[0m\u001b[0mdict\u001b[0m\u001b[1;33m.\u001b[0m\u001b[0mzip\u001b[0m\u001b[1;33m(\u001b[0m\u001b[0moverheads\u001b[0m\u001b[1;33m[\u001b[0m\u001b[1;34m'response'\u001b[0m\u001b[1;33m]\u001b[0m\u001b[1;33m)\u001b[0m\u001b[1;33m\u001b[0m\u001b[1;33m\u001b[0m\u001b[0m\n\u001b[0m\u001b[0;32m      2\u001b[0m \u001b[0mrep_dict\u001b[0m\u001b[1;33m\u001b[0m\u001b[1;33m\u001b[0m\u001b[0m\n",
      "\u001b[1;31mAttributeError\u001b[0m: type object 'dict' has no attribute 'zip'"
     ]
    }
   ],
   "source": [
    "rep_dict = overheads['response']\n",
    "brep_dict"
   ]
  },
  {
   "cell_type": "code",
   "execution_count": 32,
   "metadata": {},
   "outputs": [
    {
     "data": {
      "text/plain": [
       "list"
      ]
     },
     "execution_count": 32,
     "metadata": {},
     "output_type": "execute_result"
    }
   ],
   "source": []
  },
  {
   "cell_type": "markdown",
   "metadata": {
    "colab_type": "text",
    "id": "hMHzLrfoGtjj"
   },
   "source": [
    "Now extract the `risetime` strings into an array called `srisetimes`:"
   ]
  },
  {
   "cell_type": "code",
   "execution_count": 31,
   "metadata": {
    "colab": {},
    "colab_type": "code",
    "id": "nXqJ8_F2Gtjj"
   },
   "outputs": [
    {
     "ename": "TypeError",
     "evalue": "list indices must be integers or slices, not str",
     "output_type": "error",
     "traceback": [
      "\u001b[1;31m---------------------------------------------------------------------------\u001b[0m",
      "\u001b[1;31mTypeError\u001b[0m                                 Traceback (most recent call last)",
      "\u001b[1;32m<ipython-input-31-1aca23e3138e>\u001b[0m in \u001b[0;36m<module>\u001b[1;34m\u001b[0m\n\u001b[1;32m----> 1\u001b[1;33m \u001b[0mrep_dict\u001b[0m\u001b[1;33m[\u001b[0m\u001b[1;34m'risetime'\u001b[0m\u001b[1;33m]\u001b[0m\u001b[1;33m\u001b[0m\u001b[1;33m\u001b[0m\u001b[0m\n\u001b[0m",
      "\u001b[1;31mTypeError\u001b[0m: list indices must be integers or slices, not str"
     ]
    }
   ],
   "source": [
    "rep_dict['risetime']"
   ]
  },
  {
   "cell_type": "markdown",
   "metadata": {
    "colab_type": "text",
    "id": "RItuBRt-Gtjl"
   },
   "source": [
    "```\n",
    "datetime.fromtimestamp(str)\n",
    "```\n",
    "\n",
    "Convert these to an array of Python `datetime` values called `risetimes`:"
   ]
  },
  {
   "cell_type": "code",
   "execution_count": null,
   "metadata": {
    "colab": {},
    "colab_type": "code",
    "id": "8rzyAcLTGtjm"
   },
   "outputs": [],
   "source": []
  },
  {
   "cell_type": "markdown",
   "metadata": {
    "colab_type": "text",
    "id": "l1EmKOFqGtjn"
   },
   "source": [
    "Finally, print these in a format that people understand:\n",
    "\n",
    "\n",
    "\n",
    "```\n",
    "str.strftime('%d/%m/%y %I:%M')\n",
    "\n",
    "27/03/19 10:59\n",
    "27/03/19 12:35\n",
    "27/03/19 02:11\n",
    "28/03/19 03:42\n",
    "28/03/19 05:13\n",
    "```\n",
    "\n"
   ]
  },
  {
   "cell_type": "code",
   "execution_count": null,
   "metadata": {
    "colab": {},
    "colab_type": "code",
    "id": "AkBE76VqGtjo"
   },
   "outputs": [],
   "source": []
  },
  {
   "cell_type": "markdown",
   "metadata": {
    "colab_type": "text",
    "id": "iNm6GjX3Gtjq"
   },
   "source": [
    "Here is an endpoint that tells us who is onboard:"
   ]
  },
  {
   "cell_type": "code",
   "execution_count": null,
   "metadata": {
    "colab": {},
    "colab_type": "code",
    "id": "12yXs_OgGtjs"
   },
   "outputs": [],
   "source": [
    "response = requests.get(\"http://api.open-notify.org/astros.json\")"
   ]
  },
  {
   "cell_type": "markdown",
   "metadata": {
    "colab_type": "text",
    "id": "0Np4S0aAGtj0"
   },
   "source": [
    "Referring to the methods used above, extract the number of astronauts and their names:"
   ]
  },
  {
   "cell_type": "code",
   "execution_count": null,
   "metadata": {
    "colab": {},
    "colab_type": "code",
    "id": "Oqx5L19_Gtj1"
   },
   "outputs": [],
   "source": []
  },
  {
   "cell_type": "markdown",
   "metadata": {
    "colab_type": "text",
    "id": "A4-DBw_bGtj2"
   },
   "source": [
    "# HOMEWORK\n"
   ]
  },
  {
   "cell_type": "markdown",
   "metadata": {
    "colab_type": "text",
    "id": "c134mC6WGtj3"
   },
   "source": [
    "1. Write a simple handler for the response status code (refer to lab resources slide for HTTP response codes). As this Jupyter Notebook is an interactive device, the handler does not need to manage subsequent code execution (i.e. by branching or aborting execution), although it should return something that could be used to do so if deployed in a Python program."
   ]
  },
  {
   "cell_type": "code",
   "execution_count": null,
   "metadata": {
    "colab": {},
    "colab_type": "code",
    "id": "FZM2NAWuGtj4"
   },
   "outputs": [],
   "source": [
    "#ANSWER:\n",
    "def handleResponse(response, verbose = False):\n",
    "    '''\n",
    "    Returns Boolean Value, Status Code, \n",
    "    '''\n",
    "  # if Status Code is 200 return false, and status code\n",
    "  # Otherwise Return True and Status Code"
   ]
  },
  {
   "cell_type": "markdown",
   "metadata": {
    "colab_type": "text",
    "id": "9aPstlTIGtj5"
   },
   "source": [
    "2. Test your response handler on some correct and incorrect API calls."
   ]
  },
  {
   "cell_type": "code",
   "execution_count": null,
   "metadata": {
    "colab": {},
    "colab_type": "code",
    "id": "GYT1LAb8Gtj6"
   },
   "outputs": [],
   "source": [
    "response = requests.get(\"http://api.open-notify.org/astros.json\")\n",
    "if handleResponse(response)[0]:\n",
    "    print('API call failed. Resolve issue before continuing!')\n",
    "    \n",
    "response = requests.get(\"http://api.open-notify.org/iss-pass.json\")\n",
    "handleResponse(response, True)[0]"
   ]
  },
  {
   "cell_type": "markdown",
   "metadata": {
    "colab_type": "text",
    "id": "2lHXfE7KIHQp"
   },
   "source": [
    "© 2020 Institute of Data"
   ]
  }
 ],
 "metadata": {
  "colab": {
   "collapsed_sections": [],
   "name": "IOD_Lab 2.2.1.ipynb",
   "provenance": [
    {
     "file_id": "1RknypYS3TD4wPumGiPV69EWtkq-3UBwF",
     "timestamp": 1553136072736
    }
   ]
  },
  "kernelspec": {
   "display_name": "Python 3",
   "language": "python",
   "name": "python3"
  },
  "language_info": {
   "codemirror_mode": {
    "name": "ipython",
    "version": 3
   },
   "file_extension": ".py",
   "mimetype": "text/x-python",
   "name": "python",
   "nbconvert_exporter": "python",
   "pygments_lexer": "ipython3",
   "version": "3.8.3"
  },
  "toc": {
   "base_numbering": 1,
   "nav_menu": {},
   "number_sections": true,
   "sideBar": true,
   "skip_h1_title": false,
   "title_cell": "Table of Contents",
   "title_sidebar": "Contents",
   "toc_cell": false,
   "toc_position": {},
   "toc_section_display": true,
   "toc_window_display": true
  }
 },
 "nbformat": 4,
 "nbformat_minor": 4
}
