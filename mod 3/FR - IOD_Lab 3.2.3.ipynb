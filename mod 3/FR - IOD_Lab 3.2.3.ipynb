{
 "cells": [
  {
   "cell_type": "markdown",
   "metadata": {
    "colab_type": "text",
    "id": "pnuFCWMAORxw"
   },
   "source": [
    "<div>\n",
    "<img src=https://www.institutedata.com/wp-content/uploads/2019/10/iod_h_tp_primary_c.svg width=\"300\">\n",
    "</div>"
   ]
  },
  {
   "cell_type": "markdown",
   "metadata": {
    "colab_type": "text",
    "id": "iM_6Cey1ORx2"
   },
   "source": [
    "# Lab 3.2.3 \n",
    "## Statistical Inference"
   ]
  },
  {
   "cell_type": "markdown",
   "metadata": {
    "colab_type": "text",
    "id": "JuiuvgD1VXE2"
   },
   "source": [
    "### Data\n",
    "\n",
    "You can find the original data [here](https://archive.ics.uci.edu/ml/machine-learning-databases/housing/housing.data).\n",
    "\n",
    "Data dictionary is available [here](https://www.cs.toronto.edu/~delve/data/boston/bostonDetail.html).\n",
    "\n",
    "This dataset contains information collected by the U.S Census Service concerning housing in the area of Boston Mass. It was obtained from the StatLib archive (http://lib.stat.cmu.edu/datasets/boston), and has been used extensively throughout the literature to benchmark algorithms. However, these comparisons were primarily done outside of Delve and are thus somewhat suspect. The dataset is small in size with only 506 cases.\n",
    "\n",
    "The data was originally published by Harrison, D. and Rubinfeld, D.L. Hedonic prices and the demand for clean air', J. Environ. Economics & Management, vol.5, 81-102, 1978.\n",
    "\n",
    "Dataset Naming\n",
    "\n",
    "The name for this dataset is simply boston. It has two prototasks: nox, in which the nitrous oxide level is to be predicted; and price, in which the median value of a home is to be predicted\n",
    "\n",
    "Miscellaneous Details\n",
    "\n",
    "-Origin\n",
    "The origin of the boston housing data is Natural.\n",
    "\n",
    "-Usage\n",
    "This dataset may be used for Assessment.\n",
    "\n",
    "-Number of Cases\n",
    "The dataset contains a total of 506 cases.\n",
    "\n",
    "-Order\n",
    "The order of the cases is mysterious.\n",
    "\n",
    "-Variables\n",
    "\n",
    "There are 14 attributes in each case of the dataset. They are:\n",
    "\n",
    "    CRIM - per capita crime rate by town\n",
    "    ZN - proportion of residential land zoned for lots over 25,000 sq.ft.\n",
    "    INDUS - proportion of non-retail business acres per town.\n",
    "    CHAS - Charles River dummy variable (1 if tract bounds river; 0 otherwise)\n",
    "    NOX - nitric oxides concentration (parts per 10 million)\n",
    "    RM - average number of rooms per dwelling\n",
    "    AGE - proportion of owner-occupied units built prior to 1940\n",
    "    DIS - weighted distances to five Boston employment centres\n",
    "    RAD - index of accessibility to radial highways\n",
    "    TAX - full-value property-tax rate per 10000\n",
    "    PTRATIO - pupil-teacher ratio by town\n",
    "    B - 1000(Bk - 0.63)^2 where Bk is the proportion of blacks by town\n",
    "    LSTAT - % lower status of the population\n",
    "    MEDV - Median value of owner-occupied homes in 1000"
   ]
  },
  {
   "cell_type": "markdown",
   "metadata": {
    "colab_type": "text",
    "id": "DAMd08TPVXE3"
   },
   "source": [
    "### Libraries"
   ]
  },
  {
   "cell_type": "code",
   "execution_count": 30,
   "metadata": {
    "colab": {},
    "colab_type": "code",
    "id": "_WPWzZ3kVXE4"
   },
   "outputs": [],
   "source": [
    "import pandas as pd\n",
    "import numpy as np\n",
    "import math\n",
    "import seaborn as sns\n",
    "\n",
    "from scipy import stats\n",
    "from matplotlib import pyplot as plt\n",
    "\n",
    "import seaborn as sns\n",
    "sns.set(rc={'figure.figsize': (15, 10)})\n",
    "\n",
    "import pandas as pd\n",
    "pd.set_option(\"display.max_rows\", 120)\n",
    "pd.set_option(\"display.max_columns\", 120)\n",
    "\n",
    "%matplotlib inline"
   ]
  },
  {
   "cell_type": "code",
   "execution_count": 3,
   "metadata": {
    "colab": {},
    "colab_type": "code",
    "id": "vU5VWEOWVXE8"
   },
   "outputs": [
    {
     "data": {
      "text/html": [
       "<div>\n",
       "<style scoped>\n",
       "    .dataframe tbody tr th:only-of-type {\n",
       "        vertical-align: middle;\n",
       "    }\n",
       "\n",
       "    .dataframe tbody tr th {\n",
       "        vertical-align: top;\n",
       "    }\n",
       "\n",
       "    .dataframe thead th {\n",
       "        text-align: right;\n",
       "    }\n",
       "</style>\n",
       "<table border=\"1\" class=\"dataframe\">\n",
       "  <thead>\n",
       "    <tr style=\"text-align: right;\">\n",
       "      <th></th>\n",
       "      <th>CRIM</th>\n",
       "      <th>ZN</th>\n",
       "      <th>INDUS</th>\n",
       "      <th>CHAS</th>\n",
       "      <th>NOX</th>\n",
       "      <th>RM</th>\n",
       "      <th>AGE</th>\n",
       "      <th>DIS</th>\n",
       "      <th>RAD</th>\n",
       "      <th>TAX</th>\n",
       "      <th>PTRATIO</th>\n",
       "      <th>B</th>\n",
       "      <th>LSTAT</th>\n",
       "      <th>MEDV</th>\n",
       "    </tr>\n",
       "  </thead>\n",
       "  <tbody>\n",
       "    <tr>\n",
       "      <th>0</th>\n",
       "      <td>0.00632</td>\n",
       "      <td>18.0</td>\n",
       "      <td>2.31</td>\n",
       "      <td>0</td>\n",
       "      <td>0.538</td>\n",
       "      <td>6.575</td>\n",
       "      <td>65.2</td>\n",
       "      <td>4.0900</td>\n",
       "      <td>1</td>\n",
       "      <td>296.0</td>\n",
       "      <td>15.3</td>\n",
       "      <td>396.90</td>\n",
       "      <td>4.98</td>\n",
       "      <td>24.0</td>\n",
       "    </tr>\n",
       "    <tr>\n",
       "      <th>1</th>\n",
       "      <td>0.02731</td>\n",
       "      <td>0.0</td>\n",
       "      <td>7.07</td>\n",
       "      <td>0</td>\n",
       "      <td>0.469</td>\n",
       "      <td>6.421</td>\n",
       "      <td>78.9</td>\n",
       "      <td>4.9671</td>\n",
       "      <td>2</td>\n",
       "      <td>242.0</td>\n",
       "      <td>17.8</td>\n",
       "      <td>396.90</td>\n",
       "      <td>9.14</td>\n",
       "      <td>21.6</td>\n",
       "    </tr>\n",
       "    <tr>\n",
       "      <th>2</th>\n",
       "      <td>0.02729</td>\n",
       "      <td>0.0</td>\n",
       "      <td>7.07</td>\n",
       "      <td>0</td>\n",
       "      <td>0.469</td>\n",
       "      <td>7.185</td>\n",
       "      <td>61.1</td>\n",
       "      <td>4.9671</td>\n",
       "      <td>2</td>\n",
       "      <td>242.0</td>\n",
       "      <td>17.8</td>\n",
       "      <td>392.83</td>\n",
       "      <td>4.03</td>\n",
       "      <td>34.7</td>\n",
       "    </tr>\n",
       "    <tr>\n",
       "      <th>3</th>\n",
       "      <td>0.03237</td>\n",
       "      <td>0.0</td>\n",
       "      <td>2.18</td>\n",
       "      <td>0</td>\n",
       "      <td>0.458</td>\n",
       "      <td>6.998</td>\n",
       "      <td>45.8</td>\n",
       "      <td>6.0622</td>\n",
       "      <td>3</td>\n",
       "      <td>222.0</td>\n",
       "      <td>18.7</td>\n",
       "      <td>394.63</td>\n",
       "      <td>2.94</td>\n",
       "      <td>33.4</td>\n",
       "    </tr>\n",
       "    <tr>\n",
       "      <th>4</th>\n",
       "      <td>0.06905</td>\n",
       "      <td>0.0</td>\n",
       "      <td>2.18</td>\n",
       "      <td>0</td>\n",
       "      <td>0.458</td>\n",
       "      <td>7.147</td>\n",
       "      <td>54.2</td>\n",
       "      <td>6.0622</td>\n",
       "      <td>3</td>\n",
       "      <td>222.0</td>\n",
       "      <td>18.7</td>\n",
       "      <td>396.90</td>\n",
       "      <td>5.33</td>\n",
       "      <td>36.2</td>\n",
       "    </tr>\n",
       "  </tbody>\n",
       "</table>\n",
       "</div>"
      ],
      "text/plain": [
       "      CRIM    ZN  INDUS  CHAS    NOX     RM   AGE     DIS  RAD    TAX  \\\n",
       "0  0.00632  18.0   2.31     0  0.538  6.575  65.2  4.0900    1  296.0   \n",
       "1  0.02731   0.0   7.07     0  0.469  6.421  78.9  4.9671    2  242.0   \n",
       "2  0.02729   0.0   7.07     0  0.469  7.185  61.1  4.9671    2  242.0   \n",
       "3  0.03237   0.0   2.18     0  0.458  6.998  45.8  6.0622    3  222.0   \n",
       "4  0.06905   0.0   2.18     0  0.458  7.147  54.2  6.0622    3  222.0   \n",
       "\n",
       "   PTRATIO       B  LSTAT  MEDV  \n",
       "0     15.3  396.90   4.98  24.0  \n",
       "1     17.8  396.90   9.14  21.6  \n",
       "2     17.8  392.83   4.03  34.7  \n",
       "3     18.7  394.63   2.94  33.4  \n",
       "4     18.7  396.90   5.33  36.2  "
      ]
     },
     "execution_count": 3,
     "metadata": {},
     "output_type": "execute_result"
    }
   ],
   "source": [
    "# Read CSV\n",
    "names = [\"CRIM\", \"ZN\", \"INDUS\", \"CHAS\", \"NOX\", \"RM\", \"AGE\", \"DIS\", \"RAD\", \"TAX\", \"PTRATIO\", \"B\", \"LSTAT\", \"MEDV\"]\n",
    "data = pd.read_csv(\"../DATA/housing.data\", header=None, names=names, delim_whitespace=True)\n",
    "\n",
    "data.head()"
   ]
  },
  {
   "cell_type": "code",
   "execution_count": 15,
   "metadata": {},
   "outputs": [
    {
     "data": {
      "text/plain": [
       "CRIM       0\n",
       "ZN         0\n",
       "INDUS      0\n",
       "CHAS       0\n",
       "NOX        0\n",
       "RM         0\n",
       "AGE        0\n",
       "DIS        0\n",
       "RAD        0\n",
       "TAX        0\n",
       "PTRATIO    0\n",
       "B          0\n",
       "LSTAT      0\n",
       "MEDV       0\n",
       "dtype: int64"
      ]
     },
     "execution_count": 15,
     "metadata": {},
     "output_type": "execute_result"
    }
   ],
   "source": [
    "data.isnull().sum()"
   ]
  },
  {
   "cell_type": "code",
   "execution_count": 16,
   "metadata": {
    "colab": {},
    "colab_type": "code",
    "id": "LpVnkcT-VXE_"
   },
   "outputs": [
    {
     "data": {
      "text/plain": [
       "array([ 65.2,  78.9,  61.1,  45.8,  54.2,  58.7,  66.6,  96.1, 100. ,\n",
       "        85.9,  94.3,  82.9,  39. ,  61.8,  84.5,  56.5,  29.3,  81.7,\n",
       "        36.6,  69.5,  98.1,  89.2,  91.7, 100. ,  94.1,  85.7,  90.3,\n",
       "        88.8,  94.4,  87.3,  94.1, 100. ,  82. ,  95. ,  96.9,  68.2,\n",
       "        61.4,  41.5,  30.2,  21.8,  15.8,   2.9,   6.6,   6.5,  40. ,\n",
       "        33.8,  33.3,  85.5,  95.3,  62. ,  45.7,  63. ,  21.1,  21.4,\n",
       "        47.6,  21.9,  35.7,  40.5,  29.2,  47.2,  66.2,  93.4,  67.8,\n",
       "        43.4,  59.5,  17.8,  31.1,  21.4,  36.8,  33. ,   6.6,  17.5,\n",
       "         7.8,   6.2,   6. ,  45. ,  74.5,  45.8,  53.7,  36.6,  33.5,\n",
       "        70.4,  32.2,  46.7,  48. ,  56.1,  45.1,  56.8,  86.3,  63.1,\n",
       "        66.1,  73.9,  53.6,  28.9,  77.3,  57.8,  69.6,  76. ,  36.9,\n",
       "        62.5,  79.9,  71.3,  85.4,  87.4,  90. ,  96.7,  91.9,  85.2,\n",
       "        97.1,  91.2,  54.4,  81.6,  92.9,  95.4,  84.2,  88.2,  72.5,\n",
       "        82.6,  73.1,  65.2,  69.7,  84.1,  92.9,  97. ,  95.8,  88.4,\n",
       "        95.6,  96. ,  98.8,  94.7,  98.9,  97.7,  97.9,  95.4,  98.4,\n",
       "        98.2,  93.5,  98.4,  98.2,  97.9,  93.6, 100. , 100. , 100. ,\n",
       "        97.8, 100. , 100. ,  95.7,  93.8,  94.9,  97.3, 100. ,  88. ,\n",
       "        98.5,  96. ,  82.6,  94. ,  97.4, 100. , 100. ,  92.6,  90.8,\n",
       "        98.2,  93.9,  91.8,  93. ,  96.2,  79.2,  96.1,  95.2,  94.6,\n",
       "        97.3,  88.5,  84.1,  68.7,  33.1,  47.2,  73.4,  74.4,  58.4,\n",
       "        83.3,  62.2,  92.2,  95.6,  89.8,  68.8,  53.6,  41.1,  29.1,\n",
       "        38.9,  21.5,  30.8,  26.3,   9.9,  18.8,  32. ,  34.1,  36.6,\n",
       "        38.3,  15.3,  13.9,  38.4,  15.7,  33.2,  31.9,  22.3,  52.5,\n",
       "        72.7,  59.1, 100. ,  92.1,  88.6,  53.8,  32.3,   9.8,  42.4,\n",
       "        56. ,  85.1,  93.8,  92.4,  88.5,  91.3,  77.7,  80.8,  78.3,\n",
       "        83. ,  86.5,  79.9,  17. ,  21.4,  68.1,  76.9,  73.3,  70.4,\n",
       "        66.5,  61.5,  76.5,  71.6,  18.5,  42.2,  54.3,  65.1,  52.9,\n",
       "         7.8,  76.5,  70.2,  34.9,  79.2,  49.1,  17.5,  13. ,   8.9,\n",
       "         6.8,   8.4,  32. ,  19.1,  34.2,  86.9, 100. , 100. ,  81.8,\n",
       "        89.4,  91.5,  94.5,  91.6,  62.8,  84.6,  67. ,  52.6,  61.5,\n",
       "        42.1,  16.3,  58.7,  51.8,  32.9,  42.8,  49. ,  27.6,  32.1,\n",
       "        32.2,  64.5,  37.2,  49.7,  24.8,  20.8,  31.9,  31.5,  31.3,\n",
       "        45.6,  22.9,  27.9,  27.7,  23.4,  18.4,  42.3,  31.1,  51. ,\n",
       "        58. ,  20.1,  10. ,  47.4,  40.4,  18.4,  17.7,  41.1,  58.1,\n",
       "        71.9,  70.3,  82.5,  76.7,  37.8,  52.8,  90.4,  82.8,  87.3,\n",
       "        77.7,  83.2,  71.7,  67.2,  58.8,  52.3,  54.3,  49.9,  74.3,\n",
       "        40.1,  14.7,  28.9,  43.7,  25.8,  17.2,  32.2,  28.4,  23.3,\n",
       "        38.1,  38.5,  34.5,  46.3,  59.6,  37.3,  45.4,  58.5,  49.3,\n",
       "        59.7,  56.4,  28.1,  48.5,  52.3,  27.7,  29.7,  34.5,  44.4,\n",
       "        35.9,  18.5,  36.1,  21.9,  19.5,  97.4,  91. ,  83.4,  81.3,\n",
       "        88. ,  91.1,  96.2,  89. ,  82.9,  87.9,  91.4, 100. , 100. ,\n",
       "        96.8,  97.5, 100. ,  89.6, 100. , 100. ,  97.9,  93.3,  98.8,\n",
       "        96.2, 100. ,  91.9,  99.1, 100. , 100. ,  91.2,  98.1, 100. ,\n",
       "        89.5, 100. ,  98.9,  97. ,  82.5,  97. ,  92.6,  94.7,  98.8,\n",
       "        96. ,  98.9, 100. ,  77.8, 100. , 100. , 100. ,  96. ,  85.4,\n",
       "       100. , 100. , 100. ,  97.9, 100. , 100. , 100. , 100. , 100. ,\n",
       "       100. , 100. ,  90.8,  89.1, 100. ,  76.5, 100. ,  95.3,  87.6,\n",
       "        85.1,  70.6,  95.4,  59.7,  78.7,  78.1,  95.6,  86.1,  94.3,\n",
       "        74.8,  87.9,  95. ,  94.6,  93.3, 100. ,  87.9,  93.9,  92.4,\n",
       "        97.2, 100. , 100. ,  96.6,  94.8,  96.4,  96.6,  98.7,  98.3,\n",
       "        92.6,  98.2,  91.8,  99.3,  94.1,  86.5,  87.9,  80.3,  83.7,\n",
       "        84.4,  90. ,  88.4,  83. ,  89.9,  65.4,  48.2,  84.7,  94.5,\n",
       "        71. ,  56.7,  84. ,  90.7,  75. ,  67.6,  95.4,  97.4,  93.6,\n",
       "        97.3,  96.7,  88. ,  64.7,  74.9,  77. ,  40.3,  41.9,  51.9,\n",
       "        79.8,  53.2,  92.7,  98.3,  98. ,  98.8,  83.5,  54. ,  42.6,\n",
       "        28.8,  72.9,  70.6,  65.3,  73.5,  79.7,  69.1,  76.7,  91. ,\n",
       "        89.3,  80.8])"
      ]
     },
     "execution_count": 16,
     "metadata": {},
     "output_type": "execute_result"
    }
   ],
   "source": [
    "# AGE\n",
    "\n",
    "AGE = data['AGE'].values\n",
    "AGE\n"
   ]
  },
  {
   "cell_type": "markdown",
   "metadata": {
    "colab_type": "text",
    "id": "j-5yQbxIVXFC"
   },
   "source": [
    "#### 1. Find the mean, standard deviation, and the standard error of the mean for variable `AGE`\n",
    "\n",
    "Hint: The standard error of the mean (SEM) can be expressed as:\n",
    "\n",
    "![](https://wikimedia.org/api/rest_v1/media/math/render/svg/f9dac77577c2717cbb973388e4d6563915705742)"
   ]
  },
  {
   "cell_type": "code",
   "execution_count": 19,
   "metadata": {
    "colab": {},
    "colab_type": "code",
    "id": "JUPWry0iVXFD"
   },
   "outputs": [
    {
     "name": "stdout",
     "output_type": "stream",
     "text": [
      "Population :\n",
      "Mean : 68.57490118577078\n",
      "Standard Deviation : 28.121032570236885\n",
      "Standard error : 1.2501323825680637\n"
     ]
    }
   ],
   "source": [
    "# ANSWER\n",
    "mean = data['AGE'].mean()\n",
    "std = np.std(data['AGE'])\n",
    "n = data.shape[0]\n",
    "sem = std / (np.sqrt(n))\n",
    "\n",
    "print('Population :')\n",
    "print(\"Mean : \" + str(mean))\n",
    "print(\"Standard Deviation : \" + str(std))\n",
    "print(\"Standard error : \" + str(sem))\n"
   ]
  },
  {
   "cell_type": "markdown",
   "metadata": {
    "colab_type": "text",
    "id": "YmT0j9cgVXFF"
   },
   "source": [
    "#### 2. Cenral Limit Theoram\n",
    "\n",
    "Recall that the central limit theorem dictates that the distribution of sample means (calculated across different random samples from our overall population) will be normally distributed.\n",
    "\n",
    "We will depend on the Central Limit Theorem again and again in order to do normal probability calculations when we use sample means to draw conclusions about a population mean. We now know that we can do this even if the population distribution is not normal.\n",
    "\n",
    "##### 2.A Find the sample mean, sample standard deviation, and the sample standard error of the mean for variable `AGE` Using CLT"
   ]
  },
  {
   "cell_type": "code",
   "execution_count": 48,
   "metadata": {
    "colab": {},
    "colab_type": "code",
    "id": "H_iwL5r9VXFG"
   },
   "outputs": [],
   "source": [
    "def calculate_sample_mean(df, column_name, N=10, sample_size=5):\n",
    "    '''\n",
    "    df: DataFrame\n",
    "    column_name: String, column_name\n",
    "    N: Number of samples\n",
    "    sample_size: Size of sample for each sample\n",
    "    '''\n",
    "    sample_mean_list = []\n",
    "\n",
    "    for i in range(N):\n",
    "        df_sample = df.sample(n=sample_size)\n",
    "        sample_mean = df_sample[column_name].mean()\n",
    "        sample_mean_list.append(sample_mean)\n",
    "    \n",
    "    return sample_mean_list"
   ]
  },
  {
   "cell_type": "code",
   "execution_count": 21,
   "metadata": {
    "colab": {},
    "colab_type": "code",
    "id": "mR4QWTZFVXFJ"
   },
   "outputs": [],
   "source": [
    "def visual_sample_mean(population_mean, sample_mean_list):\n",
    "    '''\n",
    "    population_mean: mean of entire population\n",
    "    sample_mean_list: list of sample mean\n",
    "    '''\n",
    "    \n",
    "    sample_mean = np.mean(sample_mean_list)\n",
    "    \n",
    "    ax = sns.distplot(sample_mean_list);\n",
    "    \n",
    "    # plot a vertical line for population mean and sample mean\n",
    "    ax.axvline(population_mean, color='black', linestyle='solid', lw=1)\n",
    "    ax.axvline(sample_mean, color='red', linestyle='dashed', lw=1)\n",
    "    \n",
    "    plt.xlabel('Mean of Samples')\n",
    "    plt.ylabel('Frequency')\n",
    "\n",
    "    plt.show()"
   ]
  },
  {
   "cell_type": "code",
   "execution_count": 53,
   "metadata": {
    "colab": {},
    "colab_type": "code",
    "id": "VGksRnV6VXFN"
   },
   "outputs": [
    {
     "data": {
      "text/plain": [
       "[69.45416666666665,\n",
       " 68.5483333333333,\n",
       " 69.5725,\n",
       " 67.56666666666665,\n",
       " 71.01666666666665,\n",
       " 66.92833333333333,\n",
       " 68.66583333333331,\n",
       " 67.24333333333337,\n",
       " 66.17666666666665,\n",
       " 69.54916666666661,\n",
       " 68.40583333333333,\n",
       " 67.52166666666668,\n",
       " 68.16249999999998,\n",
       " 69.92,\n",
       " 66.14083333333333,\n",
       " 72.21333333333332,\n",
       " 70.64916666666666,\n",
       " 67.05416666666665,\n",
       " 65.11666666666667,\n",
       " 72.7008333333333,\n",
       " 68.3566666666667,\n",
       " 68.49166666666666,\n",
       " 66.49666666666666,\n",
       " 71.14916666666664,\n",
       " 67.53083333333333,\n",
       " 68.02333333333333,\n",
       " 68.04666666666667,\n",
       " 67.71666666666665,\n",
       " 72.61249999999998,\n",
       " 68.77416666666664,\n",
       " 64.22666666666665,\n",
       " 70.59999999999998,\n",
       " 64.65666666666667,\n",
       " 70.68833333333333,\n",
       " 71.43000000000004,\n",
       " 66.32583333333334,\n",
       " 68.77999999999999,\n",
       " 66.72916666666667,\n",
       " 64.42083333333333,\n",
       " 68.41916666666665,\n",
       " 66.14333333333333,\n",
       " 71.20416666666668,\n",
       " 72.53583333333331,\n",
       " 72.13833333333335,\n",
       " 65.5808333333333,\n",
       " 70.03666666666663,\n",
       " 70.41,\n",
       " 64.95166666666664,\n",
       " 69.45083333333335,\n",
       " 65.46,\n",
       " 66.54583333333332,\n",
       " 68.23833333333336,\n",
       " 68.99583333333334,\n",
       " 73.23,\n",
       " 69.76249999999999,\n",
       " 68.75583333333336,\n",
       " 67.19916666666667,\n",
       " 67.16999999999999,\n",
       " 67.97166666666664,\n",
       " 68.30833333333335,\n",
       " 68.13249999999998,\n",
       " 70.66666666666669,\n",
       " 69.19333333333336,\n",
       " 70.37166666666667,\n",
       " 68.62750000000001,\n",
       " 68.73499999999999,\n",
       " 68.54166666666667,\n",
       " 66.71416666666664,\n",
       " 67.08916666666669,\n",
       " 69.76083333333335,\n",
       " 69.32666666666667,\n",
       " 69.95916666666669,\n",
       " 65.17083333333333,\n",
       " 67.41166666666665,\n",
       " 68.0575,\n",
       " 70.435,\n",
       " 70.64916666666666,\n",
       " 68.67000000000002,\n",
       " 67.12000000000002,\n",
       " 71.96083333333335,\n",
       " 70.35499999999998,\n",
       " 73.04416666666665,\n",
       " 72.21916666666667,\n",
       " 61.73833333333332,\n",
       " 70.44083333333336,\n",
       " 70.27749999999999,\n",
       " 71.56,\n",
       " 68.02916666666665,\n",
       " 67.05416666666666,\n",
       " 68.68583333333332,\n",
       " 70.11666666666665,\n",
       " 65.59583333333332,\n",
       " 68.87083333333335,\n",
       " 69.76833333333333,\n",
       " 67.78166666666668,\n",
       " 67.77416666666667,\n",
       " 70.22666666666667,\n",
       " 68.7625,\n",
       " 68.37833333333333,\n",
       " 68.8633333333333,\n",
       " 67.07999999999997,\n",
       " 73.37083333333332,\n",
       " 69.40250000000002,\n",
       " 66.98083333333332,\n",
       " 71.67749999999997,\n",
       " 68.29999999999997,\n",
       " 68.9291666666667,\n",
       " 66.69999999999997,\n",
       " 67.71583333333332,\n",
       " 72.45166666666664,\n",
       " 71.30666666666667,\n",
       " 67.03583333333334,\n",
       " 66.13500000000003,\n",
       " 69.43583333333329,\n",
       " 70.11916666666666,\n",
       " 70.95,\n",
       " 70.65833333333335,\n",
       " 68.0375,\n",
       " 65.33666666666666,\n",
       " 69.93416666666667,\n",
       " 62.04499999999997,\n",
       " 68.965,\n",
       " 66.60499999999999,\n",
       " 68.43333333333331,\n",
       " 68.695,\n",
       " 68.19833333333332,\n",
       " 67.68249999999998,\n",
       " 68.8283333333333,\n",
       " 69.63833333333332,\n",
       " 70.41666666666669,\n",
       " 69.88666666666667,\n",
       " 72.6058333333333,\n",
       " 68.04416666666664,\n",
       " 69.38166666666665,\n",
       " 75.6266666666667,\n",
       " 68.60083333333333,\n",
       " 65.40333333333334,\n",
       " 72.63333333333334,\n",
       " 71.27500000000002,\n",
       " 68.68750000000001,\n",
       " 70.8808333333333,\n",
       " 72.70333333333332,\n",
       " 68.39000000000001,\n",
       " 70.8883333333333,\n",
       " 65.905,\n",
       " 66.49333333333333,\n",
       " 71.31083333333335,\n",
       " 66.48250000000003,\n",
       " 68.9641666666667,\n",
       " 62.0675,\n",
       " 67.07916666666668,\n",
       " 68.09583333333333,\n",
       " 66.65416666666668,\n",
       " 67.45166666666668,\n",
       " 68.10416666666666,\n",
       " 69.97416666666668,\n",
       " 66.31666666666663,\n",
       " 67.865,\n",
       " 68.42666666666669,\n",
       " 67.27333333333334,\n",
       " 67.86666666666669,\n",
       " 65.94916666666666,\n",
       " 69.23416666666667,\n",
       " 66.70333333333333,\n",
       " 69.99416666666666,\n",
       " 70.30999999999999,\n",
       " 69.46916666666667,\n",
       " 69.5725,\n",
       " 70.79666666666667,\n",
       " 71.34749999999998,\n",
       " 67.91166666666668,\n",
       " 71.33583333333331,\n",
       " 68.16000000000003,\n",
       " 69.11666666666665,\n",
       " 67.88750000000003,\n",
       " 68.85916666666667,\n",
       " 70.25999999999999,\n",
       " 68.59916666666668,\n",
       " 64.62666666666662,\n",
       " 67.74166666666666,\n",
       " 71.5025,\n",
       " 67.25833333333331,\n",
       " 71.10166666666667,\n",
       " 65.99833333333332,\n",
       " 69.09916666666666,\n",
       " 67.4025,\n",
       " 67.56416666666668,\n",
       " 66.19000000000001,\n",
       " 66.1475,\n",
       " 69.2625,\n",
       " 68.57083333333331,\n",
       " 69.19333333333333,\n",
       " 69.42333333333333,\n",
       " 68.32750000000003,\n",
       " 69.80583333333334,\n",
       " 64.11749999999999,\n",
       " 68.62416666666668,\n",
       " 71.4975,\n",
       " 68.27,\n",
       " 69.90583333333332,\n",
       " 68.92000000000003,\n",
       " 66.13333333333335,\n",
       " 68.42500000000003,\n",
       " 68.01333333333335,\n",
       " 69.56166666666667,\n",
       " 65.26583333333332,\n",
       " 69.18333333333334,\n",
       " 65.02916666666665,\n",
       " 69.05583333333331,\n",
       " 65.08833333333334,\n",
       " 71.98083333333332,\n",
       " 70.49,\n",
       " 69.82916666666665,\n",
       " 66.63416666666667,\n",
       " 69.06166666666667,\n",
       " 70.75750000000001,\n",
       " 66.00666666666663,\n",
       " 69.39916666666664,\n",
       " 73.01666666666667,\n",
       " 69.01333333333332,\n",
       " 71.29333333333334,\n",
       " 71.39583333333333,\n",
       " 68.26833333333335,\n",
       " 69.4625,\n",
       " 66.08666666666667,\n",
       " 65.65500000000002,\n",
       " 67.75416666666668,\n",
       " 68.80916666666666,\n",
       " 66.49916666666668,\n",
       " 68.44250000000002,\n",
       " 72.28416666666665,\n",
       " 64.59499999999998,\n",
       " 68.89,\n",
       " 71.87083333333334,\n",
       " 70.61500000000001,\n",
       " 65.97583333333333,\n",
       " 69.71499999999996,\n",
       " 69.5491666666667,\n",
       " 67.09583333333333,\n",
       " 68.775,\n",
       " 70.20666666666666,\n",
       " 70.76833333333333,\n",
       " 67.43749999999997,\n",
       " 71.6216666666667,\n",
       " 73.63583333333331,\n",
       " 67.64666666666665,\n",
       " 69.80999999999999,\n",
       " 69.15666666666667,\n",
       " 67.77666666666666,\n",
       " 66.74333333333335]"
      ]
     },
     "execution_count": 53,
     "metadata": {},
     "output_type": "execute_result"
    }
   ],
   "source": [
    "# ANSWER\n",
    "\n",
    "sample_mean = calculate_sample_mean(data, 'AGE', N = 250, sample_size = 120)\n",
    "sample_mean"
   ]
  },
  {
   "cell_type": "code",
   "execution_count": 54,
   "metadata": {},
   "outputs": [
    {
     "data": {
      "image/png": "[encoded data removed]",
      "text/plain": [
       "<Figure size 432x288 with 1 Axes>"
      ]
     },
     "metadata": {
      "needs_background": "light"
     },
     "output_type": "display_data"
    }
   ],
   "source": [
    "visual_sample_mean(mean,sample_mean )"
   ]
  },
  {
   "cell_type": "markdown",
   "metadata": {
    "colab_type": "text",
    "id": "nxEKVhZVVXFQ"
   },
   "source": [
    "##### [BONUS] 2.B Visualize Distribution of Sample Mean "
   ]
  },
  {
   "cell_type": "code",
   "execution_count": 55,
   "metadata": {
    "colab": {},
    "colab_type": "code",
    "id": "iyvn_9siVXFS"
   },
   "outputs": [
    {
     "data": {
      "text/plain": [
       "<matplotlib.axes._subplots.AxesSubplot at 0x1d2980c5190>"
      ]
     },
     "execution_count": 55,
     "metadata": {},
     "output_type": "execute_result"
    },
    {
     "data": {
      "image/png": "[encoded data removed]",
      "text/plain": [
       "<Figure size 432x288 with 1 Axes>"
      ]
     },
     "metadata": {
      "needs_background": "light"
     },
     "output_type": "display_data"
    }
   ],
   "source": [
    "# ANSWER\n",
    "sns.distplot(sample_mean)"
   ]
  },
  {
   "cell_type": "markdown",
   "metadata": {
    "colab_type": "text",
    "id": "wkvVYKkEVXFV"
   },
   "source": [
    "##### [BONUS] 2.C Visualize Distribution of Sample Mean and Population together"
   ]
  },
  {
   "cell_type": "code",
   "execution_count": 56,
   "metadata": {
    "colab": {},
    "colab_type": "code",
    "id": "iiq6sK5UVXFW"
   },
   "outputs": [
    {
     "data": {
      "text/plain": [
       "<matplotlib.legend.Legend at 0x1d29818fd60>"
      ]
     },
     "execution_count": 56,
     "metadata": {},
     "output_type": "execute_result"
    },
    {
     "data": {
      "image/png": "[encoded data removed]",
      "text/plain": [
       "<Figure size 432x288 with 1 Axes>"
      ]
     },
     "metadata": {
      "needs_background": "light"
     },
     "output_type": "display_data"
    }
   ],
   "source": [
    "# ANSWER\n",
    "\n",
    "sns.distplot( data[\"AGE\"] , color=\"skyblue\", label=\"Population\")\n",
    "sns.distplot( sample_mean , color=\"red\", label=\"Sample\")\n",
    "plt.legend()\n"
   ]
  },
  {
   "cell_type": "code",
   "execution_count": 58,
   "metadata": {},
   "outputs": [
    {
     "data": {
      "text/plain": [
       "<matplotlib.axes._subplots.AxesSubplot at 0x1d2981dfd00>"
      ]
     },
     "execution_count": 58,
     "metadata": {},
     "output_type": "execute_result"
    },
    {
     "data": {
      "image/png": "[encoded data removed]",
      "text/plain": [
       "<Figure size 432x288 with 1 Axes>"
      ]
     },
     "metadata": {
      "needs_background": "light"
     },
     "output_type": "display_data"
    }
   ],
   "source": [
    "sns.distplot(data['AGE'])"
   ]
  },
  {
   "cell_type": "markdown",
   "metadata": {
    "colab_type": "text",
    "id": "SV9cx_ojOR0V"
   },
   "source": [
    "#### Diabetics Data\n",
    "\n",
    "A medical doctor wants to reduce blood sugar level of all his patients by altering their diet. He finds that the mean sugar level of all patients is 180 with a standard deviation of 18. Nine of his patients start dieting and the mean of that sample is 175. The doctor specifies a 99% confidence interval.\n",
    "\n",
    "##### 4. What is the standard error of the mean? "
   ]
  },
  {
   "cell_type": "code",
   "execution_count": 59,
   "metadata": {
    "colab": {},
    "colab_type": "code",
    "id": "qgqQqeh8OR0W"
   },
   "outputs": [
    {
     "name": "stdout",
     "output_type": "stream",
     "text": [
      "Standard error of mean :6.0\n"
     ]
    }
   ],
   "source": [
    "# ANSWER\n",
    "std = 18 \n",
    "n = 9\n",
    "sem = std / np.sqrt(n)\n",
    "print('Standard error of mean :' + str(sem))"
   ]
  },
  {
   "cell_type": "markdown",
   "metadata": {
    "colab_type": "text",
    "id": "QT94PCGcOR0Y"
   },
   "source": [
    "##### 5. If all patients start dieting, what is the probability that their collective mean will be 175 or less?\n",
    "(Hint: When you have multiple samples and want to describe the standard deviation of those sample means (the standard error), you would use this z score formula:\n",
    "```\n",
    "z = (x – μ) / (σ / √n)\n",
    "```\n",
    "This z-score will tell you how many standard errors there are between the sample mean and the population mean.\n",
    "\n",
    "Treat 180 as the population mean, and use the `norm.cdf` function from `scipy.stats`.)"
   ]
  },
  {
   "cell_type": "code",
   "execution_count": 61,
   "metadata": {
    "colab": {},
    "colab_type": "code",
    "id": "JdHTcjjQOR0Y"
   },
   "outputs": [
    {
     "data": {
      "text/plain": [
       "0.20232838096364308"
      ]
     },
     "execution_count": 61,
     "metadata": {},
     "output_type": "execute_result"
    }
   ],
   "source": [
    "#ANSWER\n",
    "# z = (sample mean - population mean) / Xsem\n",
    "z = (175-180)/sem\n",
    "p = stats.norm.cdf(z)\n",
    "p"
   ]
  },
  {
   "cell_type": "markdown",
   "metadata": {
    "colab_type": "text",
    "id": "uUxHoUNNOR0a"
   },
   "source": [
    "##### 6. Can the doctor conclude that dieting will reduce blood sugar by 5 points on average?"
   ]
  },
  {
   "cell_type": "code",
   "execution_count": 0,
   "metadata": {
    "colab": {},
    "colab_type": "code",
    "id": "h_vZ2ZNMOR0b"
   },
   "outputs": [],
   "source": [
    "#ANSWER\n",
    "\n",
    "    "
   ]
  },
  {
   "cell_type": "markdown",
   "metadata": {
    "colab_type": "text",
    "id": "anvtQw7BOR0d"
   },
   "source": [
    "##### 7. What should the doctor try next? Make some suitable assumptions and try to prove your idea with a calculation."
   ]
  },
  {
   "cell_type": "code",
   "execution_count": 0,
   "metadata": {
    "colab": {},
    "colab_type": "code",
    "id": "T_JSvX3wOR0d"
   },
   "outputs": [],
   "source": [
    "# ANSWER\n",
    "# increase the number of patients in the diet study!"
   ]
  },
  {
   "cell_type": "markdown",
   "metadata": {
    "colab_type": "text",
    "id": "SiBFlmUUVXFm"
   },
   "source": [
    "References\n",
    "---\n",
    "\n",
    "[Z-Score: Definition, Formula and Calculation](https://www.statisticshowto.datasciencecentral.com/probability-and-statistics/z-score/)\n",
    "\n",
    "[Confidence Intervals](https://www.mathsisfun.com/data/confidence-interval.html)"
   ]
  },
  {
   "cell_type": "markdown",
   "metadata": {
    "colab_type": "text",
    "id": "Hj8GdoOXC-Lu"
   },
   "source": [
    "\n",
    "\n",
    "> \n",
    ">\n",
    ">\n",
    "\n",
    "\n"
   ]
  },
  {
   "cell_type": "markdown",
   "metadata": {
    "colab_type": "text",
    "id": "MlasiTKgDGdA"
   },
   "source": [
    "\n",
    "\n",
    "---\n",
    "\n",
    "\n",
    "\n",
    "---\n",
    "\n",
    "\n",
    "\n",
    "> > > > > > > > > © 2019 Institute of Data\n",
    "\n",
    "\n",
    "---\n",
    "\n",
    "\n",
    "\n",
    "---\n",
    "\n",
    "\n",
    "\n"
   ]
  }
 ],
 "metadata": {
  "colab": {
   "collapsed_sections": [],
   "name": "DSIA Lab 3.2.3.ipynb",
   "provenance": []
  },
  "kernelspec": {
   "display_name": "Python 3",
   "language": "python",
   "name": "python3"
  },
  "language_info": {
   "codemirror_mode": {
    "name": "ipython",
    "version": 3
   },
   "file_extension": ".py",
   "mimetype": "text/x-python",
   "name": "python",
   "nbconvert_exporter": "python",
   "pygments_lexer": "ipython3",
   "version": "3.8.3"
  }
 },
 "nbformat": 4,
 "nbformat_minor": 1
}
