{
 "cells": [
  {
   "cell_type": "markdown",
   "metadata": {
    "colab_type": "text",
    "id": "lOjSKXhUKNcw"
   },
   "source": [
    "<div>\n",
    "<img src=https://www.institutedata.com/wp-content/uploads/2019/10/iod_h_tp_primary_c.svg width=\"300\">\n",
    "</div>"
   ]
  },
  {
   "cell_type": "markdown",
   "metadata": {
    "colab_type": "text",
    "id": "S6UxFiLgKNc3"
   },
   "source": [
    "# Demo 9.1: UTF-8\n",
    "\n",
    "INSTRUCTIONS:\n",
    "\n",
    "- Run the cells\n",
    "- Observe and understand the results\n",
    "- Answer the questions"
   ]
  },
  {
   "cell_type": "markdown",
   "metadata": {
    "colab_type": "text",
    "id": "NgNgH2NtKNc8"
   },
   "source": [
    "# Encodings, UTF-8 and Python\n",
    "\n",
    "Unicode is an abstract catalog that maps symbols to code points.\n",
    "\n",
    "To write content to the disk or send them over the network actual ones and zeroes are necessary.\n",
    "\n",
    "With computers, this is done through the use of **encodings**, like UTF-8.\n",
    "\n",
    "Encodings implement the second part of the text process, they're in charge of translating code points into **ones** and **zeroes** (bits).\n",
    "\n",
    "There are several encodings or implementations of unicode, being the most common one UTF-8. Python 3's default encoding is UTF-8. Other implementations include UTF-16, UTF-32 and UCS-2."
   ]
  },
  {
   "cell_type": "markdown",
   "metadata": {
    "colab_type": "text",
    "id": "pnRklJBbKNdG"
   },
   "source": [
    "## Encoding and decoding\n",
    "\n",
    "- **Encoding**: The process of turning abstract symbols defined in the Unicode catalog into bits is called encoding. 😁 -> `1110101`.\n",
    "\n",
    "- **Decoding**: The process of reading bits (`1`s and `0`s), making sense out of them, and getting back symbols or characters is called decoding. `1110101` -> 😁\n",
    "\n",
    "Content needs encoding when the user provides symbols and `1`s and `0`s are necessary.\n",
    "\n",
    "Decoding is necessary when reading some raw source (reading a text file, receiving data from the network) and actual symbols are to be shown to our user."
   ]
  },
  {
   "cell_type": "markdown",
   "metadata": {
    "colab_type": "text",
    "id": "i9tZZiddKNdI"
   },
   "source": [
    "## Encoding in Python\n",
    "\n",
    "Once understood the behind the scenes, encoding and decoding in Python should be a simple task.\n",
    "\n",
    "There are always two types of string data types (regardless of the Python version):\n",
    "- **Unicode**-like: A unicode type of string. Abstract symbols with no bit representation. They need encoding to get the final binary data. `unicode.encode()` -> **bytes**. This data type is `unicode` in **Python 2** and `str` in **Python 3**.\n",
    "- **Byte**-like: A binary type of string. These are just ones and zeroes. They need decoding to get the symbols. `bytes.decode()` -> **unicode**. This data type is `str` in **Python 2** and `bytes` in **Python 3**.\n",
    "\n",
    "The `encode()` and `decode()` methods will accept a few parameters.\n",
    "- The first and most important one, is the parameter that will indicate the encoding system.(UTF-8, ASCII, SHIFT JIS, etc).\n",
    "- The same happens when decoding a string. What encoding was used to generate those bytes, in order for Python to decode it."
   ]
  },
  {
   "cell_type": "code",
   "execution_count": 1,
   "metadata": {
    "ExecuteTime": {
     "end_time": "2020-10-07T01:14:06.492706Z",
     "start_time": "2020-10-07T01:14:06.486550Z"
    },
    "colab": {
     "base_uri": "https://localhost:8080/",
     "height": 87
    },
    "colab_type": "code",
    "executionInfo": {
     "elapsed": 846,
     "status": "ok",
     "timestamp": 1560209062410,
     "user": {
      "displayName": "Ibrahim Faisal",
      "photoUrl": "https://lh3.googleusercontent.com/-67DMczu7rgM/AAAAAAAAAAI/AAAAAAAAAAc/6f5FCnBgxFs/s64/photo.jpg",
      "userId": "02685917636347920688"
     },
     "user_tz": -600
    },
    "id": "j458Hl3VKNdM",
    "outputId": "0ac78e05-75d1-4ae0-91e3-7c78f7568edb"
   },
   "outputs": [
    {
     "name": "stdout",
     "output_type": "stream",
     "text": [
      "Type    of utf8_encoded: <class 'bytes'>\n",
      "Content of utf8_encoded: b'S\\xc3\\xa3o Paulo'\n",
      "Type    of decoded_city: <class 'str'>\n",
      "Content of decoded_city: São Paulo\n"
     ]
    }
   ],
   "source": [
    "# Python 3\n",
    "city = \"São Paulo\"\n",
    "utf8_encoded = city.encode('utf-8')\n",
    "print('Type    of utf8_encoded:', type(utf8_encoded))\n",
    "print('Content of utf8_encoded:', utf8_encoded)\n",
    "\n",
    "decoded_city = utf8_encoded.decode('utf-8')\n",
    "print('Type    of decoded_city:', type(decoded_city))\n",
    "print('Content of decoded_city:', decoded_city)"
   ]
  },
  {
   "cell_type": "markdown",
   "metadata": {
    "colab_type": "text",
    "id": "CGdwCck4KNda"
   },
   "source": [
    "## Summary\n",
    "| Have | Python 2 type | Python 3 type | Method to use | Get | Python 2 type | Python 3 type |\n",
    "|:---:|:---:|:---:|:---:|:---:|:---:|:---:|\n",
    "| 😁 | unicode | str | `encode()` | 110101 | str | bytes |\n",
    "| 110101 | str | bytes | `decode()` | 😁 | unicode | str |"
   ]
  },
  {
   "cell_type": "markdown",
   "metadata": {
    "colab_type": "text",
    "id": "8chYz50pKNdb"
   },
   "source": [
    "## Encoding and decoding errors\n",
    "The process of encoding and decoding is really fragile. There is a change that it might fail.\n",
    "\n",
    "It is important to know potential errors and how to handle them.\n",
    "\n",
    "The most common error is trying to decode some bytes with the wrong encoding."
   ]
  },
  {
   "cell_type": "code",
   "execution_count": 2,
   "metadata": {
    "ExecuteTime": {
     "end_time": "2020-10-07T01:14:06.598545Z",
     "start_time": "2020-10-07T01:14:06.495596Z"
    },
    "colab": {
     "base_uri": "https://localhost:8080/",
     "height": 203
    },
    "colab_type": "code",
    "executionInfo": {
     "elapsed": 697,
     "status": "error",
     "timestamp": 1560209091104,
     "user": {
      "displayName": "Ibrahim Faisal",
      "photoUrl": "https://lh3.googleusercontent.com/-67DMczu7rgM/AAAAAAAAAAI/AAAAAAAAAAc/6f5FCnBgxFs/s64/photo.jpg",
      "userId": "02685917636347920688"
     },
     "user_tz": -600
    },
    "id": "l0_O8byOKNdf",
    "outputId": "dee09bf4-6426-4d8e-9952-f379dfcc9030"
   },
   "outputs": [
    {
     "ename": "UnicodeDecodeError",
     "evalue": "'ascii' codec can't decode byte 0xc3 in position 1: ordinal not in range(128)",
     "output_type": "error",
     "traceback": [
      "\u001b[0;31m---------------------------------------------------------------------------\u001b[0m",
      "\u001b[0;31mUnicodeDecodeError\u001b[0m                        Traceback (most recent call last)",
      "\u001b[0;32m<ipython-input-2-d9f96c330c5d>\u001b[0m in \u001b[0;36m<module>\u001b[0;34m\u001b[0m\n\u001b[1;32m      3\u001b[0m \u001b[0;34m\u001b[0m\u001b[0m\n\u001b[1;32m      4\u001b[0m \u001b[0;31m# Try with the wrong encoding to decode it\u001b[0m\u001b[0;34m\u001b[0m\u001b[0;34m\u001b[0m\u001b[0;34m\u001b[0m\u001b[0m\n\u001b[0;32m----> 5\u001b[0;31m \u001b[0mutf8_encoded\u001b[0m\u001b[0;34m.\u001b[0m\u001b[0mdecode\u001b[0m\u001b[0;34m(\u001b[0m\u001b[0;34m'ascii'\u001b[0m\u001b[0;34m)\u001b[0m\u001b[0;34m\u001b[0m\u001b[0;34m\u001b[0m\u001b[0m\n\u001b[0m",
      "\u001b[0;31mUnicodeDecodeError\u001b[0m: 'ascii' codec can't decode byte 0xc3 in position 1: ordinal not in range(128)"
     ]
    }
   ],
   "source": [
    "city = 'São Paulo'\n",
    "utf8_encoded = city.encode('utf-8')\n",
    "\n",
    "# Try with the wrong encoding to decode it\n",
    "utf8_encoded.decode('ascii')"
   ]
  },
  {
   "cell_type": "markdown",
   "metadata": {
    "colab_type": "text",
    "id": "xyxch06gKNdo"
   },
   "source": [
    "The previous example tries to decode a set of bytes using **ASCII**.\n",
    "\n",
    "Those bytes were the result of a unicode string encoded with UTF-8, so it obviously failed.\n",
    "\n",
    "The error was `UnicodeDecodeError`. It can also happen that trying to encode a unicode string with an encoding that is not suited for it. For example, ASCII cannot encode an emoji."
   ]
  },
  {
   "cell_type": "code",
   "execution_count": 3,
   "metadata": {
    "ExecuteTime": {
     "end_time": "2020-10-07T01:14:16.665659Z",
     "start_time": "2020-10-07T01:14:16.658077Z"
    },
    "colab": {
     "base_uri": "https://localhost:8080/",
     "height": 185
    },
    "colab_type": "code",
    "executionInfo": {
     "elapsed": 739,
     "status": "error",
     "timestamp": 1560209110452,
     "user": {
      "displayName": "Ibrahim Faisal",
      "photoUrl": "https://lh3.googleusercontent.com/-67DMczu7rgM/AAAAAAAAAAI/AAAAAAAAAAc/6f5FCnBgxFs/s64/photo.jpg",
      "userId": "02685917636347920688"
     },
     "user_tz": -600
    },
    "id": "5XwI8pTsKNds",
    "outputId": "706125ad-5faf-4409-c2c5-79007a8358f0"
   },
   "outputs": [
    {
     "ename": "UnicodeEncodeError",
     "evalue": "'ascii' codec can't encode character '\\U0001f601' in position 6: ordinal not in range(128)",
     "output_type": "error",
     "traceback": [
      "\u001b[0;31m---------------------------------------------------------------------------\u001b[0m",
      "\u001b[0;31mUnicodeEncodeError\u001b[0m                        Traceback (most recent call last)",
      "\u001b[0;32m<ipython-input-3-64e4c3b75e0d>\u001b[0m in \u001b[0;36m<module>\u001b[0;34m\u001b[0m\n\u001b[1;32m      1\u001b[0m \u001b[0mgreeting\u001b[0m \u001b[0;34m=\u001b[0m \u001b[0;34m'Hello 😁!'\u001b[0m\u001b[0;34m\u001b[0m\u001b[0;34m\u001b[0m\u001b[0m\n\u001b[0;32m----> 2\u001b[0;31m \u001b[0mgreeting\u001b[0m\u001b[0;34m.\u001b[0m\u001b[0mencode\u001b[0m\u001b[0;34m(\u001b[0m\u001b[0;34m'ascii'\u001b[0m\u001b[0;34m)\u001b[0m\u001b[0;34m\u001b[0m\u001b[0;34m\u001b[0m\u001b[0m\n\u001b[0m",
      "\u001b[0;31mUnicodeEncodeError\u001b[0m: 'ascii' codec can't encode character '\\U0001f601' in position 6: ordinal not in range(128)"
     ]
    }
   ],
   "source": [
    "greeting = 'Hello 😁!'\n",
    "greeting.encode('ascii')"
   ]
  },
  {
   "cell_type": "markdown",
   "metadata": {
    "colab_type": "text",
    "id": "bhf8lui-KNdx"
   },
   "source": [
    "## Handling errors\n",
    "The methods `encode()` and `decode()` accept a second argument that indicates how they should react upon unknown characters. The default value is `strict`, which will raise a `UnicodeError` exception when an invalid character or sequence is found. That is what happened in our previous examples. Aside from `strict`, there are:\n",
    "- `ignore`: will ignore unknown characters or sequences and leave it blank.\n",
    "- `replace`: will replace unknown characters or sequences with a question mark ?\n",
    "- `xmlcharrefreplace`: will replace unknown characters or sequences with a proper XML character\n",
    "- `backslashreplace`: will replace unknown characters or sequences with backslashed escape sequences"
   ]
  },
  {
   "cell_type": "code",
   "execution_count": 4,
   "metadata": {
    "ExecuteTime": {
     "end_time": "2020-10-07T01:14:21.638264Z",
     "start_time": "2020-10-07T01:14:21.632759Z"
    },
    "colab": {
     "base_uri": "https://localhost:8080/",
     "height": 87
    },
    "colab_type": "code",
    "executionInfo": {
     "elapsed": 755,
     "status": "ok",
     "timestamp": 1560209119647,
     "user": {
      "displayName": "Ibrahim Faisal",
      "photoUrl": "https://lh3.googleusercontent.com/-67DMczu7rgM/AAAAAAAAAAI/AAAAAAAAAAc/6f5FCnBgxFs/s64/photo.jpg",
      "userId": "02685917636347920688"
     },
     "user_tz": -600
    },
    "id": "8mKeBTj6KNdy",
    "outputId": "633304e6-1408-4d2b-c10e-90be3059826c"
   },
   "outputs": [
    {
     "name": "stdout",
     "output_type": "stream",
     "text": [
      "Encode using 'ignore'           : b'Hello !'\n",
      "Encode using 'replace'          : b'Hello ?!'\n",
      "Encode using 'xmlcharrefreplace': b'Hello &#128513;!'\n",
      "Encode using 'backslashreplace' : b'Hello \\\\U0001f601!'\n"
     ]
    }
   ],
   "source": [
    "greeting = 'Hello 😁!'\n",
    "print('Encode using \\'ignore\\'           :', greeting.encode('ascii', 'ignore'))\n",
    "print('Encode using \\'replace\\'          :', greeting.encode('ascii', 'replace'))\n",
    "print('Encode using \\'xmlcharrefreplace\\':', greeting.encode('ascii', 'xmlcharrefreplace'))\n",
    "print('Encode using \\'backslashreplace\\' :', greeting.encode('ascii', 'backslashreplace'))"
   ]
  },
  {
   "cell_type": "markdown",
   "metadata": {
    "colab_type": "text",
    "id": "_cLYWnUmKNd1"
   },
   "source": [
    "1. UTF-8 can be considered as an object created from the **Unicode** class. The analogy is: Unicode is the class, UTF-8 and other encodings are actual implementations (objects).\n",
    "2. Most of the time the encoding is unknown. When using data from any source it is never 100% sure what is the encoding used."
   ]
  },
  {
   "cell_type": "markdown",
   "metadata": {
    "colab_type": "text",
    "id": "RERADKgNFq9T"
   },
   "source": [
    "© 2020 Institute of Data"
   ]
  }
 ],
 "metadata": {
  "colab": {
   "collapsed_sections": [],
   "name": "DSIA Demo-9_1.ipynb",
   "provenance": []
  },
  "kernelspec": {
   "display_name": "Python 3",
   "language": "python",
   "name": "python3"
  },
  "language_info": {
   "codemirror_mode": {
    "name": "ipython",
    "version": 3
   },
   "file_extension": ".py",
   "mimetype": "text/x-python",
   "name": "python",
   "nbconvert_exporter": "python",
   "pygments_lexer": "ipython3",
   "version": "3.7.4"
  },
  "toc": {
   "base_numbering": 1,
   "nav_menu": {},
   "number_sections": true,
   "sideBar": true,
   "skip_h1_title": false,
   "title_cell": "Table of Contents",
   "title_sidebar": "Contents",
   "toc_cell": false,
   "toc_position": {},
   "toc_section_display": true,
   "toc_window_display": true
  }
 },
 "nbformat": 4,
 "nbformat_minor": 1
}
