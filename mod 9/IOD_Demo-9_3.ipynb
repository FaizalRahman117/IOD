{
 "cells": [
  {
   "cell_type": "markdown",
   "metadata": {
    "colab_type": "text",
    "id": "g5Py-h5uKz_h"
   },
   "source": [
    "<div>\n",
    "<img src=https://www.institutedata.com/wp-content/uploads/2019/10/iod_h_tp_primary_c.svg width=\"300\">\n",
    "</div>\n",
    "\n"
   ]
  },
  {
   "cell_type": "markdown",
   "metadata": {
    "colab_type": "text",
    "id": "1tNoh0nfKz_l"
   },
   "source": [
    "# Demo 9.3: Web Scraping\n",
    "\n",
    "INSTRUCTIONS:\n",
    "\n",
    "- Run the cells\n",
    "- Observe and understand the results\n",
    "- Answer the questions"
   ]
  },
  {
   "cell_type": "markdown",
   "metadata": {
    "colab_type": "text",
    "id": "WMdVz2YLKz_p"
   },
   "source": [
    "# Web Scraping in Python (using BeautifulSoup)"
   ]
  },
  {
   "cell_type": "markdown",
   "metadata": {
    "colab_type": "text",
    "id": "cczGo5RcKz_s"
   },
   "source": [
    "# Basics HTML\n",
    "Before starting with the code, let’s understand the basics of HTML and some rules of scraping.\n",
    "\n",
    "## HTML tags\n",
    "Below is the source code for a simple HTML webpage.\n",
    "\n",
    "    <!DOCTYPE html>  \n",
    "    <html>  \n",
    "        <head>\n",
    "        </head>\n",
    "        <body>\n",
    "            <h1> First Scraping </h1>\n",
    "            <p> Hello World </p>\n",
    "        <body>\n",
    "    </html>\n",
    "    \n",
    "This is the basic syntax of an HTML webpage. Every `<tag>` serves a block inside the webpage:\n",
    "1. `<!DOCTYPE html>` HTML documents must start with a type declaration.\n",
    "2. The HTML document is contained between `<html>` and `</html>`.\n",
    "3. The meta and script declaration of the HTML document is between `<head>` and `</head>`.\n",
    "4. The visible part of the HTML document is between `<body>` and `</body>` tags.\n",
    "5. Title headings are defined with the `<h1>` through `<h6>` tags.\n",
    "6. Paragraphs are defined with the `<p>` tag.\n",
    "\n",
    "Other useful tags include `<a>` for hyperlinks, `<table>` for tables, `<tr>` for table rows, and `<td>` for table columns.\n",
    "\n",
    "Also, HTML tags sometimes come with `id` or `class` attributes. The `id` attribute specifies a unique id for an HTML tag and the value must be unique within the HTML document. The `class` attribute is used to define equal styles for HTML tags with the same class. We can make use of these ids and classes to help us locate the data we want.\n",
    "\n",
    "## Scraping Rules\n",
    "1. **Always** check a website’s **Terms and Conditions** before you scrape it. Be careful to read the statements about legal use of data. Usually, the retrieved data should not be used for commercial purposes.\n",
    "2. **Do not** request data from the website too aggressively with a program (also known as spamming), as this may break the website. Make sure the program behaves in a reasonable manner (i.e. acts like a human). One request for one webpage per second is good practice.\n",
    "3. The layout of a website may change from time to time, so make sure to revisit the site and rewrite the code as needed"
   ]
  },
  {
   "cell_type": "markdown",
   "metadata": {
    "colab_type": "text",
    "id": "TfxsS1dnKz_v"
   },
   "source": [
    "## Inspecting the Page\n",
    "Let’s take one page from the **Memory Alpha** website as an example.\n",
    "\n",
    "To investigate some relationships let's get the links from this page."
   ]
  },
  {
   "cell_type": "markdown",
   "metadata": {
    "colab_type": "text",
    "id": "R7yt4vvvKz_y"
   },
   "source": [
    "Open the web page on [Prinadora](http://memory-alpha.wikia.com/wiki/Prinadora) with the browser and inspect it.\n",
    "\n",
    "Hover the cursor on the text and follow the shaded box surrounding the main text.\n",
    "\n",
    "From the result, check the main text inside a few levels of HTML tags, which is `<section id=\"WikiaPage\" ...>` → `<div class=\"WikiaPageContentWrapper\">` → `<article id=\"WikiaMainContent\" class=\"WikiaMainContent\">`.\n",
    "\n",
    "It is now known the unique location of the data."
   ]
  },
  {
   "cell_type": "code",
   "execution_count": 1,
   "metadata": {
    "ExecuteTime": {
     "end_time": "2020-10-07T04:34:34.743431Z",
     "start_time": "2020-10-07T04:34:34.615423Z"
    },
    "colab": {},
    "colab_type": "code",
    "id": "GHnB_5JLKz_5"
   },
   "outputs": [],
   "source": [
    "## Import Libraries\n",
    "# conda install -c conda-forge regex\n",
    "import regex as re\n",
    "\n",
    "from urllib.parse import unquote\n",
    "import urllib3\n",
    "from bs4 import BeautifulSoup\n",
    "\n",
    "import warnings\n",
    "warnings.filterwarnings('ignore')"
   ]
  },
  {
   "cell_type": "markdown",
   "metadata": {
    "colab_type": "text",
    "id": "kLPwo1PTK0AB"
   },
   "source": [
    "### Define the content to retrieve (webpage's URL)"
   ]
  },
  {
   "cell_type": "code",
   "execution_count": 2,
   "metadata": {
    "ExecuteTime": {
     "end_time": "2020-10-07T04:34:34.748587Z",
     "start_time": "2020-10-07T04:34:34.746069Z"
    },
    "colab": {},
    "colab_type": "code",
    "id": "PiR0AEi0K0AC"
   },
   "outputs": [],
   "source": [
    "# specify the url\n",
    "quote_page = 'http://memory-alpha.wikia.com/wiki/Prinadora'"
   ]
  },
  {
   "cell_type": "markdown",
   "metadata": {
    "colab_type": "text",
    "id": "O6Pdi7U6K0AF"
   },
   "source": [
    "### Retrieve the page\n",
    "- Require Internet connection"
   ]
  },
  {
   "cell_type": "code",
   "execution_count": 3,
   "metadata": {
    "ExecuteTime": {
     "end_time": "2020-10-07T04:34:35.551292Z",
     "start_time": "2020-10-07T04:34:34.752713Z"
    },
    "colab": {},
    "colab_type": "code",
    "id": "PO1S9OLOK0AG"
   },
   "outputs": [
    {
     "name": "stdout",
     "output_type": "stream",
     "text": [
      "Type of the variable 'page': bytes\n",
      "Page Retrieved. Request Status: 200, Page Size: 234949\n"
     ]
    }
   ],
   "source": [
    "# query the website and return the html to the variable ‘page’\n",
    "http = urllib3.PoolManager()\n",
    "r = http.request('GET', quote_page)\n",
    "if r.status == 200:\n",
    "    page = r.data\n",
    "    print('Type of the variable \\'page\\':', page.__class__.__name__)\n",
    "    print('Page Retrieved. Request Status: %d, Page Size: %d' % (r.status, len(page)))\n",
    "else:\n",
    "    print('Some problem occurred. Request Status: %s' % r.status)"
   ]
  },
  {
   "cell_type": "markdown",
   "metadata": {
    "colab_type": "text",
    "id": "XaVlRuBAK0AI"
   },
   "source": [
    "### Convert the stream of bytes into a BeautifulSoup representation"
   ]
  },
  {
   "cell_type": "code",
   "execution_count": 4,
   "metadata": {
    "ExecuteTime": {
     "end_time": "2020-10-07T04:34:35.639198Z",
     "start_time": "2020-10-07T04:34:35.554925Z"
    },
    "colab": {},
    "colab_type": "code",
    "id": "dxwddKYZK0AJ"
   },
   "outputs": [
    {
     "name": "stdout",
     "output_type": "stream",
     "text": [
      "Type of the variable 'soup': BeautifulSoup\n"
     ]
    }
   ],
   "source": [
    "# parse the html using beautiful soup and store in variable `soup`\n",
    "soup = BeautifulSoup(page, 'html.parser')\n",
    "print('Type of the variable \\'soup\\':', soup.__class__.__name__)"
   ]
  },
  {
   "cell_type": "markdown",
   "metadata": {
    "colab_type": "text",
    "id": "pVw8D21eK0AM"
   },
   "source": [
    "### Check the content\n",
    "- The HTML source\n",
    "- Includes all tags and scripts\n",
    "- Can be long!"
   ]
  },
  {
   "cell_type": "code",
   "execution_count": 5,
   "metadata": {
    "ExecuteTime": {
     "end_time": "2020-10-07T04:34:35.676999Z",
     "start_time": "2020-10-07T04:34:35.641469Z"
    },
    "colab": {},
    "colab_type": "code",
    "id": "x5oIwB2tK0AM"
   },
   "outputs": [
    {
     "name": "stdout",
     "output_type": "stream",
     "text": [
      "<!DOCTYPE doctype html>\n",
      "<html class=\"\" dir=\"ltr\" lang=\"en\">\n",
      " <head>\n",
      "  <meta content=\"text/html; charset=utf-8\" http-equiv=\"Content-Type\"/>\n",
      "  <meta content=\"width=device-width, user-scalable=yes\" name=\"viewport\"/>\n",
      "  <meta content=\"MediaWiki 1.19.24\" name=\"generator\">\n",
      "   <meta content=\"Memory Alpha,enmemoryalpha,Prinadora,Ferengi,2373,Divorce,Prinadora's richer man 001,Rom,Son,Nog,Female,Wife,Mother\" name=\"keywords\">\n",
      "    <meta content=\"Prinadora was a Ferengi female, the first wife of Rom and mother of Nog. Rom's first marriage began when he signed a standard five-year marriage contract with Prinadora's father to produce a child. He then made the mistake of falling in love with his wife. As a result, he signed an extension to...\" name=\"description\"/>\n",
      "    <meta content=\"summary\" name=\"twitter:card\"/>\n",
      "    <meta content=\"@getfandom\" name=\"twitter:site\"/>\n",
      "    <meta content=\"https://memory-alpha.fandom.com/wiki/Prinadora\" name=\"twitter:url\"/>\n",
      "    <meta content=\"Prinadora | Memory Alpha | Fand\n"
     ]
    }
   ],
   "source": [
    "print(soup.prettify()[:1000])"
   ]
  },
  {
   "cell_type": "markdown",
   "metadata": {
    "colab_type": "text",
    "id": "PJdaDTvYK0AP"
   },
   "source": [
    "### Check the HTML's Title"
   ]
  },
  {
   "cell_type": "code",
   "execution_count": 6,
   "metadata": {
    "ExecuteTime": {
     "end_time": "2020-10-07T04:34:35.684935Z",
     "start_time": "2020-10-07T04:34:35.680595Z"
    },
    "colab": {},
    "colab_type": "code",
    "id": "OC0D540CK0AQ",
    "scrolled": false
   },
   "outputs": [
    {
     "name": "stdout",
     "output_type": "stream",
     "text": [
      "Title tag :<title>Prinadora | Memory Alpha | Fandom</title>:\n",
      "Title text:Prinadora | Memory Alpha | Fandom:\n"
     ]
    }
   ],
   "source": [
    "print('Title tag :%s:' % soup.title)\n",
    "print('Title text:%s:' % soup.title.string)"
   ]
  },
  {
   "cell_type": "markdown",
   "metadata": {
    "colab_type": "text",
    "id": "vaFq7vsOK0AY"
   },
   "source": [
    "### Wikimedia's article\n",
    "- Wiki pages use the tag `article` for the actual content of the page\n",
    "\n",
    "        <article class=\"WikiaMainContent\" id=\"WikiaMainContent\">\n",
    "            <div class=\"WikiaMainContentContainer\" id=\"WikiaMainContentContainer\">\n",
    "                <div class=\"WikiaArticle\" id=\"WikiaArticle\">"
   ]
  },
  {
   "cell_type": "code",
   "execution_count": 7,
   "metadata": {
    "ExecuteTime": {
     "end_time": "2020-10-07T04:34:35.693393Z",
     "start_time": "2020-10-07T04:34:35.686980Z"
    },
    "colab": {},
    "colab_type": "code",
    "id": "k-HJ_xyiK0AY"
   },
   "outputs": [
    {
     "name": "stdout",
     "output_type": "stream",
     "text": [
      "Type of the variable 'article': Tag\n"
     ]
    }
   ],
   "source": [
    "tag = 'article'\n",
    "article = soup.find_all(tag)[0]\n",
    "print('Type of the variable \\'article\\':', article.__class__.__name__)"
   ]
  },
  {
   "cell_type": "code",
   "execution_count": 17,
   "metadata": {
    "ExecuteTime": {
     "end_time": "2020-10-07T04:51:15.677796Z",
     "start_time": "2020-10-07T04:51:15.654567Z"
    }
   },
   "outputs": [
    {
     "data": {
      "text/plain": [
       "<article class=\"WikiaMainContent\" id=\"WikiaMainContent\">\n",
       "<div class=\"WikiaMainContentContainer\" id=\"WikiaMainContentContainer\">\n",
       "<div class=\"WikiaArticle\" id=\"WikiaArticle\">\n",
       "<div class=\"home-top-right-ads\">\n",
       "</div>\n",
       "<div class=\"mw-content-ltr mw-content-text\" dir=\"ltr\" id=\"mw-content-text\" lang=\"en\"><!-- Google Tag Manager (noscript) --><noscript><iframe height=\"0\" src=\"https://www.googletagmanager.com/ns.html?id=GTM-MDPTN53\" style=\"display:none;visibility:hidden\" width=\"0\"></iframe></noscript><!-- End Google Tag Manager (noscript) -->\n",
       "<aside class=\"portable-infobox pi-background pi-theme-wikia pi-layout-default\">\n",
       "<div class=\"pi-item pi-data pi-item-spacing pi-border-color\" data-source=\"gender\">\n",
       "<h3 class=\"pi-data-label pi-secondary-font\">Gender:</h3>\n",
       "<div class=\"pi-data-value pi-font\">Female</div>\n",
       "</div>\n",
       "<div class=\"pi-item pi-data pi-item-spacing pi-border-color\" data-source=\"species\">\n",
       "<h3 class=\"pi-data-label pi-secondary-font\">Species:</h3>\n",
       "<div class=\"pi-data-value pi-font\"><a href=\"/wiki/Ferengi\" title=\"Ferengi\">Ferengi</a></div>\n",
       "</div>\n",
       "<div class=\"pi-item pi-data pi-item-spacing pi-border-color\" data-source=\"status\">\n",
       "<h3 class=\"pi-data-label pi-secondary-font\">Status:</h3>\n",
       "<div class=\"pi-data-value pi-font\">Active <i><small>(<a href=\"/wiki/2373\" title=\"2373\">2373</a>)</small></i></div>\n",
       "</div>\n",
       "<div class=\"pi-item pi-data pi-item-spacing pi-border-color\" data-source=\"mstatus\">\n",
       "<h3 class=\"pi-data-label pi-secondary-font\">Marital Status:</h3>\n",
       "<div class=\"pi-data-value pi-font\"><a href=\"/wiki/Divorce\" title=\"Divorce\">Divorced</a> and in <a class=\"mw-redirect\" href=\"/wiki/Prinadora%27s_richer_man_001\" title=\"Prinadora's richer man 001\">another relationship</a></div>\n",
       "</div>\n",
       "<div class=\"pi-item pi-data pi-item-spacing pi-border-color\" data-source=\"spouse\">\n",
       "<h3 class=\"pi-data-label pi-secondary-font\">Spouse(s):</h3>\n",
       "<div class=\"pi-data-value pi-font\"><a href=\"/wiki/Rom\" title=\"Rom\">Rom</a> (ex)</div>\n",
       "</div>\n",
       "<div class=\"pi-item pi-data pi-item-spacing pi-border-color\" data-source=\"children\">\n",
       "<h3 class=\"pi-data-label pi-secondary-font\">Children:</h3>\n",
       "<div class=\"pi-data-value pi-font\">One <a class=\"mw-redirect\" href=\"/wiki/Son\" title=\"Son\">son</a>, <a href=\"/wiki/Nog\" title=\"Nog\">Nog</a></div>\n",
       "</div>\n",
       "</aside>\n",
       "<p><b>Prinadora</b> was a <a href=\"/wiki/Ferengi\" title=\"Ferengi\">Ferengi</a> <a class=\"mw-redirect\" href=\"/wiki/Female\" title=\"Female\">female</a>, the first <a class=\"mw-redirect\" href=\"/wiki/Wife\" title=\"Wife\">wife</a> of <a href=\"/wiki/Rom\" title=\"Rom\">Rom</a> and <a class=\"mw-redirect\" href=\"/wiki/Mother\" title=\"Mother\">mother</a> of <a href=\"/wiki/Nog\" title=\"Nog\">Nog</a>. \n",
       "</p><p>Rom's first <a href=\"/wiki/Marriage\" title=\"Marriage\">marriage</a> began when he signed a standard five-year <a class=\"new\" data-uncrawlable-url=\"L3dpa2kvTWFycmlhZ2VfY29udHJhY3Q/YWN0aW9uPWVkaXQmcmVkbGluaz0x\" rel=\"nofollow\" title=\"Marriage contract (page does not exist)\">marriage contract</a> with <a class=\"mw-redirect\" href=\"/wiki/Prinadora%27s_father_001\" title=\"Prinadora's father 001\">Prinadora's father</a> to produce a <a class=\"mw-redirect\" href=\"/wiki/Child\" title=\"Child\">child</a>. He then made the mistake of falling in <a href=\"/wiki/Love\" title=\"Love\">love</a> with his wife. As a result, he signed an extension to the contract without reading the fine print, allowing Prinadora's father to cheat him of all his money. Prinadora eventually left him for <a class=\"mw-redirect\" href=\"/wiki/Prinadora%27s_richer_man_001\" title=\"Prinadora's richer man 001\">a richer man</a>. (<a href=\"/wiki/Star_Trek:_Deep_Space_Nine\" title=\"Star Trek: Deep Space Nine\"><span style=\"cursor: help;\" title=\"Star Trek: Deep Space Nine\">DS9</span></a>: \"<a href=\"/wiki/Doctor_Bashir,_I_Presume_(episode)\" title=\"Doctor Bashir, I Presume (episode)\"><span style=\"cursor: help;\" title=\"Doctor Bashir, I Presume (DS9 5x16)\">Doctor Bashir, I Presume</span></a>\")\n",
       "</p><p>In <a href=\"/wiki/2373\" title=\"2373\">2373</a>, Rom expressed concern that after marrying <a href=\"/wiki/Leeta\" title=\"Leeta\">Leeta</a>, she might end up behaving as Prinadora had. (<a href=\"/wiki/Star_Trek:_Deep_Space_Nine\" title=\"Star Trek: Deep Space Nine\"><span style=\"cursor: help;\" title=\"Star Trek: Deep Space Nine\">DS9</span></a>: \"<a href=\"/wiki/Ferengi_Love_Songs_(episode)\" title=\"Ferengi Love Songs (episode)\"><span style=\"cursor: help;\" title=\"Ferengi Love Songs (DS9 5x20)\">Ferengi Love Songs</span></a>\")\n",
       "</p>\n",
       "<nav class=\"toc\" data-loaded=\"false\" id=\"toc\"><div id=\"toctitle\"><h2>Contents</h2><span class=\"toctoggle\">[<a class=\"internal\" data-hide=\"hide\" data-show=\"show\" href=\"#\" id=\"togglelink\">show</a>]</span></div><ol></ol></nav>\n",
       "<h2><span class=\"mw-headline\" id=\"Appendices\"> Appendices </span></h2>\n",
       "<h3><span class=\"mw-headline\" id=\"Background_information\"> Background information </span></h3>\n",
       "<p>This character was only mentioned in dialogue.\n",
       "</p><p>It was planned for Prinadora to appear in the <a href=\"/wiki/DS9_Season_6\" title=\"DS9 Season 6\">sixth season</a> episode \"<a href=\"/wiki/Change_of_Heart_(episode)\" title=\"Change of Heart (episode)\"><span style=\"cursor: help;\" title=\"Change of Heart (DS9 6x16)\">Change of Heart</span></a>\". (<i><a href=\"/wiki/Star_Trek:_Deep_Space_Nine_Companion\" title=\"Star Trek: Deep Space Nine Companion\">Star Trek: Deep Space Nine Companion</a></i>, p. 545)\n",
       "</p>\n",
       "<h3><span class=\"mw-headline\" id=\"Apocrypha\"> Apocrypha </span></h3>\n",
       "<p><a href=\"/wiki/Lolita_Fatjo\" title=\"Lolita Fatjo\">Lolita Fatjo</a> played Prinadora in \"The Ferengi Family Hour\" with <a class=\"mw-redirect\" href=\"/wiki/Max_Grodenchik\" title=\"Max Grodenchik\">Max Grodenchik</a>, <a href=\"/wiki/Aron_Eisenberg\" title=\"Aron Eisenberg\">Aron Eisenberg</a> and <a href=\"/wiki/Chase_Masterson\" title=\"Chase Masterson\">Chase Masterson</a> at conventions. Part of the performance comes from the unfilmed scene from \"<a href=\"/wiki/Change_of_Heart_(episode)\" title=\"Change of Heart (episode)\"><span style=\"cursor: help;\" title=\"Change of Heart (DS9 6x16)\">Change of Heart</span></a>\" where Prinadora comes to <a href=\"/wiki/Deep_Space_9\" title=\"Deep Space 9\">Deep Space 9</a> to get Rom back. <a class=\"external autonumber\" href=\"http://www.treknation.com/articles/a_weekend_with_the_stars_part_one.shtml\" rel=\"nofollow\">[1]</a>\n",
       "</p><p>Prinadora appears in the <a href=\"/wiki/Worlds_of_Star_Trek:_Deep_Space_Nine,_Volume_Three\" title=\"Worlds of Star Trek: Deep Space Nine, Volume Three\">third novel</a> (\"<i>Satisfaction is Not Guaranteed</i>\") of <i><a href=\"/wiki/Worlds_of_Star_Trek:_Deep_Space_Nine\" title=\"Worlds of Star Trek: Deep Space Nine\">Worlds of Star Trek: Deep Space Nine</a></i>, where Nog visits her after accusations that Rom broke the marriage contract threatens his position as <a href=\"/wiki/Grand_Nagus\" title=\"Grand Nagus\">Grand Nagus</a>. Nog leaves when she fails to even recognize her son, commenting later on to <a href=\"/wiki/Ro_Laren\" title=\"Ro Laren\">Ro Laren</a> that Leeta has been more of a <i>moogie</i> to him than Prinadora. The accusations that Rom broke the contract are later at least partially resolved when Ro points out that, under the Rules of Acquisition, \"A contract is a contract is a contract, but only between Ferengi\", reasoning that Rom's second marriage was a Bajoran ceremony and so does not 'count' under Ferengi law.\n",
       "</p>\n",
       "<h3><span class=\"mw-headline\" id=\"External_link\"> External link </span></h3>\n",
       "<ul><li> <a class=\"extiw\" href=\"//memory-beta.fandom.com/wiki/Prinadora\" title=\"w:c:memorybeta:Prinadora\">Prinadora</a> at <a class=\"extiw\" href=\"//memory-beta.fandom.com/wiki/\" title=\"w:c:memorybeta\">Memory Beta</a>, the wiki for licensed <i>Star Trek</i> works\n",
       "</li></ul>\n",
       "<!-- \n",
       "NewPP limit report\n",
       "Preprocessor node count: 372/300000\n",
       "Post‐expand include size: 2724/2097152 bytes\n",
       "Template argument size: 974/2097152 bytes\n",
       "Expensive parser function count: 0/300\n",
       "Lua engine used: Scribunto_LuaSandboxEngine\n",
       "Lua time usage: 0.034s\n",
       "Lua memory usage: 2.16 MB\n",
       "-->\n",
       "<!-- Saved in parser cache with key enmemoryalpha:pcache:idhash:8581-0!*!0!!en!*!* -->\n",
       "<noscript><link href=\"https://slot1-images.wikia.nocookie.net/__cb1601996296857/common/extensions/wikia/ImageLazyLoad/css/ImageLazyLoadNoScript.css\" rel=\"stylesheet\"/></noscript></div><div class=\"printfooter\">\n",
       "Retrieved from \"<a href=\"https://memory-alpha.fandom.com/wiki/Prinadora?oldid=2532132\">https://memory-alpha.fandom.com/wiki/Prinadora?oldid=2532132</a>\"</div>\n",
       "</div>\n",
       "<nav class=\"article-categories CategorySelect articlePage\" id=\"articleCategories\">\n",
       "<div class=\"container\">\n",
       "<div class=\"special-categories\"><a class=\"categoriesLink\" href=\"/wiki/Special:Categories\" rel=\"nofollow\" title=\"Special:Categories\">Categories</a>:</div>\n",
       "<ul class=\"categories\">\n",
       "<li class=\"category normal\" data-name=\"Ferengi\" data-namespace=\"\" data-outertag=\"\" data-sortkey=\"\" data-type=\"normal\">\n",
       "<span class=\"name\"><a href=\"/wiki/Category:Ferengi\" title=\"Category:Ferengi\">Ferengi</a></span>\n",
       "<ul class=\"toolbar\">\n",
       "<li class=\"tool editCategory sprite-small edit\" title=\"\"></li>\n",
       "<li class=\"tool removeCategory sprite-small delete\" title=\"\"></li>\n",
       "</ul>\n",
       "</li>\n",
       "</ul>\n",
       "</div>\n",
       "</nav>\n",
       "<nav class=\"WikiaArticleInterlang\">\n",
       "<h3>Languages: </h3>\n",
       "<ul>\n",
       "<li><a data-tracking=\"de\" href=\"https://memory-alpha.fandom.com/de/wiki/Prinadora\">Deutsch</a>\n",
       "</li>\n",
       "</ul>\n",
       "</nav>\n",
       "<div class=\"license-description\">\n",
       "\tCommunity content is available under <a href=\"https://www.fandom.com/licensing\">CC-BY-NC</a>\n",
       " unless otherwise noted.</div>\n",
       "</div>\n",
       "</article>"
      ]
     },
     "execution_count": 17,
     "metadata": {},
     "output_type": "execute_result"
    }
   ],
   "source": [
    "article"
   ]
  },
  {
   "cell_type": "code",
   "execution_count": 18,
   "metadata": {
    "ExecuteTime": {
     "end_time": "2020-10-07T04:52:10.154031Z",
     "start_time": "2020-10-07T04:52:10.149284Z"
    }
   },
   "outputs": [
    {
     "data": {
      "text/plain": [
       "'\\n\\n\\n\\n\\n\\n\\n\\nGender:\\nFemale\\n\\n\\nSpecies:\\nFerengi\\n\\n\\nStatus:\\nActive (2373)\\n\\n\\nMarital\\xa0Status:\\nDivorced and in another relationship\\n\\n\\nSpouse(s):\\nRom (ex)\\n\\n\\nChildren:\\nOne son, Nog\\n\\n\\nPrinadora was a Ferengi female, the first wife of Rom and mother of Nog. \\nRom\\'s first marriage began when he signed a standard five-year marriage contract with Prinadora\\'s father to produce a child. He then made the mistake of falling in love with his wife. As a result, he signed an extension to the contract without reading the fine print, allowing Prinadora\\'s father to cheat him of all his money. Prinadora eventually left him for a richer man. (DS9: \"Doctor Bashir, I Presume\")\\nIn 2373, Rom expressed concern that after marrying Leeta, she might end up behaving as Prinadora had. (DS9: \"Ferengi Love Songs\")\\n\\nContents[show]\\n Appendices \\n Background information \\nThis character was only mentioned in dialogue.\\nIt was planned for Prinadora to appear in the sixth season episode \"Change of Heart\". (Star Trek: Deep Space Nine Companion, p. 545)\\n\\n Apocrypha \\nLolita Fatjo played Prinadora in \"The Ferengi Family Hour\" with Max Grodenchik, Aron Eisenberg and Chase Masterson at conventions. Part of the performance comes from the unfilmed scene from \"Change of Heart\" where Prinadora comes to Deep Space 9 to get Rom back. [1]\\nPrinadora appears in the third novel (\"Satisfaction is Not Guaranteed\") of Worlds of Star Trek: Deep Space Nine, where Nog visits her after accusations that Rom broke the marriage contract threatens his position as Grand Nagus. Nog leaves when she fails to even recognize her son, commenting later on to Ro Laren that Leeta has been more of a moogie to him than Prinadora. The accusations that Rom broke the contract are later at least partially resolved when Ro points out that, under the Rules of Acquisition, \"A contract is a contract is a contract, but only between Ferengi\", reasoning that Rom\\'s second marriage was a Bajoran ceremony and so does not \\'count\\' under Ferengi law.\\n\\n External link \\n Prinadora at Memory Beta, the wiki for licensed Star Trek works\\n\\n\\n\\n\\nRetrieved from \"https://memory-alpha.fandom.com/wiki/Prinadora?oldid=2532132\"\\n\\n\\n\\nCategories:\\n\\n\\nFerengi\\n\\n\\n\\n\\n\\n\\n\\n\\n\\nLanguages: \\n\\nDeutsch\\n\\n\\n\\n\\n\\tCommunity content is available under CC-BY-NC\\n unless otherwise noted.\\n\\n'"
      ]
     },
     "execution_count": 18,
     "metadata": {},
     "output_type": "execute_result"
    }
   ],
   "source": [
    "article.text"
   ]
  },
  {
   "cell_type": "markdown",
   "metadata": {
    "colab_type": "text",
    "id": "38cw389dK0Aa"
   },
   "source": [
    "### Get some of the text\n",
    "- Plain text without HTML tags"
   ]
  },
  {
   "cell_type": "code",
   "execution_count": 8,
   "metadata": {
    "ExecuteTime": {
     "end_time": "2020-10-07T04:34:35.701373Z",
     "start_time": "2020-10-07T04:34:35.697970Z"
    },
    "colab": {},
    "colab_type": "code",
    "id": "Ptx4JvLaK0Ab",
    "scrolled": true
   },
   "outputs": [
    {
     "name": "stdout",
     "output_type": "stream",
     "text": [
      "\n",
      "Gender:\n",
      "Female\n",
      "Species:\n",
      "Ferengi\n",
      "Status:\n",
      "Active (2373)\n",
      "Marital Status:\n",
      "Divorced and in another relationship\n",
      "Spouse(s):\n",
      "Rom (ex)\n",
      "Children:\n",
      "One son, Nog\n",
      "Prinadora was a Ferengi female, the first wife of Rom and mother of Nog. \n",
      "Rom's first marriage began when he signed a standard five-year marriage contract with Prinadora's father to produce a child. He then made the mistake of falling in love with his wife. As a result, he signed an extension to the contract without reading the fine print, allowin\n"
     ]
    }
   ],
   "source": [
    "# show the first 500 characters after removing redundant newlines\n",
    "print(re.sub(r'\\n\\n+', '\\n', article.text)[:500])"
   ]
  },
  {
   "cell_type": "markdown",
   "metadata": {
    "colab_type": "text",
    "id": "hCV5HRw3K0Ad"
   },
   "source": [
    "### Find the links in the text"
   ]
  },
  {
   "cell_type": "code",
   "execution_count": 9,
   "metadata": {
    "ExecuteTime": {
     "end_time": "2020-10-07T04:34:35.718156Z",
     "start_time": "2020-10-07T04:34:35.704377Z"
    },
    "colab": {},
    "colab_type": "code",
    "id": "TJNCkV4oK0Ad"
   },
   "outputs": [
    {
     "data": {
      "text/plain": [
       "['/wiki/Ferengi',\n",
       " '/wiki/2373',\n",
       " '/wiki/Divorce',\n",
       " '/wiki/Prinadora%27s_richer_man_001',\n",
       " '/wiki/Rom',\n",
       " '/wiki/Son',\n",
       " '/wiki/Nog',\n",
       " '/wiki/Ferengi',\n",
       " '/wiki/Female',\n",
       " '/wiki/Wife',\n",
       " '/wiki/Rom',\n",
       " '/wiki/Mother',\n",
       " '/wiki/Nog',\n",
       " '/wiki/Marriage',\n",
       " None,\n",
       " '/wiki/Prinadora%27s_father_001',\n",
       " '/wiki/Child',\n",
       " '/wiki/Love',\n",
       " '/wiki/Prinadora%27s_richer_man_001',\n",
       " '/wiki/Star_Trek:_Deep_Space_Nine',\n",
       " '/wiki/Doctor_Bashir,_I_Presume_(episode)',\n",
       " '/wiki/2373',\n",
       " '/wiki/Leeta',\n",
       " '/wiki/Star_Trek:_Deep_Space_Nine',\n",
       " '/wiki/Ferengi_Love_Songs_(episode)',\n",
       " '#',\n",
       " '/wiki/DS9_Season_6',\n",
       " '/wiki/Change_of_Heart_(episode)',\n",
       " '/wiki/Star_Trek:_Deep_Space_Nine_Companion',\n",
       " '/wiki/Lolita_Fatjo',\n",
       " '/wiki/Max_Grodenchik',\n",
       " '/wiki/Aron_Eisenberg',\n",
       " '/wiki/Chase_Masterson',\n",
       " '/wiki/Change_of_Heart_(episode)',\n",
       " '/wiki/Deep_Space_9',\n",
       " 'http://www.treknation.com/articles/a_weekend_with_the_stars_part_one.shtml',\n",
       " '/wiki/Worlds_of_Star_Trek:_Deep_Space_Nine,_Volume_Three',\n",
       " '/wiki/Worlds_of_Star_Trek:_Deep_Space_Nine',\n",
       " '/wiki/Grand_Nagus',\n",
       " '/wiki/Ro_Laren',\n",
       " '//memory-beta.fandom.com/wiki/Prinadora',\n",
       " '//memory-beta.fandom.com/wiki/',\n",
       " 'https://memory-alpha.fandom.com/wiki/Prinadora?oldid=2532132',\n",
       " '/wiki/Special:Categories',\n",
       " '/wiki/Category:Ferengi',\n",
       " 'https://memory-alpha.fandom.com/de/wiki/Prinadora',\n",
       " 'https://www.fandom.com/licensing']"
      ]
     },
     "execution_count": 9,
     "metadata": {},
     "output_type": "execute_result"
    }
   ],
   "source": [
    "# identify the type of tag to retrieve\n",
    "tag = 'a'\n",
    "# create a list with the links from the `<a>` tag\n",
    "tag_list = [t.get('href') for t in article.find_all(tag)]\n",
    "tag_list"
   ]
  },
  {
   "cell_type": "code",
   "execution_count": 10,
   "metadata": {
    "ExecuteTime": {
     "end_time": "2020-10-07T04:34:35.729572Z",
     "start_time": "2020-10-07T04:34:35.720296Z"
    },
    "colab": {},
    "colab_type": "code",
    "id": "8zIsCxQMK0Ag"
   },
   "outputs": [
    {
     "data": {
      "text/plain": [
       "['Ferengi',\n",
       " '2373',\n",
       " 'Divorce',\n",
       " 'Prinadora%27s_richer_man_001',\n",
       " 'Rom',\n",
       " 'Son',\n",
       " 'Nog',\n",
       " 'Ferengi',\n",
       " 'Female',\n",
       " 'Wife',\n",
       " 'Rom',\n",
       " 'Mother',\n",
       " 'Nog',\n",
       " 'Marriage',\n",
       " 'Prinadora%27s_father_001',\n",
       " 'Child',\n",
       " 'Love',\n",
       " 'Prinadora%27s_richer_man_001',\n",
       " 'Star_Trek:_Deep_Space_Nine',\n",
       " 'Doctor_Bashir,_I_Presume_(episode)',\n",
       " '2373',\n",
       " 'Leeta',\n",
       " 'Star_Trek:_Deep_Space_Nine',\n",
       " 'Ferengi_Love_Songs_(episode)',\n",
       " 'DS9_Season_6',\n",
       " 'Change_of_Heart_(episode)',\n",
       " 'Star_Trek:_Deep_Space_Nine_Companion',\n",
       " 'Lolita_Fatjo',\n",
       " 'Max_Grodenchik',\n",
       " 'Aron_Eisenberg',\n",
       " 'Chase_Masterson',\n",
       " 'Change_of_Heart_(episode)',\n",
       " 'Deep_Space_9',\n",
       " 'Worlds_of_Star_Trek:_Deep_Space_Nine,_Volume_Three',\n",
       " 'Worlds_of_Star_Trek:_Deep_Space_Nine',\n",
       " 'Grand_Nagus',\n",
       " 'Ro_Laren',\n",
       " 'Special:Categories',\n",
       " 'Category:Ferengi']"
      ]
     },
     "execution_count": 10,
     "metadata": {},
     "output_type": "execute_result"
    }
   ],
   "source": [
    "# keep only the links to the wiki itself\n",
    "tag_list = [t[6:] for t in tag_list if (t) and (t.startswith('/wiki/'))]\n",
    "tag_list"
   ]
  },
  {
   "cell_type": "code",
   "execution_count": 11,
   "metadata": {
    "ExecuteTime": {
     "end_time": "2020-10-07T04:34:35.742341Z",
     "start_time": "2020-10-07T04:34:35.732812Z"
    },
    "colab": {},
    "colab_type": "code",
    "id": "hO5dSet3K0Ai"
   },
   "outputs": [
    {
     "data": {
      "text/plain": [
       "['Ferengi',\n",
       " '2373',\n",
       " 'Divorce',\n",
       " 'Prinadora%27s_richer_man_001',\n",
       " 'Rom',\n",
       " 'Son',\n",
       " 'Nog',\n",
       " 'Ferengi',\n",
       " 'Female',\n",
       " 'Wife',\n",
       " 'Rom',\n",
       " 'Mother',\n",
       " 'Nog',\n",
       " 'Marriage',\n",
       " 'Prinadora%27s_father_001',\n",
       " 'Child',\n",
       " 'Love',\n",
       " 'Prinadora%27s_richer_man_001',\n",
       " 'Doctor_Bashir,_I_Presume_(episode)',\n",
       " '2373',\n",
       " 'Leeta',\n",
       " 'Ferengi_Love_Songs_(episode)',\n",
       " 'DS9_Season_6',\n",
       " 'Change_of_Heart_(episode)',\n",
       " 'Lolita_Fatjo',\n",
       " 'Max_Grodenchik',\n",
       " 'Aron_Eisenberg',\n",
       " 'Chase_Masterson',\n",
       " 'Change_of_Heart_(episode)',\n",
       " 'Deep_Space_9',\n",
       " 'Grand_Nagus',\n",
       " 'Ro_Laren']"
      ]
     },
     "execution_count": 11,
     "metadata": {},
     "output_type": "execute_result"
    }
   ],
   "source": [
    "# create a filter for undesired links\n",
    "filter  = '(%s)' % '|'.join([\n",
    "    'Category:',\n",
    "    'File:',\n",
    "    'Help:',\n",
    "    'Memory_Alpha:',\n",
    "    'Portal:',\n",
    "    'action=',\n",
    "    'Special:',\n",
    "    'Star_Trek:',\n",
    "    'Star_Trek_',\n",
    "    'Talk:'\n",
    "])\n",
    "# remove the links that are found in the filter\n",
    "tag_list = [t for t in tag_list if not re.search(filter, t)]\n",
    "tag_list"
   ]
  },
  {
   "cell_type": "code",
   "execution_count": 12,
   "metadata": {
    "ExecuteTime": {
     "end_time": "2020-10-07T04:34:35.751305Z",
     "start_time": "2020-10-07T04:34:35.744997Z"
    },
    "colab": {},
    "colab_type": "code",
    "id": "4N0NWnoPK0Ak"
   },
   "outputs": [
    {
     "data": {
      "text/plain": [
       "['Marriage',\n",
       " 'Max_Grodenchik',\n",
       " 'Ro_Laren',\n",
       " 'Divorce',\n",
       " 'Ferengi_Love_Songs_(episode)',\n",
       " 'Prinadora%27s_richer_man_001',\n",
       " 'Child',\n",
       " 'Chase_Masterson',\n",
       " 'Lolita_Fatjo',\n",
       " 'Leeta',\n",
       " 'Wife',\n",
       " 'Female',\n",
       " 'DS9_Season_6',\n",
       " 'Deep_Space_9',\n",
       " 'Rom',\n",
       " 'Love',\n",
       " 'Nog',\n",
       " 'Grand_Nagus',\n",
       " 'Ferengi',\n",
       " 'Change_of_Heart_(episode)',\n",
       " '2373',\n",
       " 'Aron_Eisenberg',\n",
       " 'Son',\n",
       " 'Prinadora%27s_father_001',\n",
       " 'Mother',\n",
       " 'Doctor_Bashir,_I_Presume_(episode)']"
      ]
     },
     "execution_count": 12,
     "metadata": {},
     "output_type": "execute_result"
    }
   ],
   "source": [
    "# remove duplicates\n",
    "tag_list = list(set(tag_list))\n",
    "tag_list"
   ]
  },
  {
   "cell_type": "code",
   "execution_count": 13,
   "metadata": {
    "ExecuteTime": {
     "end_time": "2020-10-07T04:34:35.760199Z",
     "start_time": "2020-10-07T04:34:35.754176Z"
    },
    "colab": {},
    "colab_type": "code",
    "id": "NJ-92iBZK0Am"
   },
   "outputs": [
    {
     "data": {
      "text/plain": [
       "['Marriage',\n",
       " 'Max_Grodenchik',\n",
       " 'Ro_Laren',\n",
       " 'Divorce',\n",
       " 'Ferengi_Love_Songs_(episode)',\n",
       " \"Prinadora's_richer_man_001\",\n",
       " 'Child',\n",
       " 'Chase_Masterson',\n",
       " 'Lolita_Fatjo',\n",
       " 'Leeta',\n",
       " 'Wife',\n",
       " 'Female',\n",
       " 'DS9_Season_6',\n",
       " 'Deep_Space_9',\n",
       " 'Rom',\n",
       " 'Love',\n",
       " 'Nog',\n",
       " 'Grand_Nagus',\n",
       " 'Ferengi',\n",
       " 'Change_of_Heart_(episode)',\n",
       " '2373',\n",
       " 'Aron_Eisenberg',\n",
       " 'Son',\n",
       " \"Prinadora's_father_001\",\n",
       " 'Mother',\n",
       " 'Doctor_Bashir,_I_Presume_(episode)']"
      ]
     },
     "execution_count": 13,
     "metadata": {},
     "output_type": "execute_result"
    }
   ],
   "source": [
    "# convert escaped sequences\n",
    "tag_list = [unquote(t) for t in tag_list]\n",
    "tag_list"
   ]
  },
  {
   "cell_type": "code",
   "execution_count": 14,
   "metadata": {
    "ExecuteTime": {
     "end_time": "2020-10-07T04:34:35.771152Z",
     "start_time": "2020-10-07T04:34:35.763725Z"
    },
    "colab": {},
    "colab_type": "code",
    "id": "ODJEoku8K0An"
   },
   "outputs": [
    {
     "data": {
      "text/plain": [
       "['Marriage',\n",
       " 'Max Grodenchik',\n",
       " 'Ro Laren',\n",
       " 'Divorce',\n",
       " 'Ferengi Love Songs (episode)',\n",
       " \"Prinadora's richer man 001\",\n",
       " 'Child',\n",
       " 'Chase Masterson',\n",
       " 'Lolita Fatjo',\n",
       " 'Leeta',\n",
       " 'Wife',\n",
       " 'Female',\n",
       " 'DS9 Season 6',\n",
       " 'Deep Space 9',\n",
       " 'Rom',\n",
       " 'Love',\n",
       " 'Nog',\n",
       " 'Grand Nagus',\n",
       " 'Ferengi',\n",
       " 'Change of Heart (episode)',\n",
       " '2373',\n",
       " 'Aron Eisenberg',\n",
       " 'Son',\n",
       " \"Prinadora's father 001\",\n",
       " 'Mother',\n",
       " 'Doctor Bashir, I Presume (episode)']"
      ]
     },
     "execution_count": 14,
     "metadata": {},
     "output_type": "execute_result"
    }
   ],
   "source": [
    "# convert underscore to space\n",
    "tag_list = [re.sub('_', ' ', t) for t in tag_list]\n",
    "tag_list"
   ]
  },
  {
   "cell_type": "code",
   "execution_count": 15,
   "metadata": {
    "ExecuteTime": {
     "end_time": "2020-10-07T04:34:35.778162Z",
     "start_time": "2020-10-07T04:34:35.773370Z"
    },
    "colab": {},
    "colab_type": "code",
    "id": "hc77nPaDK0Ao",
    "scrolled": false
   },
   "outputs": [
    {
     "data": {
      "text/plain": [
       "['2373',\n",
       " 'Aron Eisenberg',\n",
       " 'Change of Heart (episode)',\n",
       " 'Chase Masterson',\n",
       " 'Child',\n",
       " 'DS9 Season 6',\n",
       " 'Deep Space 9',\n",
       " 'Divorce',\n",
       " 'Doctor Bashir, I Presume (episode)',\n",
       " 'Female',\n",
       " 'Ferengi',\n",
       " 'Ferengi Love Songs (episode)',\n",
       " 'Grand Nagus',\n",
       " 'Leeta',\n",
       " 'Lolita Fatjo',\n",
       " 'Love',\n",
       " 'Marriage',\n",
       " 'Max Grodenchik',\n",
       " 'Mother',\n",
       " 'Nog',\n",
       " \"Prinadora's father 001\",\n",
       " \"Prinadora's richer man 001\",\n",
       " 'Ro Laren',\n",
       " 'Rom',\n",
       " 'Son',\n",
       " 'Wife']"
      ]
     },
     "execution_count": 15,
     "metadata": {},
     "output_type": "execute_result"
    }
   ],
   "source": [
    "# order the list\n",
    "tag_list.sort()\n",
    "tag_list"
   ]
  },
  {
   "cell_type": "markdown",
   "metadata": {
    "colab_type": "text",
    "id": "Vh4ag5cSK0Ar"
   },
   "source": [
    "### Create a filter for unwanted types of articles"
   ]
  },
  {
   "cell_type": "code",
   "execution_count": 16,
   "metadata": {
    "ExecuteTime": {
     "end_time": "2020-10-07T04:34:35.788906Z",
     "start_time": "2020-10-07T04:34:35.781307Z"
    },
    "colab": {},
    "colab_type": "code",
    "id": "zdXMj4CSK0Ar"
   },
   "outputs": [
    {
     "data": {
      "text/plain": [
       "['2373',\n",
       " 'Aron Eisenberg',\n",
       " 'Chase Masterson',\n",
       " 'Child',\n",
       " 'Deep Space 9',\n",
       " 'Divorce',\n",
       " 'Female',\n",
       " 'Ferengi',\n",
       " 'Grand Nagus',\n",
       " 'Leeta',\n",
       " 'Lolita Fatjo',\n",
       " 'Love',\n",
       " 'Marriage',\n",
       " 'Max Grodenchik',\n",
       " 'Mother',\n",
       " 'Nog',\n",
       " \"Prinadora's father 001\",\n",
       " \"Prinadora's richer man 001\",\n",
       " 'Ro Laren',\n",
       " 'Rom',\n",
       " 'Son',\n",
       " 'Wife']"
      ]
     },
     "execution_count": 16,
     "metadata": {},
     "output_type": "execute_result"
    }
   ],
   "source": [
    "filter  = '(%s)' % '|'.join([\n",
    "    'episode',\n",
    "    'lternate_reality', # both Alternate_reality and alternate_reality\n",
    "    'mirror',\n",
    "    'rank',\n",
    "    'production',\n",
    "    'Season'\n",
    "])\n",
    "# remove the links that are found in the filter\n",
    "tag_list = [t for t in tag_list if not re.search(filter, t)]\n",
    "tag_list"
   ]
  },
  {
   "cell_type": "markdown",
   "metadata": {
    "colab_type": "text",
    "id": "RERADKgNFq9T"
   },
   "source": [
    "© 2020 Institute of Data"
   ]
  }
 ],
 "metadata": {
  "colab": {
   "collapsed_sections": [],
   "name": "DSIA Demo-9_3.ipynb",
   "provenance": []
  },
  "kernelspec": {
   "display_name": "Python 3",
   "language": "python",
   "name": "python3"
  },
  "language_info": {
   "codemirror_mode": {
    "name": "ipython",
    "version": 3
   },
   "file_extension": ".py",
   "mimetype": "text/x-python",
   "name": "python",
   "nbconvert_exporter": "python",
   "pygments_lexer": "ipython3",
   "version": "3.7.4"
  },
  "toc": {
   "base_numbering": 1,
   "nav_menu": {},
   "number_sections": true,
   "sideBar": true,
   "skip_h1_title": false,
   "title_cell": "Table of Contents",
   "title_sidebar": "Contents",
   "toc_cell": false,
   "toc_position": {},
   "toc_section_display": true,
   "toc_window_display": true
  }
 },
 "nbformat": 4,
 "nbformat_minor": 1
}
