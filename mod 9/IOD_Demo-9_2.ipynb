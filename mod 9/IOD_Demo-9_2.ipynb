{
 "cells": [
  {
   "cell_type": "markdown",
   "metadata": {
    "colab_type": "text",
    "id": "wjd4sMaxKk9j"
   },
   "source": [
    "<div>\n",
    "<img src=https://www.institutedata.com/wp-content/uploads/2019/10/iod_h_tp_primary_c.svg width=\"300\">\n",
    "</div>"
   ]
  },
  {
   "cell_type": "markdown",
   "metadata": {
    "colab_type": "text",
    "id": "75uoJsknKk9q"
   },
   "source": [
    "# Demo 9.2: Regular Expressions\n",
    "\n",
    "INSTRUCTIONS:\n",
    "\n",
    "- Run the cells\n",
    "- Observe and understand the results\n",
    "- Answer the questions"
   ]
  },
  {
   "cell_type": "markdown",
   "metadata": {
    "colab_type": "text",
    "id": "qA-4lRvqKk9v"
   },
   "source": [
    "# Python Regular Expressions: A Simplified Guide\n",
    "Regular expression, also called regex, is a syntax or rather a language to search, extract and manipulate specific string patterns from a larger text. It is widely used in projects that involve text validation, NLP and text mining.\n",
    "\n",
    "Based from the blog post [**Python Regular Expressions Tutorial and Examples: A Simplified Guide**](https://www.machinelearningplus.com/python/python-regex-tutorial-examples/) on **Machine Learning Plus**"
   ]
  },
  {
   "cell_type": "markdown",
   "metadata": {
    "colab_type": "text",
    "id": "9GO6SJSyKk90"
   },
   "source": [
    "## Contents\n",
    "1. Introduction to regular expressions\n",
    "2. What is a regex pattern and how to compile one?\n",
    "3. How to split a string separated by a regex?\n",
    "4. Finding pattern matches using `findall()`, `search()` and `match()`\n",
    "    - What does `regex.findall()` do?\n",
    "    - `regex.search()` vs `regex.match()`\n",
    "5. How to substitute one text with another using regex?\n",
    "6. Regex groups\n",
    "7. What is greedy matching in regex?\n",
    "8. Most common regular expression syntax and patterns\n",
    "9. Regular Expressions Examples"
   ]
  },
  {
   "cell_type": "markdown",
   "metadata": {
    "colab_type": "text",
    "id": "m4hnQMR0Kk94"
   },
   "source": [
    "## 1. Introduction to regular expressions\n",
    "Regular expressions, also called **regex** are implemented in pretty much every computer language. In Python, it is implemented in the standard module `re`.\n",
    "\n",
    "It is widely used in natural language processing, web applications that require validating string input (like email addresses) and pretty much most data science projects that involve text mining.\n",
    "\n",
    "Before getting to the regular expressions syntax, it is better to first understand how the `re` module works.\n",
    "\n",
    "Let's first introduce the 5 main features of the `re` module and then see how to create commonly used regular expressions in Python."
   ]
  },
  {
   "cell_type": "markdown",
   "metadata": {
    "colab_type": "text",
    "id": "jGEU8CjfKk98"
   },
   "source": [
    "## 2. What is a regex pattern and how to compile one?\n",
    "A **regex pattern** is a special language used to represent generic text, numbers or symbols so it can be used to extract texts that conform to that pattern.\n",
    "\n",
    "A basic example is `\\s+`.\n",
    "\n",
    "Here the `\\s` matches any whitespace character. By adding a `+` notation at the end will make the pattern match **at least 1 or more** spaces. So, this pattern will match even **tab** (`\\t`) characters as well.\n",
    "\n",
    "A larger list of regex patterns comes at the end. But before getting to that, let’s see how to compile and play with regular expressions."
   ]
  },
  {
   "cell_type": "code",
   "execution_count": 1,
   "metadata": {
    "ExecuteTime": {
     "end_time": "2020-10-07T03:15:19.081044Z",
     "start_time": "2020-10-07T03:15:19.077944Z"
    },
    "colab": {},
    "colab_type": "code",
    "id": "oSRGVxIkKk9_"
   },
   "outputs": [],
   "source": [
    "# import re\n",
    "# NOTE: importing regex instead\n",
    "#      (has to be installed as it is not part of the base libraries)\n",
    "import re as re\n",
    "\n",
    "spaces = re.compile('\\s+')"
   ]
  },
  {
   "cell_type": "markdown",
   "metadata": {
    "colab_type": "text",
    "id": "DU0PgUo4Kk-G"
   },
   "source": [
    "The above code imports the `regex` package and compiles a regular expression pattern that can match at least one or more space characters."
   ]
  },
  {
   "cell_type": "markdown",
   "metadata": {
    "colab_type": "text",
    "id": "yoio2UFQKk-H"
   },
   "source": [
    "## 3. How to split a string separated by a regex?\n",
    "Let’s consider the following piece of text."
   ]
  },
  {
   "cell_type": "code",
   "execution_count": 2,
   "metadata": {
    "ExecuteTime": {
     "end_time": "2020-10-07T03:15:19.087482Z",
     "start_time": "2020-10-07T03:15:19.083670Z"
    },
    "colab": {},
    "colab_type": "code",
    "id": "HOLxAcpYKk-J"
   },
   "outputs": [
    {
     "name": "stdout",
     "output_type": "stream",
     "text": [
      "Raw content:\n",
      "- - - - - - - - - -\n",
      "'101 COM   Computers\\n205 MAT Mathematics\\n189 ENG  English'\n",
      "- - - - - - - - - -\n",
      "\n",
      "Text:\n",
      "- - - - - - - - - -\n",
      "101 COM   Computers\n",
      "205 MAT Mathematics\n",
      "189 ENG  English\n",
      "- - - - - - - - - -\n"
     ]
    }
   ],
   "source": [
    "text = '''101 COM   Computers\n",
    "205 MAT Mathematics\n",
    "189 ENG  English'''\n",
    "\n",
    "print('Raw content:\\n- - - - - - - - - -\\n%r\\n- - - - - - - - - -' % text)\n",
    "print('\\nText:\\n- - - - - - - - - -\\n%s\\n- - - - - - - - - -' % text)"
   ]
  },
  {
   "cell_type": "markdown",
   "metadata": {},
   "source": [
    "The difference between %s and %r is that %s uses the str function and %r uses the repr function. For built-in types, the biggest difference in practice is that repr for strings includes quotes and all special characters are escaped."
   ]
  },
  {
   "cell_type": "markdown",
   "metadata": {
    "colab_type": "text",
    "id": "ZFzAazsTKk-P"
   },
   "source": [
    "There are three course items in the format of `[Course Number] [Course Code] [Course Name]`. The spacing between the words are **not equal**.\n",
    "\n",
    "How to split these three course items into individual units of numbers and words. How to do that?\n",
    "\n",
    "This can be split in two ways:\n",
    "- By using the `re.split()` method\n",
    "- By calling the `split()` method of the `spaces` object"
   ]
  },
  {
   "cell_type": "code",
   "execution_count": 3,
   "metadata": {
    "ExecuteTime": {
     "end_time": "2020-10-07T03:15:19.093656Z",
     "start_time": "2020-10-07T03:15:19.090287Z"
    },
    "colab": {},
    "colab_type": "code",
    "id": "oD08O-8TKk-R"
   },
   "outputs": [
    {
     "name": "stdout",
     "output_type": "stream",
     "text": [
      "['101', 'COM', 'Computers', '205', 'MAT', 'Mathematics', '189', 'ENG', 'English']\n",
      "['101', 'COM', 'Computers', '205', 'MAT', 'Mathematics', '189', 'ENG', 'English']\n"
     ]
    }
   ],
   "source": [
    "# split the text around 1 or more space characters\n",
    "# \\s ANY ONE space character. For ASCII, whitespace characters are [ \\n\\r\\t\\f]\n",
    "# + is an occurence indicator, i.e. one or more (1+)\n",
    "print(re.split(r'\\s+', text))\n",
    "\n",
    "# or\n",
    "print(spaces.split(text))"
   ]
  },
  {
   "cell_type": "markdown",
   "metadata": {
    "colab_type": "text",
    "id": "KC1CLZLkKk-V"
   },
   "source": [
    "So both methods work. But which one to use in practice?\n",
    "\n",
    "When using a particular pattern multiple times, it is better to compile a regular expression rather than using `re.split()` over and over again."
   ]
  },
  {
   "cell_type": "markdown",
   "metadata": {
    "colab_type": "text",
    "id": "kfavvMdOKk-W"
   },
   "source": [
    "## 4. Finding pattern matches using `findall()`, `search()` and `match()`\n",
    "How to extract all the course numbers, that is, the numbers `101`, `205` and `189` alone from the above text. How to do that?\n",
    "\n",
    "### 4.1 What does `re.findall()` do?"
   ]
  },
  {
   "cell_type": "code",
   "execution_count": 4,
   "metadata": {
    "ExecuteTime": {
     "end_time": "2020-10-07T03:15:19.099750Z",
     "start_time": "2020-10-07T03:15:19.096173Z"
    },
    "colab": {},
    "colab_type": "code",
    "id": "Wz-tctpvKk-X"
   },
   "outputs": [
    {
     "name": "stdout",
     "output_type": "stream",
     "text": [
      "Text:\n",
      "- - - - - - - - - -\n",
      "101 COM   Computers\n",
      "205 MAT Mathematics\n",
      "189 ENG  English\n",
      "- - - - - - - - - -\n",
      "\n",
      "Numbers: ['101', '205', '189']\n"
     ]
    }
   ],
   "source": [
    "# find all numbers within the text\n",
    "print('Text:\\n- - - - - - - - - -\\n%s\\n- - - - - - - - - -\\n' % text)\n",
    "\n",
    "regex_num = re.compile('\\d+')\n",
    "print('Numbers:', regex_num.findall(text))"
   ]
  },
  {
   "cell_type": "markdown",
   "metadata": {
    "colab_type": "text",
    "id": "2KTx2aEdKk-a"
   },
   "source": [
    "In the above code, the special character `\\d` is a regular expression which matches any digit.\n",
    "\n",
    "Adding `+` symbol to it mandates the presence of **at least 1** digit to be present in order to be found.\n",
    "\n",
    "Similar to `+`, there is a `*` symbol which requires **0 or more** digits to be found. It practically makes the presence of a digit optional to make a match.\n",
    "\n",
    "Finally, the `findall()` method extracts all occurrences of the 1 or more digits from the text and returns them in a `list`."
   ]
  },
  {
   "cell_type": "markdown",
   "metadata": {
    "colab_type": "text",
    "id": "Q_Z1mX17Kk-b"
   },
   "source": [
    "### 4.2 `re.search()` vs `re.match()`\n",
    "As the name suggests, `re.search()` searches for the pattern in a given text.\n",
    "\n",
    "But unlike `findall()` which returns the matched portions of the text as a list, `re.search()` returns a particular **match object** that contains the starting and ending positions of the first occurrence of the pattern.\n",
    "\n",
    "Likewise, `re.match()` also returns a match object. But the difference is, it requires the pattern to be present **at the beginning** of the text itself."
   ]
  },
  {
   "cell_type": "code",
   "execution_count": 5,
   "metadata": {
    "ExecuteTime": {
     "end_time": "2020-10-07T03:15:19.107480Z",
     "start_time": "2020-10-07T03:15:19.102155Z"
    },
    "colab": {},
    "colab_type": "code",
    "id": "Xz_CCSuUKk-c"
   },
   "outputs": [
    {
     "name": "stdout",
     "output_type": "stream",
     "text": [
      "Starting Position: 17\n",
      "Ending Position  : 20\n",
      "Content          : 205\n"
     ]
    }
   ],
   "source": [
    "# define the text\n",
    "text2 = '''COM    Computers\n",
    "205 MAT   Mathematics 189'''\n",
    "\n",
    "# compile the regex and search the pattern\n",
    "regex_num = re.compile('\\d+')\n",
    "s = regex_num.search(text2)\n",
    "\n",
    "print('Starting Position:', s.start())\n",
    "print('Ending Position  :', s.end())\n",
    "print('Content          :', text2[s.start():s.end()])"
   ]
  },
  {
   "cell_type": "markdown",
   "metadata": {
    "colab_type": "text",
    "id": "ybUnq7NTKk-f"
   },
   "source": [
    "Alternately, the same output is produced by the `group()` method of the match object."
   ]
  },
  {
   "cell_type": "code",
   "execution_count": 6,
   "metadata": {
    "ExecuteTime": {
     "end_time": "2020-10-07T03:15:19.114349Z",
     "start_time": "2020-10-07T03:15:19.111244Z"
    },
    "colab": {},
    "colab_type": "code",
    "id": "ucTnR68gKk-g"
   },
   "outputs": [
    {
     "name": "stdout",
     "output_type": "stream",
     "text": [
      "Content          : 205\n"
     ]
    }
   ],
   "source": [
    "print('Content          :', s.group())"
   ]
  },
  {
   "cell_type": "markdown",
   "metadata": {
    "colab_type": "text",
    "id": "jo-e8C39Kk-j"
   },
   "source": [
    "The method `match()` cannot find the number as it is not at the beginning of the string."
   ]
  },
  {
   "cell_type": "code",
   "execution_count": 7,
   "metadata": {
    "ExecuteTime": {
     "end_time": "2020-10-07T03:15:19.120754Z",
     "start_time": "2020-10-07T03:15:19.117616Z"
    },
    "colab": {},
    "colab_type": "code",
    "id": "6SIOp66tKk-j"
   },
   "outputs": [
    {
     "name": "stdout",
     "output_type": "stream",
     "text": [
      "Content          : None\n"
     ]
    }
   ],
   "source": [
    "m = regex_num.match(text2)\n",
    "print('Content          :', m)"
   ]
  },
  {
   "cell_type": "markdown",
   "metadata": {
    "colab_type": "text",
    "id": "-AFBSohKKk-n"
   },
   "source": [
    "## 5. How to substitute one text with another using regex?\n",
    "There is the method `re.sub()` to replace texts.\n",
    "\n",
    "The following modified version of the courses text has an extra tab after each course code."
   ]
  },
  {
   "cell_type": "code",
   "execution_count": 8,
   "metadata": {
    "ExecuteTime": {
     "end_time": "2020-10-07T03:15:19.126520Z",
     "start_time": "2020-10-07T03:15:19.122849Z"
    },
    "colab": {},
    "colab_type": "code",
    "id": "k7adUW-rKk-o"
   },
   "outputs": [
    {
     "name": "stdout",
     "output_type": "stream",
     "text": [
      "Raw content:\n",
      "- - - - - - - - - -\n",
      "'101   COM \\t  Computers\\n205   MAT \\t  Mathematics\\n189   ENG  \\t  English'\n",
      "- - - - - - - - - -\n",
      "\n",
      "Text:\n",
      "- - - - - - - - - -\n",
      "101   COM \t  Computers\n",
      "205   MAT \t  Mathematics\n",
      "189   ENG  \t  English\n",
      "- - - - - - - - - -\n"
     ]
    }
   ],
   "source": [
    "# define the text\n",
    "text = '''101   COM \\t  Computers\n",
    "205   MAT \\t  Mathematics\n",
    "189   ENG  \\t  English'''\n",
    "print('Raw content:\\n- - - - - - - - - -\\n%r\\n- - - - - - - - - -' % text)\n",
    "print('\\nText:\\n- - - - - - - - - -\\n%s\\n- - - - - - - - - -' % text)"
   ]
  },
  {
   "cell_type": "markdown",
   "metadata": {
    "colab_type": "text",
    "id": "N5SAs_DVKk-q"
   },
   "source": [
    "From the above `text`, how to even out all the extra spaces and put all the words in one single line?\n",
    "\n",
    "This can be done with the method `sub()` to replace the `\\s+` pattern with a single space (` `)."
   ]
  },
  {
   "cell_type": "code",
   "execution_count": 9,
   "metadata": {
    "ExecuteTime": {
     "end_time": "2020-10-07T03:15:19.132469Z",
     "start_time": "2020-10-07T03:15:19.128622Z"
    },
    "colab": {},
    "colab_type": "code",
    "id": "_EsEvMFXKk-r"
   },
   "outputs": [
    {
     "name": "stdout",
     "output_type": "stream",
     "text": [
      "101 COM Computers 205 MAT Mathematics 189 ENG English\n",
      "101 COM Computers 205 MAT Mathematics 189 ENG English\n"
     ]
    }
   ],
   "source": [
    "# replace one or more spaces with single space\n",
    "regex = re.compile('\\s+')\n",
    "print(regex.sub(' ', text))\n",
    "\n",
    "# or\n",
    "print(re.sub('\\s+', ' ', text))"
   ]
  },
  {
   "cell_type": "markdown",
   "metadata": {
    "colab_type": "text",
    "id": "6xY7r8eBKk-t"
   },
   "source": [
    "How to get rid of the extra spaces but keep the course entries in the newline itself?\n",
    "\n",
    "To achieve that a regex that effectively excludes newline characters but includes all other whitespaces.\n",
    "\n",
    "This can be done using a **negative lookahead** `(?!\\n)`. It checks for an upcoming newline character and excludes it from the pattern."
   ]
  },
  {
   "cell_type": "code",
   "execution_count": 10,
   "metadata": {
    "ExecuteTime": {
     "end_time": "2020-10-07T03:15:19.138168Z",
     "start_time": "2020-10-07T03:15:19.135004Z"
    }
   },
   "outputs": [
    {
     "name": "stdout",
     "output_type": "stream",
     "text": [
      "Raw content:\n",
      "- - - - - - - - - -\n",
      "'101   COM \\t  Computers\\n205   MAT \\t  Mathematics\\n189   ENG  \\t  English'\n",
      "- - - - - - - - - -\n"
     ]
    }
   ],
   "source": [
    "print('Raw content:\\n- - - - - - - - - -\\n%r\\n- - - - - - - - - -' % text)"
   ]
  },
  {
   "cell_type": "code",
   "execution_count": 11,
   "metadata": {
    "ExecuteTime": {
     "end_time": "2020-10-07T03:15:19.144765Z",
     "start_time": "2020-10-07T03:15:19.140062Z"
    },
    "colab": {},
    "colab_type": "code",
    "id": "4g51_AapKk-u"
   },
   "outputs": [
    {
     "name": "stdout",
     "output_type": "stream",
     "text": [
      "Text:\n",
      "- - - - - - - - - -\n",
      "101 COM Computers\n",
      "205 MAT Mathematics\n",
      "189 ENG English\n",
      "- - - - - - - - - -\n"
     ]
    }
   ],
   "source": [
    "# get rid of all extra spaces except newline\n",
    "regex = re.compile('((?!\\n)\\s+)')\n",
    "print('Text:\\n- - - - - - - - - -\\n%s\\n- - - - - - - - - -' % regex.sub(' ', text))"
   ]
  },
  {
   "cell_type": "code",
   "execution_count": 12,
   "metadata": {
    "ExecuteTime": {
     "end_time": "2020-10-07T03:15:19.151261Z",
     "start_time": "2020-10-07T03:15:19.147141Z"
    }
   },
   "outputs": [
    {
     "name": "stdout",
     "output_type": "stream",
     "text": [
      "Text:\n",
      "- - - - - - - - - -\n",
      "'101 COM Computers\\n205 MAT Mathematics\\n189 ENG English'\n",
      "- - - - - - - - - -\n"
     ]
    }
   ],
   "source": [
    "print('Text:\\n- - - - - - - - - -\\n%r\\n- - - - - - - - - -' % regex.sub(' ', text))"
   ]
  },
  {
   "cell_type": "markdown",
   "metadata": {
    "colab_type": "text",
    "id": "EGJ7-swmKk-w"
   },
   "source": [
    "## 6. Regex groups\n",
    "Regular expression groups are a very useful feature that allows the extraction of the desired match objects as individual items.\n",
    "\n",
    "To extract the course number, code and the name as separate items.\n",
    "\n",
    "Without groups, requires some coding like the following."
   ]
  },
  {
   "cell_type": "code",
   "execution_count": 13,
   "metadata": {
    "ExecuteTime": {
     "end_time": "2020-10-07T03:15:19.159702Z",
     "start_time": "2020-10-07T03:15:19.153890Z"
    },
    "colab": {},
    "colab_type": "code",
    "id": "tqzv-1ISKk-x"
   },
   "outputs": [
    {
     "name": "stdout",
     "output_type": "stream",
     "text": [
      "Number: ['101', '205', '189']\n",
      "Code  : ['COM', 'MAT', 'ENG']\n",
      "Name  : ['Computers', 'Mathematics', 'English']\n"
     ]
    }
   ],
   "source": [
    "text = '''101   COM   Computers\n",
    "205   MAT   Mathematics\n",
    "189   ENG    English'''\n",
    "\n",
    "# 1. extract all course numbers\n",
    "print('Number:', re.findall('[0-9]+', text))\n",
    "\n",
    "# 2. extract all course codes\n",
    "# {} is an occurence indicator where {m} implies exactly m times\n",
    "print('Code  :', re.findall('[A-Z]{3}', text))\n",
    "\n",
    "# 3. extract all course names\n",
    "# {} is an occurence indicator where {m, } implies m or more (m+)\n",
    "print('Name  :', re.findall('[A-Za-z]{4,}', text))"
   ]
  },
  {
   "cell_type": "markdown",
   "metadata": {
    "colab_type": "text",
    "id": "HSMuwvcUKk-z"
   },
   "source": [
    "There are three separate regular expressions one for matching the course number, one for code and one for the name.\n",
    "\n",
    "For course number, the pattern `[0-9]+` instructs to match all number from `0` to `9`. Adding a `+` symbol at the end makes it look for at least 1 occurrence of numbers `0-9`. If the course number will certainly have exactly 3 digits, the pattern could be `[0-9]{3}` instead.\n",
    "\n",
    "For course code, the `[A-Z]{3}` will match exactly 3 consecutive occurrences of alphabets capital `A-Z`.\n",
    "\n",
    "For course name, `[A-Za-z]{4,}` will look for upper and lower case alphabets `a-z`, assuming all course names will have at least 4 or more characters.\n",
    "\n",
    "QUESTION: What would be the pattern if the maximum limit of characters in course name is say, 20?\n",
    "\n",
    "Now the code has three separate lines to get the individual items.\n",
    "\n",
    "But there is a better way: **Regex Groups**.\n",
    "\n",
    "Since all the entries have the same pattern, there is a unified pattern for the entire course entry and put the parts to extract inside a pair of brackets `()`."
   ]
  },
  {
   "cell_type": "code",
   "execution_count": 14,
   "metadata": {
    "ExecuteTime": {
     "end_time": "2020-10-07T03:15:19.178043Z",
     "start_time": "2020-10-07T03:15:19.165273Z"
    },
    "colab": {},
    "colab_type": "code",
    "id": "HuYb8IJPKk-0"
   },
   "outputs": [
    {
     "data": {
      "text/plain": [
       "[('101', 'COM', 'Computers'),\n",
       " ('205', 'MAT', 'Mathematics'),\n",
       " ('189', 'ENG', 'English')]"
      ]
     },
     "execution_count": 14,
     "metadata": {},
     "output_type": "execute_result"
    }
   ],
   "source": [
    "# define the course text pattern groups and extract\n",
    "course_pattern = '([0-9]+)\\s*([A-Z]{3})\\s*([A-Za-z]{4,})'\n",
    "#                 (------)   (--------)   (------------)\n",
    "re.findall(course_pattern, text)"
   ]
  },
  {
   "cell_type": "markdown",
   "metadata": {
    "colab_type": "text",
    "id": "TqcpnuQ1Kk-3"
   },
   "source": [
    "Notice the patterns for the course num: `[0-9]+`, code: `[A-Z]{3}` and name: `[A-Za-z]{4,}` are all placed inside parenthesis `()` in order to form the groups."
   ]
  },
  {
   "cell_type": "markdown",
   "metadata": {
    "colab_type": "text",
    "id": "VZUpA-EsKk-4"
   },
   "source": [
    "## 7. What is greedy matching in regex?\n",
    "The default behaviour of regular expressions is to be **greedy**. That means it tries to extract as much as possible until it conforms to a pattern even when a smaller part would have been syntactically sufficient.\n",
    "\n",
    "Let’s see an example with a piece of HTML tag."
   ]
  },
  {
   "cell_type": "code",
   "execution_count": 15,
   "metadata": {
    "ExecuteTime": {
     "end_time": "2020-10-07T03:15:19.185298Z",
     "start_time": "2020-10-07T03:15:19.180942Z"
    },
    "colab": {},
    "colab_type": "code",
    "id": "HsPdQbUsKk-7"
   },
   "outputs": [
    {
     "data": {
      "text/plain": [
       "['< body>Regex Greedy Matching Example < /body>']"
      ]
     },
     "execution_count": 15,
     "metadata": {},
     "output_type": "execute_result"
    }
   ],
   "source": [
    "text = '< body>Regex Greedy Matching Example < /body>'\n",
    "\n",
    "# \"dot\" matches any character except a newline\n",
    "# * causes the resulting RE to match 0 or more repetitions of the preceding RE, as many repetitions as are possible\n",
    "re.findall('<.*>', text)"
   ]
  },
  {
   "cell_type": "markdown",
   "metadata": {
    "colab_type": "text",
    "id": "R1KbzxbFKk--"
   },
   "source": [
    "Instead of matching util the **first** occurrence of `>`, it extracted the **whole** string.\n",
    "\n",
    "This is the default greedy or **take it all** behaviour of regex.\n",
    "\n",
    "Lazy matching, on the other hand, takes **as little as possible**. This can be effected by adding a `?` at the end of the pattern."
   ]
  },
  {
   "cell_type": "markdown",
   "metadata": {},
   "source": [
    "The '*', '+', and '?' qualifiers are all greedy; they match as much text as possible. Adding ? after the qualifier makes it perform the match in non-greedy or minimal fashion; as few characters as possible will be matched."
   ]
  },
  {
   "cell_type": "code",
   "execution_count": 16,
   "metadata": {
    "ExecuteTime": {
     "end_time": "2020-10-07T03:15:19.192532Z",
     "start_time": "2020-10-07T03:15:19.187446Z"
    },
    "colab": {},
    "colab_type": "code",
    "id": "_vXqL4VNKk-_"
   },
   "outputs": [
    {
     "data": {
      "text/plain": [
       "['< body>', '< /body>']"
      ]
     },
     "execution_count": 16,
     "metadata": {},
     "output_type": "execute_result"
    }
   ],
   "source": [
    "re.findall('<.*?>', text)"
   ]
  },
  {
   "cell_type": "markdown",
   "metadata": {
    "colab_type": "text",
    "id": "NIDbTanlKk_B"
   },
   "source": [
    "To get only the **first** match, use the `search()` method instead."
   ]
  },
  {
   "cell_type": "code",
   "execution_count": 17,
   "metadata": {
    "ExecuteTime": {
     "end_time": "2020-10-07T03:15:19.200786Z",
     "start_time": "2020-10-07T03:15:19.195819Z"
    },
    "colab": {},
    "colab_type": "code",
    "id": "x97giCeWKk_C"
   },
   "outputs": [
    {
     "data": {
      "text/plain": [
       "'< body>'"
      ]
     },
     "execution_count": 17,
     "metadata": {},
     "output_type": "execute_result"
    }
   ],
   "source": [
    "re.search('<.*?>', text).group()"
   ]
  },
  {
   "cell_type": "markdown",
   "metadata": {
    "colab_type": "text",
    "id": "J8dQbldzKk_D"
   },
   "source": [
    "## 8. Most common regular expression syntax and patterns\n",
    "Some commonly used wildcard patterns.\n",
    "\n",
    "## Regular Expressions Syntax\n",
    "\n",
    "### Basic Syntax\n",
    "    .          One character except new line\n",
    "    \\.         A period. \\ escapes a special character.\n",
    "    \\d         One digit\n",
    "    \\D         One non-digit\n",
    "    \\w         One word character including digits\n",
    "    \\W         One non-word character\n",
    "    \\s         One whitespace\n",
    "    \\S         One non-whitespace\n",
    "    \\b         Word boundary\n",
    "    \\n         Newline\n",
    "    \\t         Tab\n",
    "\n",
    "### Modifiers\n",
    "    $          End of string\n",
    "    ^          Start of string\n",
    "    ab|cd      Matches ab or de.\n",
    "    [ab-d]     One character of: a, b, c, d\n",
    "    [^ab-d]    One character except: a, b, c, d\n",
    "    ()         Items within parenthesis are retrieved\n",
    "    (a(bc))    Items within the sub-parenthesis are retrieved\n",
    "\n",
    "### Repetitions\n",
    "    [ab]{2}    Exactly 2 continuous occurrences of a or b\n",
    "    [ab]{2,5}  2 to 5 continuous occurrences of a or b\n",
    "    [ab]{2,}   2 or more continuous occurrences of a or b\n",
    "    +          One or more\n",
    "    *          Zero or more\n",
    "    ?          0 or 1"
   ]
  },
  {
   "cell_type": "markdown",
   "metadata": {
    "colab_type": "text",
    "id": "s9QeOJIqKk_E"
   },
   "source": [
    "## 9. Regular Expressions Examples"
   ]
  },
  {
   "cell_type": "markdown",
   "metadata": {
    "colab_type": "text",
    "id": "BdEnvU8IKk_E"
   },
   "source": [
    "### 9.1. Any character except for a new line"
   ]
  },
  {
   "cell_type": "code",
   "execution_count": 18,
   "metadata": {
    "ExecuteTime": {
     "end_time": "2020-10-07T03:15:19.208196Z",
     "start_time": "2020-10-07T03:15:19.203471Z"
    },
    "colab": {},
    "colab_type": "code",
    "id": "k75a8I1yKk_F"
   },
   "outputs": [
    {
     "name": "stdout",
     "output_type": "stream",
     "text": [
      "Any 1 character : ['w', 'e', 'b', 's', 'i', 't', 'e', '.', 'c', 'o', 'm']\n",
      "\n",
      "Any 3 characters: ['web', 'sit', 'e.c']\n"
     ]
    }
   ],
   "source": [
    "text = 'website.com'\n",
    "# .   Any character except for a new line\n",
    "print('Any 1 character :', re.findall('.', text))\n",
    "print('\\nAny 3 characters:', re.findall('...', text))"
   ]
  },
  {
   "cell_type": "markdown",
   "metadata": {
    "colab_type": "text",
    "id": "t9tl73nHKk_H"
   },
   "source": [
    "### 9.2. A period"
   ]
  },
  {
   "cell_type": "code",
   "execution_count": 19,
   "metadata": {
    "ExecuteTime": {
     "end_time": "2020-10-07T03:15:19.216065Z",
     "start_time": "2020-10-07T03:15:19.211217Z"
    },
    "colab": {},
    "colab_type": "code",
    "id": "twFYX9LJKk_I"
   },
   "outputs": [
    {
     "name": "stdout",
     "output_type": "stream",
     "text": [
      "Find a period                     : ['.']\n",
      "\n",
      "Find any character except a period: ['w', 'e', 'b', 's', 'i', 't', 'e', 'c', 'o', 'm']\n"
     ]
    }
   ],
   "source": [
    "text = 'website.com'\n",
    "# matches a period\n",
    "print('Find a period                     :', re.findall('\\.', text))\n",
    "\n",
    "# matches anything but a period\n",
    "print('\\nFind any character except a period:', re.findall('[^\\.]', text))"
   ]
  },
  {
   "cell_type": "markdown",
   "metadata": {
    "colab_type": "text",
    "id": "oqEKZHMHKk_K"
   },
   "source": [
    "### 9.3. Any digit"
   ]
  },
  {
   "cell_type": "code",
   "execution_count": 20,
   "metadata": {
    "ExecuteTime": {
     "end_time": "2020-10-07T03:15:19.222139Z",
     "start_time": "2020-10-07T03:15:19.218664Z"
    },
    "colab": {},
    "colab_type": "code",
    "id": "vaAC9IHWKk_L"
   },
   "outputs": [
    {
     "name": "stdout",
     "output_type": "stream",
     "text": [
      "['01', '2015']\n"
     ]
    }
   ],
   "source": [
    "text = '01, Jan 2015'\n",
    "# \\d  Any digit. The + mandates at least 1 digit.\n",
    "print(re.findall('\\d+', text))"
   ]
  },
  {
   "cell_type": "markdown",
   "metadata": {
    "colab_type": "text",
    "id": "rGWEqyO1Kk_M"
   },
   "source": [
    "### 9.4. Anything but a digit"
   ]
  },
  {
   "cell_type": "code",
   "execution_count": 21,
   "metadata": {
    "ExecuteTime": {
     "end_time": "2020-10-07T03:15:19.228847Z",
     "start_time": "2020-10-07T03:15:19.225062Z"
    },
    "colab": {},
    "colab_type": "code",
    "id": "NB7-PEitKk_M"
   },
   "outputs": [
    {
     "name": "stdout",
     "output_type": "stream",
     "text": [
      "[', Jan ']\n"
     ]
    }
   ],
   "source": [
    "text = '01, Jan 2015'\n",
    "# \\D  Anything but a digit\n",
    "print(re.findall('\\D+', text))"
   ]
  },
  {
   "cell_type": "markdown",
   "metadata": {
    "colab_type": "text",
    "id": "CJg7KAzEKk_O"
   },
   "source": [
    "### 9.5. Any character, including digits"
   ]
  },
  {
   "cell_type": "code",
   "execution_count": 22,
   "metadata": {
    "ExecuteTime": {
     "end_time": "2020-10-07T03:15:19.235069Z",
     "start_time": "2020-10-07T03:15:19.231567Z"
    },
    "colab": {},
    "colab_type": "code",
    "id": "K6cOf-DaKk_O"
   },
   "outputs": [
    {
     "name": "stdout",
     "output_type": "stream",
     "text": [
      "['01', 'Jan', '2015']\n"
     ]
    }
   ],
   "source": [
    "text = '01, Jan 2015'\n",
    "# \\w  Any character\n",
    "print(re.findall('\\w+', text))"
   ]
  },
  {
   "cell_type": "markdown",
   "metadata": {
    "colab_type": "text",
    "id": "d6-qdOz3Kk_Q"
   },
   "source": [
    "### 9.6. Anything but a character"
   ]
  },
  {
   "cell_type": "code",
   "execution_count": 23,
   "metadata": {
    "ExecuteTime": {
     "end_time": "2020-10-07T03:15:19.243201Z",
     "start_time": "2020-10-07T03:15:19.238617Z"
    },
    "colab": {},
    "colab_type": "code",
    "id": "bXTCAFwlKk_S"
   },
   "outputs": [
    {
     "name": "stdout",
     "output_type": "stream",
     "text": [
      "[', ', ' ']\n"
     ]
    }
   ],
   "source": [
    "text = '01, Jan 2015'\n",
    "# \\W  Anything but a character\n",
    "print(re.findall('\\W+', text))"
   ]
  },
  {
   "cell_type": "markdown",
   "metadata": {
    "colab_type": "text",
    "id": "BWimwiHiKk_U"
   },
   "source": [
    "### 9.7. Collection of characters"
   ]
  },
  {
   "cell_type": "code",
   "execution_count": 24,
   "metadata": {
    "ExecuteTime": {
     "end_time": "2020-10-07T03:15:19.250876Z",
     "start_time": "2020-10-07T03:15:19.246528Z"
    },
    "colab": {},
    "colab_type": "code",
    "id": "OrV9lMryKk_V"
   },
   "outputs": [
    {
     "name": "stdout",
     "output_type": "stream",
     "text": [
      "['Jan']\n"
     ]
    }
   ],
   "source": [
    "text = '01, Jan 2015'\n",
    "# [] Matches any character inside\n",
    "print(re.findall('[a-zA-Z]+', text))"
   ]
  },
  {
   "cell_type": "markdown",
   "metadata": {
    "colab_type": "text",
    "id": "ECjqEDAqKk_X"
   },
   "source": [
    "### 9.8. Match something up to 'n' times"
   ]
  },
  {
   "cell_type": "code",
   "execution_count": 25,
   "metadata": {
    "ExecuteTime": {
     "end_time": "2020-10-07T03:15:19.260716Z",
     "start_time": "2020-10-07T03:15:19.256402Z"
    },
    "colab": {},
    "colab_type": "code",
    "id": "CYxCU1sKKk_Y"
   },
   "outputs": [
    {
     "name": "stdout",
     "output_type": "stream",
     "text": [
      "['2015']\n",
      "['01', '2015']\n"
     ]
    }
   ],
   "source": [
    "text = '01, Jan 2015'\n",
    "# {n} Matches repeat n times\n",
    "print(re.findall('\\d{4}', text))\n",
    "print(re.findall('\\d{2,4}', text))"
   ]
  },
  {
   "cell_type": "markdown",
   "metadata": {
    "colab_type": "text",
    "id": "_Y7DtxRmKk_b"
   },
   "source": [
    "### 9.9. Match 1 or more occurrences"
   ]
  },
  {
   "cell_type": "code",
   "execution_count": 26,
   "metadata": {
    "ExecuteTime": {
     "end_time": "2020-10-07T03:15:19.267128Z",
     "start_time": "2020-10-07T03:15:19.263705Z"
    },
    "colab": {},
    "colab_type": "code",
    "id": "ajWiuABKKk_c"
   },
   "outputs": [
    {
     "name": "stdout",
     "output_type": "stream",
     "text": [
      "['Cooool']\n"
     ]
    }
   ],
   "source": [
    "# Match for 1 or more occurrences\n",
    "print(re.findall(r'Co+l', 'So Cooool'))"
   ]
  },
  {
   "cell_type": "markdown",
   "metadata": {
    "colab_type": "text",
    "id": "sknq_AAJKk_e"
   },
   "source": [
    "### 9.10. Match any number of occurrences (0 or more times)"
   ]
  },
  {
   "cell_type": "code",
   "execution_count": 27,
   "metadata": {
    "ExecuteTime": {
     "end_time": "2020-10-07T03:15:19.273898Z",
     "start_time": "2020-10-07T03:15:19.269998Z"
    },
    "colab": {},
    "colab_type": "code",
    "id": "6xZsv7TTKk_f"
   },
   "outputs": [
    {
     "name": "stdout",
     "output_type": "stream",
     "text": [
      "['Pilani']\n"
     ]
    }
   ],
   "source": [
    "print(re.findall(r'Pi*lani', 'Pilani'))"
   ]
  },
  {
   "cell_type": "markdown",
   "metadata": {
    "colab_type": "text",
    "id": "4D6kejG9Kk_i"
   },
   "source": [
    "### 9.11. Match exactly zero or one occurrence"
   ]
  },
  {
   "cell_type": "code",
   "execution_count": 28,
   "metadata": {
    "ExecuteTime": {
     "end_time": "2020-10-07T03:15:19.279374Z",
     "start_time": "2020-10-07T03:15:19.276160Z"
    },
    "colab": {
     "base_uri": "https://localhost:8080/",
     "height": 35
    },
    "colab_type": "code",
    "executionInfo": {
     "elapsed": 680,
     "status": "ok",
     "timestamp": 1560768414339,
     "user": {
      "displayName": "Ibrahim Faisal",
      "photoUrl": "https://lh3.googleusercontent.com/-67DMczu7rgM/AAAAAAAAAAI/AAAAAAAAAAc/6f5FCnBgxFs/s64/photo.jpg",
      "userId": "02685917636347920688"
     },
     "user_tz": -600
    },
    "id": "0tobWrOWKk_j",
    "outputId": "f0d989f7-3c5b-48c3-a6e1-6f4b796d9b09"
   },
   "outputs": [
    {
     "name": "stdout",
     "output_type": "stream",
     "text": [
      "['colour']\n"
     ]
    }
   ],
   "source": [
    "print(re.findall(r'colou?r', 'colour'))"
   ]
  },
  {
   "cell_type": "markdown",
   "metadata": {
    "colab_type": "text",
    "id": "1zbgyK5BKk_n"
   },
   "source": [
    "### 9.12. Match word boundaries\n",
    "Word boundaries `\\b` are commonly used to detect and match the beginning or end of a word. That is, one side is a word character and the other side is whitespace and vice-versa.\n",
    "\n",
    "For example, the regex `\\btoy` will match the `toy` in `toy cat` and not in `tolstoy`. In order to match the `toy` in `tolstoy`, you should use `toy\\b`.\n",
    "\n",
    "QUESTION: Come up with a regex that will match only the first `toy` in `play toy broke toys`. (hint: `\\b` on both sides)\n",
    "\n",
    "Likewise, `\\B` will match any non-boundary.\n",
    "\n",
    "For example, `\\Btoy\\B` will match `toy` surrounded by words on both sides, as in `antoynet`."
   ]
  },
  {
   "cell_type": "code",
   "execution_count": 29,
   "metadata": {
    "ExecuteTime": {
     "end_time": "2020-10-07T03:15:19.285832Z",
     "start_time": "2020-10-07T03:15:19.281521Z"
    },
    "colab": {},
    "colab_type": "code",
    "id": "kskAeDUxKk_n"
   },
   "outputs": [
    {
     "data": {
      "text/plain": [
       "['toy']"
      ]
     },
     "execution_count": 29,
     "metadata": {},
     "output_type": "execute_result"
    }
   ],
   "source": [
    "# match toy with boundary on both sides\n",
    "re.findall(r'\\btoy\\b', 'play toy broke toys')"
   ]
  },
  {
   "cell_type": "markdown",
   "metadata": {
    "colab_type": "text",
    "id": "RERADKgNFq9T"
   },
   "source": [
    "© 2020 Institute of Data"
   ]
  }
 ],
 "metadata": {
  "colab": {
   "collapsed_sections": [
    "Q_Z1mX17Kk-b",
    "BdEnvU8IKk_E",
    "t9tl73nHKk_H",
    "oqEKZHMHKk_K",
    "rGWEqyO1Kk_M",
    "CJg7KAzEKk_O",
    "d6-qdOz3Kk_Q",
    "BWimwiHiKk_U",
    "ECjqEDAqKk_X",
    "_Y7DtxRmKk_b",
    "sknq_AAJKk_e",
    "4D6kejG9Kk_i"
   ],
   "name": "DSIA Demo-9_2.ipynb",
   "provenance": []
  },
  "kernelspec": {
   "display_name": "Python 3",
   "language": "python",
   "name": "python3"
  },
  "language_info": {
   "codemirror_mode": {
    "name": "ipython",
    "version": 3
   },
   "file_extension": ".py",
   "mimetype": "text/x-python",
   "name": "python",
   "nbconvert_exporter": "python",
   "pygments_lexer": "ipython3",
   "version": "3.7.4"
  },
  "toc": {
   "base_numbering": 1,
   "nav_menu": {},
   "number_sections": true,
   "sideBar": true,
   "skip_h1_title": false,
   "title_cell": "Table of Contents",
   "title_sidebar": "Contents",
   "toc_cell": false,
   "toc_position": {},
   "toc_section_display": true,
   "toc_window_display": true
  }
 },
 "nbformat": 4,
 "nbformat_minor": 1
}
