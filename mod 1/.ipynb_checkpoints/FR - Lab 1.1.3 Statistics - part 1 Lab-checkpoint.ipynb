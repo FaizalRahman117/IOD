{
 "cells": [
  {
   "cell_type": "markdown",
   "metadata": {
    "colab_type": "text",
    "id": "j2JAe1SsMJZC"
   },
   "source": [
    "<div>\n",
    "<img src=https://www.institutedata.com/wp-content/uploads/2019/10/iod_h_tp_primary_c.svg width=\"300\">\n",
    "</div>\n",
    "\n",
    "# Statistics - Part 1"
   ]
  },
  {
   "cell_type": "code",
   "execution_count": 1,
   "metadata": {
    "colab": {},
    "colab_type": "code",
    "id": "u8uEWYakMJZF"
   },
   "outputs": [],
   "source": [
    "import numpy as np\n",
    "import matplotlib.pyplot as plt\n",
    "# get matplot to show charts inline\n",
    "%matplotlib inline"
   ]
  },
  {
   "cell_type": "code",
   "execution_count": 2,
   "metadata": {
    "colab": {
     "base_uri": "https://localhost:8080/",
     "height": 248
    },
    "colab_type": "code",
    "executionInfo": {
     "elapsed": 1628,
     "status": "ok",
     "timestamp": 1588137651789,
     "user": {
      "displayName": "Earnest Thomas",
      "photoUrl": "https://lh3.googleusercontent.com/a-/AOh14GjfilpZGms64BcYXJcKRXXfqvO6y1j8cfjHiFGn=s64",
      "userId": "01963288443540378839"
     },
     "user_tz": -600
    },
    "id": "usCrXBOlMJZO",
    "outputId": "1054dc68-bfdb-4cbe-91c4-72c4e503a421"
   },
   "outputs": [
    {
     "data": {
      "image/png": "[encoded data removed]",
      "text/plain": [
       "<Figure size 432x288 with 1 Axes>"
      ]
     },
     "metadata": {},
     "output_type": "display_data"
    }
   ],
   "source": [
    "# plot frequency of some observations using pie chart\n",
    "labels = 'Developers', 'Data Engineers', 'Data Scientists', 'Business Analysts'\n",
    "frequency = [15, 32, 12, 7]\n",
    "fig1, ax1 = plt.subplots()\n",
    "explode = (0, 0, 0.2, 0)  # only \"explode\" the 3rd slice (i.e. 'Data Scientist')\n",
    "ax1.pie(frequency, explode=explode, labels=labels, autopct='%1.1f%%',\n",
    "        shadow=True, startangle=90)\n",
    "ax1.axis('equal')  # Equal aspect ratio ensures that pie is drawn as a circle.\n",
    "plt.show()"
   ]
  },
  {
   "cell_type": "code",
   "execution_count": 0,
   "metadata": {
    "colab": {
     "base_uri": "https://localhost:8080/",
     "height": 2665
    },
    "colab_type": "code",
    "executionInfo": {
     "elapsed": 699,
     "status": "ok",
     "timestamp": 1560212672712,
     "user": {
      "displayName": "Ibrahim Faisal",
      "photoUrl": "https://lh3.googleusercontent.com/-67DMczu7rgM/AAAAAAAAAAI/AAAAAAAAAAc/6f5FCnBgxFs/s64/photo.jpg",
      "userId": "02685917636347920688"
     },
     "user_tz": -600
    },
    "id": "WGLEzcPz47Y-",
    "outputId": "292dd044-8ee9-4768-f692-b78893586267"
   },
   "outputs": [
    {
     "name": "stdout",
     "output_type": "stream",
     "text": [
      "Help on function bar in module matplotlib.pyplot:\n",
      "\n",
      "bar(x, height, width=0.8, bottom=None, *, align='center', data=None, **kwargs)\n",
      "    Make a bar plot.\n",
      "    \n",
      "    The bars are positioned at *x* with the given *align*\\ment. Their\n",
      "    dimensions are given by *width* and *height*. The vertical baseline\n",
      "    is *bottom* (default 0).\n",
      "    \n",
      "    Each of *x*, *height*, *width*, and *bottom* may either be a scalar\n",
      "    applying to all bars, or it may be a sequence of length N providing a\n",
      "    separate value for each bar.\n",
      "    \n",
      "    Parameters\n",
      "    ----------\n",
      "    x : sequence of scalars\n",
      "        The x coordinates of the bars. See also *align* for the\n",
      "        alignment of the bars to the coordinates.\n",
      "    \n",
      "    height : scalar or sequence of scalars\n",
      "        The height(s) of the bars.\n",
      "    \n",
      "    width : scalar or array-like, optional\n",
      "        The width(s) of the bars (default: 0.8).\n",
      "    \n",
      "    bottom : scalar or array-like, optional\n",
      "        The y coordinate(s) of the bars bases (default: 0).\n",
      "    \n",
      "    align : {'center', 'edge'}, optional, default: 'center'\n",
      "        Alignment of the bars to the *x* coordinates:\n",
      "    \n",
      "        - 'center': Center the base on the *x* positions.\n",
      "        - 'edge': Align the left edges of the bars with the *x* positions.\n",
      "    \n",
      "        To align the bars on the right edge pass a negative *width* and\n",
      "        ``align='edge'``.\n",
      "    \n",
      "    Returns\n",
      "    -------\n",
      "    container : `.BarContainer`\n",
      "        Container with all the bars and optionally errorbars.\n",
      "    \n",
      "    Other Parameters\n",
      "    ----------------\n",
      "    color : scalar or array-like, optional\n",
      "        The colors of the bar faces.\n",
      "    \n",
      "    edgecolor : scalar or array-like, optional\n",
      "        The colors of the bar edges.\n",
      "    \n",
      "    linewidth : scalar or array-like, optional\n",
      "        Width of the bar edge(s). If 0, don't draw edges.\n",
      "    \n",
      "    tick_label : string or array-like, optional\n",
      "        The tick labels of the bars.\n",
      "        Default: None (Use default numeric labels.)\n",
      "    \n",
      "    xerr, yerr : scalar or array-like of shape(N,) or shape(2,N), optional\n",
      "        If not *None*, add horizontal / vertical errorbars to the bar tips.\n",
      "        The values are +/- sizes relative to the data:\n",
      "    \n",
      "        - scalar: symmetric +/- values for all bars\n",
      "        - shape(N,): symmetric +/- values for each bar\n",
      "        - shape(2,N): Separate - and + values for each bar. First row\n",
      "            contains the lower errors, the second row contains the\n",
      "            upper errors.\n",
      "        - *None*: No errorbar. (Default)\n",
      "    \n",
      "        See :doc:`/gallery/statistics/errorbar_features`\n",
      "        for an example on the usage of ``xerr`` and ``yerr``.\n",
      "    \n",
      "    ecolor : scalar or array-like, optional, default: 'black'\n",
      "        The line color of the errorbars.\n",
      "    \n",
      "    capsize : scalar, optional\n",
      "       The length of the error bar caps in points.\n",
      "       Default: None, which will take the value from\n",
      "       :rc:`errorbar.capsize`.\n",
      "    \n",
      "    error_kw : dict, optional\n",
      "        Dictionary of kwargs to be passed to the `~.Axes.errorbar`\n",
      "        method. Values of *ecolor* or *capsize* defined here take\n",
      "        precedence over the independent kwargs.\n",
      "    \n",
      "    log : bool, optional, default: False\n",
      "        If *True*, set the y-axis to be log scale.\n",
      "    \n",
      "    orientation : {'vertical',  'horizontal'}, optional\n",
      "        *This is for internal use only.* Please use `barh` for\n",
      "        horizontal bar plots. Default: 'vertical'.\n",
      "    \n",
      "    See also\n",
      "    --------\n",
      "    barh: Plot a horizontal bar plot.\n",
      "    \n",
      "    Notes\n",
      "    -----\n",
      "    The optional arguments *color*, *edgecolor*, *linewidth*,\n",
      "    *xerr*, and *yerr* can be either scalars or sequences of\n",
      "    length equal to the number of bars.  This enables you to use\n",
      "    bar as the basis for stacked bar charts, or candlestick plots.\n",
      "    Detail: *xerr* and *yerr* are passed directly to\n",
      "    :meth:`errorbar`, so they can also have shape 2xN for\n",
      "    independent specification of lower and upper errors.\n",
      "    \n",
      "    Other optional kwargs:\n",
      "    \n",
      "      agg_filter: a filter function, which takes a (m, n, 3) float array and a dpi value, and returns a (m, n, 3) array \n",
      "      alpha: float or None\n",
      "      animated: bool\n",
      "      antialiased: unknown\n",
      "      capstyle: {'butt', 'round', 'projecting'}\n",
      "      clip_box: `.Bbox`\n",
      "      clip_on: bool\n",
      "      clip_path: [(`~matplotlib.path.Path`, `.Transform`) | `.Patch` | None] \n",
      "      color: color\n",
      "      contains: callable\n",
      "      edgecolor: color or None or 'auto'\n",
      "      facecolor: color or None\n",
      "      figure: `.Figure`\n",
      "      fill: bool\n",
      "      gid: str\n",
      "      hatch: {'/', '\\\\', '|', '-', '+', 'x', 'o', 'O', '.', '*'}\n",
      "      in_layout: bool\n",
      "      joinstyle: {'miter', 'round', 'bevel'}\n",
      "      label: object\n",
      "      linestyle: {'-', '--', '-.', ':', '', (offset, on-off-seq), ...}\n",
      "      linewidth: float or None for default \n",
      "      path_effects: `.AbstractPathEffect`\n",
      "      picker: None or bool or float or callable\n",
      "      rasterized: bool or None\n",
      "      sketch_params: (scale: float, length: float, randomness: float) \n",
      "      snap: bool or None\n",
      "      transform: `.Transform`\n",
      "      url: str\n",
      "      visible: bool\n",
      "      zorder: float\n",
      "    \n",
      "    .. note::\n",
      "        In addition to the above described arguments, this function can take a\n",
      "        **data** keyword argument. If such a **data** argument is given, the\n",
      "        following arguments are replaced by **data[<arg>]**:\n",
      "    \n",
      "        * All arguments with the following names: 'bottom', 'color', 'ecolor', 'edgecolor', 'height', 'left', 'linewidth', 'tick_label', 'width', 'x', 'xerr', 'y', 'yerr'.\n",
      "        * All positional arguments.\n",
      "    \n",
      "        Objects passed as **data** must support item access (``data[<arg>]``) and\n",
      "        membership test (``<arg> in data``).\n",
      "\n"
     ]
    }
   ],
   "source": [
    "help(plt.bar)"
   ]
  },
  {
   "cell_type": "code",
   "execution_count": 1,
   "metadata": {
    "colab": {
     "base_uri": "https://localhost:8080/",
     "height": 238
    },
    "colab_type": "code",
    "executionInfo": {
     "elapsed": 1678,
     "status": "error",
     "timestamp": 1588137628774,
     "user": {
      "displayName": "Earnest Thomas",
      "photoUrl": "https://lh3.googleusercontent.com/a-/AOh14GjfilpZGms64BcYXJcKRXXfqvO6y1j8cfjHiFGn=s64",
      "userId": "01963288443540378839"
     },
     "user_tz": -600
    },
    "id": "uDNaazfhMJZb",
    "outputId": "2f190c05-f222-405d-9e28-564093431538"
   },
   "outputs": [
    {
     "ename": "NameError",
     "evalue": "ignored",
     "output_type": "error",
     "traceback": [
      "\u001b[0;31m---------------------------------------------------------------------------\u001b[0m",
      "\u001b[0;31mNameError\u001b[0m                                 Traceback (most recent call last)",
      "\u001b[0;32m<ipython-input-1-fd581182ac93>\u001b[0m in \u001b[0;36m<module>\u001b[0;34m()\u001b[0m\n\u001b[1;32m      1\u001b[0m \u001b[0mobjects\u001b[0m \u001b[0;34m=\u001b[0m \u001b[0;34m(\u001b[0m\u001b[0;34m'Python'\u001b[0m\u001b[0;34m,\u001b[0m \u001b[0;34m'C++'\u001b[0m\u001b[0;34m,\u001b[0m \u001b[0;34m'Java'\u001b[0m\u001b[0;34m,\u001b[0m \u001b[0;34m'Perl'\u001b[0m\u001b[0;34m,\u001b[0m \u001b[0;34m'Scala'\u001b[0m\u001b[0;34m,\u001b[0m \u001b[0;34m'Lisp'\u001b[0m\u001b[0;34m)\u001b[0m\u001b[0;34m\u001b[0m\u001b[0;34m\u001b[0m\u001b[0m\n\u001b[0;32m----> 2\u001b[0;31m \u001b[0my_pos\u001b[0m \u001b[0;34m=\u001b[0m \u001b[0mnp\u001b[0m\u001b[0;34m.\u001b[0m\u001b[0marange\u001b[0m\u001b[0;34m(\u001b[0m\u001b[0mlen\u001b[0m\u001b[0;34m(\u001b[0m\u001b[0mobjects\u001b[0m\u001b[0;34m)\u001b[0m\u001b[0;34m)\u001b[0m\u001b[0;34m\u001b[0m\u001b[0;34m\u001b[0m\u001b[0m\n\u001b[0m\u001b[1;32m      3\u001b[0m \u001b[0mperformance\u001b[0m \u001b[0;34m=\u001b[0m \u001b[0;34m[\u001b[0m\u001b[0;36m10\u001b[0m\u001b[0;34m,\u001b[0m\u001b[0;36m8\u001b[0m\u001b[0;34m,\u001b[0m\u001b[0;36m6\u001b[0m\u001b[0;34m,\u001b[0m\u001b[0;36m4\u001b[0m\u001b[0;34m,\u001b[0m\u001b[0;36m2\u001b[0m\u001b[0;34m,\u001b[0m\u001b[0;36m1\u001b[0m\u001b[0;34m]\u001b[0m\u001b[0;34m\u001b[0m\u001b[0;34m\u001b[0m\u001b[0m\n\u001b[1;32m      4\u001b[0m \u001b[0;34m\u001b[0m\u001b[0m\n\u001b[1;32m      5\u001b[0m \u001b[0;31m# Create a bar plot\u001b[0m\u001b[0;34m\u001b[0m\u001b[0;34m\u001b[0m\u001b[0;34m\u001b[0m\u001b[0m\n",
      "\u001b[0;31mNameError\u001b[0m: name 'np' is not defined"
     ]
    }
   ],
   "source": [
    "# plot frequency of some observations using bar chart\n",
    "objects = ('Python', 'C++', 'Java', 'Perl', 'Scala', 'Lisp')\n",
    "y_pos = np.arange(len(objects))\n",
    "performance = [10,8,6,4,2,1]\n",
    " \n",
    "# Create a bar plot\n",
    "plt.xticks(y_pos, objects)\n",
    "plt.ylabel('Usage')\n",
    "plt.title('Programming language usage')\n",
    " \n",
    "plt.show()"
   ]
  },
  {
   "cell_type": "markdown",
   "metadata": {
    "colab_type": "text",
    "id": "KrdPGE5GpkYf"
   },
   "source": [
    "\n",
    "\n",
    "---\n",
    "\n",
    "\n",
    "\n",
    "---\n",
    "\n",
    "\n",
    "\n",
    "> > > > > > > > > © 2019 Institute of Data\n",
    "\n",
    "\n",
    "---\n",
    "\n",
    "\n",
    "\n",
    "---\n",
    "\n",
    "\n",
    "\n"
   ]
  }
 ],
 "metadata": {
  "colab": {
   "collapsed_sections": [],
   "name": "Lab 1.1.3 Statistics - part 1 Lab.ipynb",
   "provenance": [
    {
     "file_id": "https://github.com/ikfaisal/dsia/blob/master/Statistics_part_1.ipynb",
     "timestamp": 1552460911337
    }
   ]
  },
  "kernelspec": {
   "display_name": "Python 3",
   "language": "python",
   "name": "python3"
  },
  "language_info": {
   "codemirror_mode": {
    "name": "ipython",
    "version": 3
   },
   "file_extension": ".py",
   "mimetype": "text/x-python",
   "name": "python",
   "nbconvert_exporter": "python",
   "pygments_lexer": "ipython3",
   "version": "3.8.3"
  }
 },
 "nbformat": 4,
 "nbformat_minor": 1
}
